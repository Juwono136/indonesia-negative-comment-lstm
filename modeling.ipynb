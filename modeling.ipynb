{
 "cells": [
  {
   "attachments": {},
   "cell_type": "markdown",
   "id": "41d85cf0-07e4-4de4-8479-d66a7457afc4",
   "metadata": {},
   "source": [
    "# Setup and import libraries"
   ]
  },
  {
   "cell_type": "code",
   "execution_count": 1,
   "id": "990c010f-c061-4c1d-ad49-3b729a1c1202",
   "metadata": {},
   "outputs": [],
   "source": [
    "import os\n",
    "import numpy as np\n",
    "import pandas as pd\n",
    "import tensorflow as tf"
   ]
  },
  {
   "attachments": {},
   "cell_type": "markdown",
   "id": "cfc58f44-bc19-4ef3-99ef-e05e57e7731a",
   "metadata": {},
   "source": [
    "# Load data"
   ]
  },
  {
   "cell_type": "code",
   "execution_count": 4,
   "id": "0e54ee99-55b8-48c8-a123-f108586bfc84",
   "metadata": {},
   "outputs": [],
   "source": [
    "PROCESSED_DATA_PATH = './data/processed'"
   ]
  },
  {
   "cell_type": "code",
   "execution_count": 5,
   "id": "c0e70e65-ae9d-4284-a681-17f958902cd9",
   "metadata": {},
   "outputs": [],
   "source": [
    "test_data = pd.read_csv(f'{PROCESSED_DATA_PATH}/processed_test.csv')\n",
    "train_data = pd.read_csv(f'{PROCESSED_DATA_PATH}/processed_train.csv')"
   ]
  },
  {
   "cell_type": "code",
   "execution_count": 6,
   "id": "32cb6d6c-dbe0-4a39-82a8-c8597b50aab1",
   "metadata": {},
   "outputs": [
    {
     "data": {
      "text/html": [
       "<div>\n",
       "<style scoped>\n",
       "    .dataframe tbody tr th:only-of-type {\n",
       "        vertical-align: middle;\n",
       "    }\n",
       "\n",
       "    .dataframe tbody tr th {\n",
       "        vertical-align: top;\n",
       "    }\n",
       "\n",
       "    .dataframe thead th {\n",
       "        text-align: right;\n",
       "    }\n",
       "</style>\n",
       "<table border=\"1\" class=\"dataframe\">\n",
       "  <thead>\n",
       "    <tr style=\"text-align: right;\">\n",
       "      <th></th>\n",
       "      <th>original_text</th>\n",
       "      <th>source</th>\n",
       "      <th>pornografi</th>\n",
       "      <th>sara</th>\n",
       "      <th>radikalisme</th>\n",
       "      <th>pencemaran_nama_baik</th>\n",
       "      <th>processed_text</th>\n",
       "    </tr>\n",
       "  </thead>\n",
       "  <tbody>\n",
       "    <tr>\n",
       "      <th>0</th>\n",
       "      <td>[QUOTE=jessepinkman16;5a50ac34d89b093f368b456e...</td>\n",
       "      <td>kaskus</td>\n",
       "      <td>0</td>\n",
       "      <td>0</td>\n",
       "      <td>0</td>\n",
       "      <td>1</td>\n",
       "      <td>jabar memang provinsi barokah boleh juga dan n...</td>\n",
       "    </tr>\n",
       "    <tr>\n",
       "      <th>1</th>\n",
       "      <td>@verosvante kita2 aja nitizen yang pada kepo,t...</td>\n",
       "      <td>instagram</td>\n",
       "      <td>0</td>\n",
       "      <td>0</td>\n",
       "      <td>0</td>\n",
       "      <td>0</td>\n",
       "      <td>kita saja nitizen yang pada penasaran toh kelu...</td>\n",
       "    </tr>\n",
       "    <tr>\n",
       "      <th>2</th>\n",
       "      <td>\"#SidangAhok smg sipenista agama n ateknya mat...</td>\n",
       "      <td>twitter</td>\n",
       "      <td>0</td>\n",
       "      <td>1</td>\n",
       "      <td>1</td>\n",
       "      <td>1</td>\n",
       "      <td>sidangahok semoga sipenista agama dan ateknya ...</td>\n",
       "    </tr>\n",
       "    <tr>\n",
       "      <th>3</th>\n",
       "      <td>@bolususulembang.jkt barusan baca undang2 ini....</td>\n",
       "      <td>instagram</td>\n",
       "      <td>0</td>\n",
       "      <td>0</td>\n",
       "      <td>0</td>\n",
       "      <td>0</td>\n",
       "      <td>jakarta barusan baca undang ini tetap dibedaka...</td>\n",
       "    </tr>\n",
       "    <tr>\n",
       "      <th>4</th>\n",
       "      <td>bikin anak mulu lu nof \\nkaga mikir apa kasian...</td>\n",
       "      <td>kaskus</td>\n",
       "      <td>0</td>\n",
       "      <td>0</td>\n",
       "      <td>0</td>\n",
       "      <td>0</td>\n",
       "      <td>buat anak melulu kamu nof nkaga mikir apa kasi...</td>\n",
       "    </tr>\n",
       "  </tbody>\n",
       "</table>\n",
       "</div>"
      ],
      "text/plain": [
       "                                       original_text     source  pornografi  \\\n",
       "0  [QUOTE=jessepinkman16;5a50ac34d89b093f368b456e...     kaskus           0   \n",
       "1  @verosvante kita2 aja nitizen yang pada kepo,t...  instagram           0   \n",
       "2  \"#SidangAhok smg sipenista agama n ateknya mat...    twitter           0   \n",
       "3  @bolususulembang.jkt barusan baca undang2 ini....  instagram           0   \n",
       "4  bikin anak mulu lu nof \\nkaga mikir apa kasian...     kaskus           0   \n",
       "\n",
       "   sara  radikalisme  pencemaran_nama_baik  \\\n",
       "0     0            0                     1   \n",
       "1     0            0                     0   \n",
       "2     1            1                     1   \n",
       "3     0            0                     0   \n",
       "4     0            0                     0   \n",
       "\n",
       "                                      processed_text  \n",
       "0  jabar memang provinsi barokah boleh juga dan n...  \n",
       "1  kita saja nitizen yang pada penasaran toh kelu...  \n",
       "2  sidangahok semoga sipenista agama dan ateknya ...  \n",
       "3  jakarta barusan baca undang ini tetap dibedaka...  \n",
       "4  buat anak melulu kamu nof nkaga mikir apa kasi...  "
      ]
     },
     "execution_count": 6,
     "metadata": {},
     "output_type": "execute_result"
    }
   ],
   "source": [
    "train_data.head()"
   ]
  },
  {
   "cell_type": "code",
   "execution_count": 7,
   "id": "4346d29d-eefa-4b1c-829f-4cd634795bbd",
   "metadata": {},
   "outputs": [
    {
     "data": {
      "text/html": [
       "<div>\n",
       "<style scoped>\n",
       "    .dataframe tbody tr th:only-of-type {\n",
       "        vertical-align: middle;\n",
       "    }\n",
       "\n",
       "    .dataframe tbody tr th {\n",
       "        vertical-align: top;\n",
       "    }\n",
       "\n",
       "    .dataframe thead th {\n",
       "        text-align: right;\n",
       "    }\n",
       "</style>\n",
       "<table border=\"1\" class=\"dataframe\">\n",
       "  <thead>\n",
       "    <tr style=\"text-align: right;\">\n",
       "      <th></th>\n",
       "      <th>original_text</th>\n",
       "      <th>source</th>\n",
       "      <th>pornografi</th>\n",
       "      <th>sara</th>\n",
       "      <th>radikalisme</th>\n",
       "      <th>pencemaran_nama_baik</th>\n",
       "      <th>processed_text</th>\n",
       "    </tr>\n",
       "  </thead>\n",
       "  <tbody>\n",
       "    <tr>\n",
       "      <th>6990</th>\n",
       "      <td>Mas. Sebenarnya aku gamau bully mas tp kek nya...</td>\n",
       "      <td>instagram</td>\n",
       "      <td>0</td>\n",
       "      <td>0</td>\n",
       "      <td>0</td>\n",
       "      <td>0</td>\n",
       "      <td>mas sebenarnya aku tidak mau buly mas tapi sep...</td>\n",
       "    </tr>\n",
       "    <tr>\n",
       "      <th>6991</th>\n",
       "      <td>Kdang ngaku nicky minaj, kdang beyonce, kdang ...</td>\n",
       "      <td>instagram</td>\n",
       "      <td>0</td>\n",
       "      <td>0</td>\n",
       "      <td>0</td>\n",
       "      <td>0</td>\n",
       "      <td>kdang mengaku nicky minaj kdang beyonce kdang ...</td>\n",
       "    </tr>\n",
       "    <tr>\n",
       "      <th>6992</th>\n",
       "      <td>Time kemas sesuatu tadi, terfikir jugak botol ...</td>\n",
       "      <td>twitter</td>\n",
       "      <td>0</td>\n",
       "      <td>0</td>\n",
       "      <td>1</td>\n",
       "      <td>0</td>\n",
       "      <td>waktu kemas sesuatu tadi terfikir jugak botol ...</td>\n",
       "    </tr>\n",
       "    <tr>\n",
       "      <th>6993</th>\n",
       "      <td>@BasherRL heh kontol, jan sok pemes lu di rp, ...</td>\n",
       "      <td>twitter</td>\n",
       "      <td>1</td>\n",
       "      <td>0</td>\n",
       "      <td>0</td>\n",
       "      <td>1</td>\n",
       "      <td>heh kontol jan sok pemes kamu di rp muka seper...</td>\n",
       "    </tr>\n",
       "    <tr>\n",
       "      <th>6994</th>\n",
       "      <td>Maen bacok\"an yuk\"QueenMutiaa: Kalau kamu suka...</td>\n",
       "      <td>twitter</td>\n",
       "      <td>0</td>\n",
       "      <td>1</td>\n",
       "      <td>1</td>\n",
       "      <td>1</td>\n",
       "      <td>main bacok an ayo quenmutia kalau kamu suka bu...</td>\n",
       "    </tr>\n",
       "  </tbody>\n",
       "</table>\n",
       "</div>"
      ],
      "text/plain": [
       "                                          original_text     source  \\\n",
       "6990  Mas. Sebenarnya aku gamau bully mas tp kek nya...  instagram   \n",
       "6991  Kdang ngaku nicky minaj, kdang beyonce, kdang ...  instagram   \n",
       "6992  Time kemas sesuatu tadi, terfikir jugak botol ...    twitter   \n",
       "6993  @BasherRL heh kontol, jan sok pemes lu di rp, ...    twitter   \n",
       "6994  Maen bacok\"an yuk\"QueenMutiaa: Kalau kamu suka...    twitter   \n",
       "\n",
       "      pornografi  sara  radikalisme  pencemaran_nama_baik  \\\n",
       "6990           0     0            0                     0   \n",
       "6991           0     0            0                     0   \n",
       "6992           0     0            1                     0   \n",
       "6993           1     0            0                     1   \n",
       "6994           0     1            1                     1   \n",
       "\n",
       "                                         processed_text  \n",
       "6990  mas sebenarnya aku tidak mau buly mas tapi sep...  \n",
       "6991  kdang mengaku nicky minaj kdang beyonce kdang ...  \n",
       "6992  waktu kemas sesuatu tadi terfikir jugak botol ...  \n",
       "6993  heh kontol jan sok pemes kamu di rp muka seper...  \n",
       "6994  main bacok an ayo quenmutia kalau kamu suka bu...  "
      ]
     },
     "execution_count": 7,
     "metadata": {},
     "output_type": "execute_result"
    }
   ],
   "source": [
    "train_data.tail()"
   ]
  },
  {
   "attachments": {},
   "cell_type": "markdown",
   "id": "8c868daf-35ef-4a22-b3f8-e504a830deec",
   "metadata": {},
   "source": [
    "# Get the comment text sample"
   ]
  },
  {
   "cell_type": "code",
   "execution_count": 8,
   "id": "6c537243-1912-4680-8ae5-be533e3cbb41",
   "metadata": {},
   "outputs": [
    {
     "data": {
      "text/plain": [
       "'itu membuktikan bahwa rakyat malaysia anti cina indonesia pun juga tapi masih malu kita tungu gerakan anti cina di indonesia'"
      ]
     },
     "execution_count": 8,
     "metadata": {},
     "output_type": "execute_result"
    }
   ],
   "source": [
    "train_data.iloc[5]['processed_text']"
   ]
  },
  {
   "cell_type": "code",
   "execution_count": 9,
   "id": "94a5cd38-2bf4-4ad5-9c90-0f6796a1f2b4",
   "metadata": {},
   "outputs": [
    {
     "data": {
      "text/plain": [
       "pornografi              0\n",
       "sara                    1\n",
       "radikalisme             0\n",
       "pencemaran_nama_baik    1\n",
       "Name: 5, dtype: int64"
      ]
     },
     "execution_count": 9,
     "metadata": {},
     "output_type": "execute_result"
    }
   ],
   "source": [
    "train_data[train_data.columns[2:6]].iloc[5]"
   ]
  },
  {
   "attachments": {},
   "cell_type": "markdown",
   "id": "596afe23-f7de-4874-bffb-d4bdecf3cb84",
   "metadata": {},
   "source": [
    "# Get the comment table sample"
   ]
  },
  {
   "cell_type": "code",
   "execution_count": 10,
   "id": "7ea1def3-2fd5-493c-b68f-0ebcb3628675",
   "metadata": {},
   "outputs": [
    {
     "data": {
      "text/html": [
       "<div>\n",
       "<style scoped>\n",
       "    .dataframe tbody tr th:only-of-type {\n",
       "        vertical-align: middle;\n",
       "    }\n",
       "\n",
       "    .dataframe tbody tr th {\n",
       "        vertical-align: top;\n",
       "    }\n",
       "\n",
       "    .dataframe thead th {\n",
       "        text-align: right;\n",
       "    }\n",
       "</style>\n",
       "<table border=\"1\" class=\"dataframe\">\n",
       "  <thead>\n",
       "    <tr style=\"text-align: right;\">\n",
       "      <th></th>\n",
       "      <th>original_text</th>\n",
       "      <th>source</th>\n",
       "      <th>pornografi</th>\n",
       "      <th>sara</th>\n",
       "      <th>radikalisme</th>\n",
       "      <th>pencemaran_nama_baik</th>\n",
       "      <th>processed_text</th>\n",
       "    </tr>\n",
       "  </thead>\n",
       "  <tbody>\n",
       "    <tr>\n",
       "      <th>2</th>\n",
       "      <td>\"#SidangAhok smg sipenista agama n ateknya mat...</td>\n",
       "      <td>twitter</td>\n",
       "      <td>0</td>\n",
       "      <td>1</td>\n",
       "      <td>1</td>\n",
       "      <td>1</td>\n",
       "      <td>sidangahok semoga sipenista agama dan ateknya ...</td>\n",
       "    </tr>\n",
       "    <tr>\n",
       "      <th>5</th>\n",
       "      <td>Itu membuktikan bahwa rakyat Malaysia Anti-Cin...</td>\n",
       "      <td>kaskus</td>\n",
       "      <td>0</td>\n",
       "      <td>1</td>\n",
       "      <td>0</td>\n",
       "      <td>1</td>\n",
       "      <td>itu membuktikan bahwa rakyat malaysia anti cin...</td>\n",
       "    </tr>\n",
       "    <tr>\n",
       "      <th>11</th>\n",
       "      <td>[color=#111111][size=5][font=Fira Sans]Some Pa...</td>\n",
       "      <td>kaskus</td>\n",
       "      <td>0</td>\n",
       "      <td>1</td>\n",
       "      <td>1</td>\n",
       "      <td>0</td>\n",
       "      <td>font fira sans some pakistanis dan indian musl...</td>\n",
       "    </tr>\n",
       "    <tr>\n",
       "      <th>26</th>\n",
       "      <td>Terus kalo masyarakat papua barat ingin merdek...</td>\n",
       "      <td>twitter</td>\n",
       "      <td>0</td>\n",
       "      <td>1</td>\n",
       "      <td>1</td>\n",
       "      <td>0</td>\n",
       "      <td>terus kalau masyarakat papua barat ingin merde...</td>\n",
       "    </tr>\n",
       "    <tr>\n",
       "      <th>35</th>\n",
       "      <td>orang seminggu sekali brisik udah langsung di ...</td>\n",
       "      <td>kaskus</td>\n",
       "      <td>0</td>\n",
       "      <td>1</td>\n",
       "      <td>0</td>\n",
       "      <td>1</td>\n",
       "      <td>orang semingu sekali brisik sudah langsung di ...</td>\n",
       "    </tr>\n",
       "    <tr>\n",
       "      <th>40</th>\n",
       "      <td>@AGFathur ahaha emang thue gek perang dingin m...</td>\n",
       "      <td>twitter</td>\n",
       "      <td>0</td>\n",
       "      <td>1</td>\n",
       "      <td>1</td>\n",
       "      <td>1</td>\n",
       "      <td>tertawa memang thue gek perang dingin makanya ...</td>\n",
       "    </tr>\n",
       "    <tr>\n",
       "      <th>45</th>\n",
       "      <td>Kemarin2 ada yg minta Khilafah berdiri di Indo...</td>\n",
       "      <td>twitter</td>\n",
       "      <td>0</td>\n",
       "      <td>1</td>\n",
       "      <td>1</td>\n",
       "      <td>0</td>\n",
       "      <td>kemarin ada yang minta khilafah berdiri di ind...</td>\n",
       "    </tr>\n",
       "    <tr>\n",
       "      <th>47</th>\n",
       "      <td>[QUOTE=maxi1991;5719a287947868cb1a8b4570]\\n\\nS...</td>\n",
       "      <td>kaskus</td>\n",
       "      <td>1</td>\n",
       "      <td>1</td>\n",
       "      <td>0</td>\n",
       "      <td>1</td>\n",
       "      <td>dan nsebelum kamu ikutan orang lain dan jadi b...</td>\n",
       "    </tr>\n",
       "    <tr>\n",
       "      <th>49</th>\n",
       "      <td>Tidak ada kata ampun dan maaf kalo rakyat suda...</td>\n",
       "      <td>twitter</td>\n",
       "      <td>0</td>\n",
       "      <td>1</td>\n",
       "      <td>1</td>\n",
       "      <td>1</td>\n",
       "      <td>tidak ada kata ampun dan maf kalau rakyat suda...</td>\n",
       "    </tr>\n",
       "    <tr>\n",
       "      <th>52</th>\n",
       "      <td>Jgn lupa sblm bom bunuh diri bawa viagra inex ...</td>\n",
       "      <td>twitter</td>\n",
       "      <td>0</td>\n",
       "      <td>1</td>\n",
       "      <td>1</td>\n",
       "      <td>1</td>\n",
       "      <td>jangan lupa sebelum bom bunuh diri bawa viagra...</td>\n",
       "    </tr>\n",
       "  </tbody>\n",
       "</table>\n",
       "</div>"
      ],
      "text/plain": [
       "                                        original_text   source  pornografi  \\\n",
       "2   \"#SidangAhok smg sipenista agama n ateknya mat...  twitter           0   \n",
       "5   Itu membuktikan bahwa rakyat Malaysia Anti-Cin...   kaskus           0   \n",
       "11  [color=#111111][size=5][font=Fira Sans]Some Pa...   kaskus           0   \n",
       "26  Terus kalo masyarakat papua barat ingin merdek...  twitter           0   \n",
       "35  orang seminggu sekali brisik udah langsung di ...   kaskus           0   \n",
       "40  @AGFathur ahaha emang thue gek perang dingin m...  twitter           0   \n",
       "45  Kemarin2 ada yg minta Khilafah berdiri di Indo...  twitter           0   \n",
       "47  [QUOTE=maxi1991;5719a287947868cb1a8b4570]\\n\\nS...   kaskus           1   \n",
       "49  Tidak ada kata ampun dan maaf kalo rakyat suda...  twitter           0   \n",
       "52  Jgn lupa sblm bom bunuh diri bawa viagra inex ...  twitter           0   \n",
       "\n",
       "    sara  radikalisme  pencemaran_nama_baik  \\\n",
       "2      1            1                     1   \n",
       "5      1            0                     1   \n",
       "11     1            1                     0   \n",
       "26     1            1                     0   \n",
       "35     1            0                     1   \n",
       "40     1            1                     1   \n",
       "45     1            1                     0   \n",
       "47     1            0                     1   \n",
       "49     1            1                     1   \n",
       "52     1            1                     1   \n",
       "\n",
       "                                       processed_text  \n",
       "2   sidangahok semoga sipenista agama dan ateknya ...  \n",
       "5   itu membuktikan bahwa rakyat malaysia anti cin...  \n",
       "11  font fira sans some pakistanis dan indian musl...  \n",
       "26  terus kalau masyarakat papua barat ingin merde...  \n",
       "35  orang semingu sekali brisik sudah langsung di ...  \n",
       "40  tertawa memang thue gek perang dingin makanya ...  \n",
       "45  kemarin ada yang minta khilafah berdiri di ind...  \n",
       "47  dan nsebelum kamu ikutan orang lain dan jadi b...  \n",
       "49  tidak ada kata ampun dan maf kalau rakyat suda...  \n",
       "52  jangan lupa sebelum bom bunuh diri bawa viagra...  "
      ]
     },
     "execution_count": 10,
     "metadata": {},
     "output_type": "execute_result"
    }
   ],
   "source": [
    "train_data[train_data['sara'] == 1].head(10)"
   ]
  },
  {
   "attachments": {},
   "cell_type": "markdown",
   "id": "c3780666-b7db-4c0d-9846-4b3922150b81",
   "metadata": {},
   "source": [
    "# Preprocessing"
   ]
  },
  {
   "cell_type": "code",
   "execution_count": 11,
   "id": "7623e46d-2df2-4b54-962c-b79200c39728",
   "metadata": {},
   "outputs": [],
   "source": [
    "# split sentences and labels\n",
    "\n",
    "sentences = train_data['processed_text']\n",
    "labels = train_data[train_data.columns[2:6]].values"
   ]
  },
  {
   "cell_type": "code",
   "execution_count": 12,
   "id": "68921e67-c569-4e79-b883-1e9d7e2094db",
   "metadata": {},
   "outputs": [
    {
     "data": {
      "text/plain": [
       "0       jabar memang provinsi barokah boleh juga dan n...\n",
       "1       kita saja nitizen yang pada penasaran toh kelu...\n",
       "2       sidangahok semoga sipenista agama dan ateknya ...\n",
       "3       jakarta barusan baca undang ini tetap dibedaka...\n",
       "4       buat anak melulu kamu nof nkaga mikir apa kasi...\n",
       "                              ...                        \n",
       "6990    mas sebenarnya aku tidak mau buly mas tapi sep...\n",
       "6991    kdang mengaku nicky minaj kdang beyonce kdang ...\n",
       "6992    waktu kemas sesuatu tadi terfikir jugak botol ...\n",
       "6993    heh kontol jan sok pemes kamu di rp muka seper...\n",
       "6994    main bacok an ayo quenmutia kalau kamu suka bu...\n",
       "Name: processed_text, Length: 6995, dtype: object"
      ]
     },
     "execution_count": 12,
     "metadata": {},
     "output_type": "execute_result"
    }
   ],
   "source": [
    "sentences"
   ]
  },
  {
   "cell_type": "code",
   "execution_count": 13,
   "id": "01d202fa-bcc7-4189-8450-bfb5bf5fac98",
   "metadata": {},
   "outputs": [
    {
     "data": {
      "text/plain": [
       "array([[0, 0, 0, 1],\n",
       "       [0, 0, 0, 0],\n",
       "       [0, 1, 1, 1],\n",
       "       ...,\n",
       "       [0, 0, 1, 0],\n",
       "       [1, 0, 0, 1],\n",
       "       [0, 1, 1, 1]], dtype=int64)"
      ]
     },
     "execution_count": 13,
     "metadata": {},
     "output_type": "execute_result"
    }
   ],
   "source": [
    "labels"
   ]
  },
  {
   "cell_type": "code",
   "execution_count": 14,
   "id": "c9a8e7ce",
   "metadata": {},
   "outputs": [],
   "source": [
    "# Hyperparameter\n",
    "max_features = 200000\n",
    "max_length = 1800"
   ]
  },
  {
   "cell_type": "code",
   "execution_count": 15,
   "id": "47aef318",
   "metadata": {},
   "outputs": [],
   "source": [
    "from tensorflow.keras.layers import TextVectorization\n",
    "\n",
    "vectorizer = TextVectorization(max_tokens=max_features,\n",
    "                              output_sequence_length=max_length,\n",
    "                              output_mode='int')"
   ]
  },
  {
   "cell_type": "code",
   "execution_count": 16,
   "id": "e87fa9da",
   "metadata": {},
   "outputs": [],
   "source": [
    "# convert from pandas series to numpy\n",
    "vectorizer.adapt(sentences.values)"
   ]
  },
  {
   "cell_type": "code",
   "execution_count": 17,
   "id": "3acc0d93",
   "metadata": {},
   "outputs": [
    {
     "data": {
      "text/plain": [
       "['',\n",
       " '[UNK]',\n",
       " 'dan',\n",
       " 'yang',\n",
       " 'di',\n",
       " 'tidak',\n",
       " 'kamu',\n",
       " 'tertawa',\n",
       " 'itu',\n",
       " 'ini',\n",
       " 'saja',\n",
       " 'orang',\n",
       " 'kalau',\n",
       " 'ada',\n",
       " 'iya',\n",
       " 'saya',\n",
       " 'dengan',\n",
       " 'sudah',\n",
       " 'aku',\n",
       " 'quot',\n",
       " 'sama',\n",
       " 'dari',\n",
       " 'juga',\n",
       " 'mau',\n",
       " 'bisa',\n",
       " 'seperti',\n",
       " 'ke',\n",
       " 'nya',\n",
       " 'apa',\n",
       " 'jadi',\n",
       " 'untuk',\n",
       " 'tapi',\n",
       " 'rt',\n",
       " 'dia',\n",
       " 'agama',\n",
       " 'mereka',\n",
       " 'lagi',\n",
       " 'indonesia',\n",
       " 'kita',\n",
       " 'hanya',\n",
       " 'karena',\n",
       " 'islam',\n",
       " 'kafir',\n",
       " 'buat',\n",
       " 'sih',\n",
       " 'kontol',\n",
       " 'akan',\n",
       " 'atau',\n",
       " 'lebih',\n",
       " 'memek',\n",
       " 'dalam',\n",
       " 'bukan',\n",
       " 'negara',\n",
       " 'tahu',\n",
       " 'sampai',\n",
       " 'memang',\n",
       " 'jangan',\n",
       " 'sekali',\n",
       " 'pada',\n",
       " 'cina',\n",
       " 'banyak',\n",
       " 'kan',\n",
       " 'kok',\n",
       " 'masih',\n",
       " 'harus',\n",
       " 'semua',\n",
       " 'begitu',\n",
       " 'adalah',\n",
       " 'pakai',\n",
       " 'anak',\n",
       " 'punya',\n",
       " 'baik',\n",
       " 'anda',\n",
       " 'papua',\n",
       " 'lah',\n",
       " 'suka',\n",
       " 'mana',\n",
       " 'kami',\n",
       " 'lain',\n",
       " 'boleh',\n",
       " 'oleh',\n",
       " 'ingin',\n",
       " 'bom',\n",
       " 'bodoh',\n",
       " 'alah',\n",
       " 'terus',\n",
       " 'bahkan',\n",
       " 'khilafah',\n",
       " 'font',\n",
       " 'bunuh',\n",
       " 'sans',\n",
       " 'tahun',\n",
       " 'ayo',\n",
       " 'serif',\n",
       " 'muslim',\n",
       " 'diri',\n",
       " 'baru',\n",
       " 'sendiri',\n",
       " 'kalian',\n",
       " 'langsung',\n",
       " 'benar',\n",
       " 'masuk',\n",
       " 'tetek',\n",
       " 'kakak',\n",
       " 'bilang',\n",
       " 'foto',\n",
       " 'lihat',\n",
       " 'sebagai',\n",
       " 'pasti',\n",
       " 'kali',\n",
       " 'besar',\n",
       " 'tersebut',\n",
       " 'owo',\n",
       " 'dulu',\n",
       " 'biar',\n",
       " 'kenapa',\n",
       " 'sekarang',\n",
       " 'belum',\n",
       " 'pernah',\n",
       " 'mbak',\n",
       " 'anjing',\n",
       " 'salah',\n",
       " 'com',\n",
       " 'satu',\n",
       " 'nabi',\n",
       " 'remas',\n",
       " 'wanita',\n",
       " 'sok',\n",
       " 'siapa',\n",
       " 'n',\n",
       " 'ahok',\n",
       " 'hari',\n",
       " 'cewek',\n",
       " 'laki',\n",
       " 'manusia',\n",
       " 'menjadi',\n",
       " 'jika',\n",
       " 'para',\n",
       " 'sat',\n",
       " 'dapat',\n",
       " 'kepada',\n",
       " 'kaya',\n",
       " 'umat',\n",
       " 'muka',\n",
       " 'juragan',\n",
       " 'banci',\n",
       " 'sini',\n",
       " 'bagaimana',\n",
       " 'al',\n",
       " 'perlu',\n",
       " 'rp',\n",
       " 'presiden',\n",
       " 'twiter',\n",
       " 'kata',\n",
       " 'tuhan',\n",
       " 'a',\n",
       " 'babi',\n",
       " 'usir',\n",
       " 'dunia',\n",
       " 'mas',\n",
       " 'jakarta',\n",
       " 'rumah',\n",
       " 'tua',\n",
       " 'jelas',\n",
       " 'monyet',\n",
       " 'atas',\n",
       " 'ah',\n",
       " 'mungkin',\n",
       " 'tetap',\n",
       " 'deh',\n",
       " 'bahwa',\n",
       " 'susu',\n",
       " 'hidup',\n",
       " 'sayang',\n",
       " 'mati',\n",
       " 'jalan',\n",
       " 'kasih',\n",
       " 'nomor',\n",
       " 'palsu',\n",
       " 'asli',\n",
       " 'sana',\n",
       " 'nama',\n",
       " 'pun',\n",
       " 'bagi',\n",
       " 'paling',\n",
       " 'ganyang',\n",
       " 'whatsap',\n",
       " 'jokowi',\n",
       " 'begini',\n",
       " 'url',\n",
       " 'dong',\n",
       " 'helvetica',\n",
       " 'nanti',\n",
       " 'perempuan',\n",
       " 'warga',\n",
       " 'k',\n",
       " 'hal',\n",
       " 'telah',\n",
       " 'seorang',\n",
       " 'daerah',\n",
       " 'bicara',\n",
       " 'uang',\n",
       " 'sangat',\n",
       " 'maka',\n",
       " 'mah',\n",
       " 'sange',\n",
       " 'tanpa',\n",
       " 'sengama',\n",
       " 'hati',\n",
       " 'seks',\n",
       " 'republik',\n",
       " 'cara',\n",
       " 'coba',\n",
       " 'waktu',\n",
       " 'aje',\n",
       " 'sedang',\n",
       " 'lalu',\n",
       " 'instagram',\n",
       " 'lho',\n",
       " 'teroris',\n",
       " 'sepong',\n",
       " 'setelah',\n",
       " 'malu',\n",
       " 'pas',\n",
       " 'masyarakat',\n",
       " 'wakaka',\n",
       " 'padahal',\n",
       " 'ia',\n",
       " 'surga',\n",
       " 'akun',\n",
       " 'secara',\n",
       " 'gereja',\n",
       " 'masalah',\n",
       " 'main',\n",
       " 'bakar',\n",
       " 'makin',\n",
       " 'eh',\n",
       " 'jan',\n",
       " 'kotoran',\n",
       " 'heh',\n",
       " 'bagus',\n",
       " 'kepala',\n",
       " 'masa',\n",
       " 'jihad',\n",
       " 'hukum',\n",
       " 'dasar',\n",
       " 'video',\n",
       " 'selalu',\n",
       " 'pak',\n",
       " 'tu',\n",
       " 'hitam',\n",
       " 'biasa',\n",
       " 'tentang',\n",
       " 'nikah',\n",
       " 'pemes',\n",
       " 'yah',\n",
       " 'luar',\n",
       " 'bulan',\n",
       " 'otak',\n",
       " 'kaum',\n",
       " 'harga',\n",
       " 'melakukan',\n",
       " 'cowok',\n",
       " 'bangsa',\n",
       " 'tante',\n",
       " 'ibu',\n",
       " 'kristen',\n",
       " 'enak',\n",
       " 'bakal',\n",
       " 'to',\n",
       " 'tempat',\n",
       " 'keluarga',\n",
       " 'kak',\n",
       " 'ternyata',\n",
       " 'maf',\n",
       " 'baca',\n",
       " 'pic',\n",
       " 'of',\n",
       " 'amp',\n",
       " 'soal',\n",
       " 'setiap',\n",
       " 'lama',\n",
       " 'membuat',\n",
       " 'kesatuan',\n",
       " 'situ',\n",
       " 'lewat',\n",
       " 'ajaran',\n",
       " 'porno',\n",
       " 'mulai',\n",
       " 'minta',\n",
       " 'khusus',\n",
       " 'istri',\n",
       " 'pisah',\n",
       " 'mengaku',\n",
       " 'makan',\n",
       " 'gb',\n",
       " 'cantik',\n",
       " 'arial',\n",
       " 'agar',\n",
       " 'sebelum',\n",
       " 'pesan',\n",
       " 'ngewe',\n",
       " 'negeri',\n",
       " 'korban',\n",
       " 'makanya',\n",
       " 'an',\n",
       " 'amerika',\n",
       " 'namun',\n",
       " 'tolol',\n",
       " 'mu',\n",
       " 'mantan',\n",
       " 'datang',\n",
       " 'nah',\n",
       " 'kerja',\n",
       " 'beberapa',\n",
       " 'berkomentar',\n",
       " 'zaman',\n",
       " 'ulama',\n",
       " 'teriak',\n",
       " 'ikut',\n",
       " 'cuma',\n",
       " 'aman',\n",
       " 'cari',\n",
       " 'yesus',\n",
       " 'teman',\n",
       " 'malam',\n",
       " 'lainlain',\n",
       " 'sambil',\n",
       " 'macam',\n",
       " 'in',\n",
       " 'katanya',\n",
       " 'daripada',\n",
       " 'apalagi',\n",
       " 'takut',\n",
       " 'gratis',\n",
       " 'sempit',\n",
       " 'pemerintah',\n",
       " 'ku',\n",
       " 'jembut',\n",
       " 'jam',\n",
       " 'tanah',\n",
       " 'suami',\n",
       " 'kembali',\n",
       " 'senyum',\n",
       " 'semoga',\n",
       " 'kena',\n",
       " 'i',\n",
       " 'bawa',\n",
       " 'arab',\n",
       " 'selama',\n",
       " 'sakit',\n",
       " 'fatah',\n",
       " 'beda',\n",
       " 'dua',\n",
       " 'media',\n",
       " 'ketika',\n",
       " 'administrator',\n",
       " 'telepon',\n",
       " 'obat',\n",
       " 'cepat',\n",
       " 'bahan',\n",
       " 'siap',\n",
       " 'polisi',\n",
       " 'keluar',\n",
       " 's',\n",
       " 'janda',\n",
       " 'namanya',\n",
       " 'lebat',\n",
       " 'habis',\n",
       " 'ustaz',\n",
       " 'beli',\n",
       " 'tingal',\n",
       " 'rakyat',\n",
       " 'masjid',\n",
       " 'rb',\n",
       " 'pihak',\n",
       " 'jauh',\n",
       " 'folowers',\n",
       " 'bapak',\n",
       " 'terjadi',\n",
       " 'terhadap',\n",
       " 'juta',\n",
       " 'asal',\n",
       " 'perang',\n",
       " 'm',\n",
       " 'sesuai',\n",
       " 'perawan',\n",
       " 'paham',\n",
       " 'muhamad',\n",
       " 'sering',\n",
       " 'seluruh',\n",
       " 'pelaku',\n",
       " 'marah',\n",
       " 'kecil',\n",
       " 'kalah',\n",
       " 'pantat',\n",
       " 'mata',\n",
       " 'daring',\n",
       " 'pria',\n",
       " 'merasa',\n",
       " 'lonte',\n",
       " 'habib',\n",
       " 'cek',\n",
       " 'terima',\n",
       " 'pula',\n",
       " 'politik',\n",
       " 'menurut',\n",
       " 'mengikuti',\n",
       " 'gila',\n",
       " 'as',\n",
       " 'pembela',\n",
       " 'netizen',\n",
       " 'memiliki',\n",
       " 'dosa',\n",
       " 'anti',\n",
       " 'sebentar',\n",
       " 'ayat',\n",
       " 'lucinta',\n",
       " 'neraka',\n",
       " 'melihat',\n",
       " 'hinga',\n",
       " 'bispak',\n",
       " 'tahrir',\n",
       " 'suara',\n",
       " 'proses',\n",
       " 'memberikan',\n",
       " 'kota',\n",
       " 'kasus',\n",
       " 'jawa',\n",
       " 'hizbut',\n",
       " 'front',\n",
       " 'bin',\n",
       " 'bangsat',\n",
       " 'apakah',\n",
       " 'ejakulasi',\n",
       " 'berani',\n",
       " 'partai',\n",
       " 'naik',\n",
       " 'kelihatan',\n",
       " 'gara',\n",
       " 'e',\n",
       " 'air',\n",
       " 'hasil',\n",
       " 'depan',\n",
       " 'bertanya',\n",
       " 'barang',\n",
       " 'mengatakan',\n",
       " 'badan',\n",
       " 'amat',\n",
       " 'tengah',\n",
       " 'semakin',\n",
       " 'kurang',\n",
       " 'informasi',\n",
       " 'gtu',\n",
       " 'tetapi',\n",
       " 'serta',\n",
       " 'sehinga',\n",
       " 'fitnah',\n",
       " 'yahudi',\n",
       " 'tangan',\n",
       " 'pulang',\n",
       " 'ny',\n",
       " 'murah',\n",
       " 'berita',\n",
       " 'beliau',\n",
       " 'subhanahuwatala',\n",
       " 'ngak',\n",
       " 'new',\n",
       " 'sampah',\n",
       " 'non',\n",
       " 'adik',\n",
       " 'tiap',\n",
       " 'sebuah',\n",
       " 'pelayanan',\n",
       " 'paha',\n",
       " 'organisasi',\n",
       " 'gengam',\n",
       " 'cukup',\n",
       " 'percaya',\n",
       " 'mulut',\n",
       " 'halal',\n",
       " 'antara',\n",
       " 'aneh',\n",
       " 'silakan',\n",
       " 'pertama',\n",
       " 'membunuh',\n",
       " 'jual',\n",
       " 'gubernur',\n",
       " 'bersama',\n",
       " 'bawah',\n",
       " 'tukang',\n",
       " 'terlalu',\n",
       " 'segala',\n",
       " 'p',\n",
       " 'kasian',\n",
       " 'luna',\n",
       " 'dilakukan',\n",
       " 'cerita',\n",
       " 'yaitu',\n",
       " 'penting',\n",
       " 'melalui',\n",
       " 'jemput',\n",
       " 'he',\n",
       " 'bonus',\n",
       " 'bego',\n",
       " 'tepat',\n",
       " 'mencari',\n",
       " 'kebencian',\n",
       " 'akhirnya',\n",
       " 'najis',\n",
       " 'minyak',\n",
       " 'jelek',\n",
       " 'ganti',\n",
       " 'demi',\n",
       " 'buka',\n",
       " 'lato',\n",
       " 'kemudian',\n",
       " 'balik',\n",
       " 'bagian',\n",
       " 'urusan',\n",
       " 'pribumi',\n",
       " 'ngereja',\n",
       " 'neue',\n",
       " 'bumi',\n",
       " 'bukti',\n",
       " 'bokepindo',\n",
       " 'bandara',\n",
       " 'alasan',\n",
       " 'sesama',\n",
       " 'salat',\n",
       " 'pemesanan',\n",
       " 'kaskus',\n",
       " 'ingat',\n",
       " 'ibadah',\n",
       " 'aduh',\n",
       " 'tinggi',\n",
       " 't',\n",
       " 'sosial',\n",
       " 'sebenarnya',\n",
       " 'gadis',\n",
       " 'surat',\n",
       " 'jawab',\n",
       " 'dirinya',\n",
       " 'berarti',\n",
       " 'bebas',\n",
       " 'toko',\n",
       " 'terpercaya',\n",
       " 'sadar',\n",
       " 'nkalo',\n",
       " 'ndan',\n",
       " 'nasbung',\n",
       " 'lupa',\n",
       " 'kartu',\n",
       " 'asing',\n",
       " 'oh',\n",
       " 'kulit',\n",
       " 'justru',\n",
       " 'hak',\n",
       " 'timur',\n",
       " 'seksi',\n",
       " 'radikal',\n",
       " 'lainya',\n",
       " 'korupsi',\n",
       " 'ibukota',\n",
       " 'sejarah',\n",
       " 'roman',\n",
       " 'pamer',\n",
       " 'chat',\n",
       " 'bisyar',\n",
       " 'susah',\n",
       " 'setan',\n",
       " 'puting',\n",
       " 'pemimpin',\n",
       " 'pancasila',\n",
       " 'mengerti',\n",
       " 'isi',\n",
       " 'g',\n",
       " 'selain',\n",
       " 'segera',\n",
       " 'quran',\n",
       " 'mayoritas',\n",
       " 'kira',\n",
       " 'keturunan',\n",
       " 'hina',\n",
       " 'bugil',\n",
       " 'baju',\n",
       " 'supaya',\n",
       " 'suci',\n",
       " 'sejak',\n",
       " 'sedih',\n",
       " 'masing',\n",
       " 'diam',\n",
       " 'times',\n",
       " 'tentu',\n",
       " 'tanya',\n",
       " 'rasa',\n",
       " 'minat',\n",
       " 'jarang',\n",
       " 'vcs',\n",
       " 'that',\n",
       " 'tadi',\n",
       " 'rasululah',\n",
       " 'promo',\n",
       " 'muda',\n",
       " 'l',\n",
       " 'buku',\n",
       " 'umum',\n",
       " 'panjang',\n",
       " 'o',\n",
       " 'hijrah',\n",
       " 'customer',\n",
       " 'bule',\n",
       " 'berapa',\n",
       " 'bahasa',\n",
       " 'pki',\n",
       " 'penulis',\n",
       " 'pasal',\n",
       " 'miskin',\n",
       " 'kemarin',\n",
       " 'haram',\n",
       " 'dekat',\n",
       " 'bayar',\n",
       " 'barat',\n",
       " 'anaknya',\n",
       " 'aksi',\n",
       " 'tong',\n",
       " 'sebelah',\n",
       " 'putih',\n",
       " 'pergi',\n",
       " 'parah',\n",
       " 'om',\n",
       " 'oke',\n",
       " 'memekbasah',\n",
       " 'keadilan',\n",
       " 'damai',\n",
       " 'cinta',\n",
       " 'suatu',\n",
       " 'penuh',\n",
       " 'ntapi',\n",
       " 'mikir',\n",
       " 'meikarta',\n",
       " 'kedua',\n",
       " 'butuh',\n",
       " 'abg',\n",
       " 'wajar',\n",
       " 'turun',\n",
       " 'sedikit',\n",
       " 'pikir',\n",
       " 'melulu',\n",
       " 'maksud',\n",
       " 'line',\n",
       " 'kitab',\n",
       " 'diangap',\n",
       " 'bank',\n",
       " 'anies',\n",
       " 'tobat',\n",
       " 'terbaik',\n",
       " 'sikap',\n",
       " 'plus',\n",
       " 'pemain',\n",
       " 'kuat',\n",
       " 'hot',\n",
       " 'dikit',\n",
       " 'demo',\n",
       " 'berkata',\n",
       " 'bang',\n",
       " 'termasuk',\n",
       " 'tegakan',\n",
       " 'system',\n",
       " 'saudara',\n",
       " 'roboto',\n",
       " 'pasangan',\n",
       " 'merdeka',\n",
       " 'masukan',\n",
       " 'lagu',\n",
       " 'israel',\n",
       " 'eropa',\n",
       " 'bingung',\n",
       " 'x',\n",
       " 'sekolah',\n",
       " 'resmi',\n",
       " 'milik',\n",
       " 'keras',\n",
       " 'jijik',\n",
       " 'benci',\n",
       " 'tulisan',\n",
       " 'toh',\n",
       " 'sang',\n",
       " 'pindah',\n",
       " 'penista',\n",
       " 'nkalau',\n",
       " 'nastak',\n",
       " 'lucu',\n",
       " 'itulah',\n",
       " 'it',\n",
       " 'id',\n",
       " 'darah',\n",
       " 'bidadari',\n",
       " 'tidur',\n",
       " 'sekitar',\n",
       " 'saling',\n",
       " 'pribadi',\n",
       " 'menghina',\n",
       " 'mendapatkan',\n",
       " 'link',\n",
       " 'kelakuan',\n",
       " 'gagal',\n",
       " 'belajar',\n",
       " 'apapun',\n",
       " 'yakin',\n",
       " 'tanda',\n",
       " 'sekalian',\n",
       " 'sara',\n",
       " 'palestina',\n",
       " 'nge',\n",
       " 'munafik',\n",
       " 'modal',\n",
       " 'mirip',\n",
       " 'mewek',\n",
       " 'lawan',\n",
       " 'biasanya',\n",
       " 'babu',\n",
       " 'aturan',\n",
       " 'mikrotik',\n",
       " 'mengunakan',\n",
       " 'kayaknya',\n",
       " 'film',\n",
       " 'facebok',\n",
       " 'sebelumnya',\n",
       " 'pagi',\n",
       " 'njadi',\n",
       " 'ndi',\n",
       " 'lemparbata',\n",
       " 'lelaki',\n",
       " 'beragama',\n",
       " 'umur',\n",
       " 'sistem',\n",
       " 'pemilihan',\n",
       " 'onta',\n",
       " 'merupakan',\n",
       " 'kapan',\n",
       " 'kaki',\n",
       " 'jasa',\n",
       " 'imam',\n",
       " 'heran',\n",
       " 'basah',\n",
       " 'amoy',\n",
       " 'abu',\n",
       " 'selamat',\n",
       " 'pejabat',\n",
       " 'payudara',\n",
       " 'meminta',\n",
       " 'kuota',\n",
       " 'kmu',\n",
       " 'kehidupan',\n",
       " 'kebanyakan',\n",
       " 'isis',\n",
       " 'hebat',\n",
       " 'hai',\n",
       " 'gosong',\n",
       " 'fira',\n",
       " 'dilarang',\n",
       " 'dibelai',\n",
       " 'bocah',\n",
       " 'berbagai',\n",
       " 'awal',\n",
       " 'aple',\n",
       " 'adanya',\n",
       " 'tolong',\n",
       " 'tangal',\n",
       " 'sempat',\n",
       " 'sejahtera',\n",
       " 'sedangkan',\n",
       " 'saw',\n",
       " 'rizieq',\n",
       " 'produk',\n",
       " 'penjara',\n",
       " 'pendukung',\n",
       " 'nyg',\n",
       " 'nonton',\n",
       " 'nlu',\n",
       " 'komentar',\n",
       " 'kelompok',\n",
       " 'kejadian',\n",
       " 'kasar',\n",
       " 'dijamin',\n",
       " 'bila',\n",
       " 'b',\n",
       " 'artis',\n",
       " 'wong',\n",
       " 'tubuh',\n",
       " 'tiba',\n",
       " 'siri',\n",
       " 'setuju',\n",
       " 'ras',\n",
       " 'pulau',\n",
       " 'pengikut',\n",
       " 'pacar',\n",
       " 'mencela',\n",
       " 'mampu',\n",
       " 'ketua',\n",
       " 'jilat',\n",
       " 'hubungan',\n",
       " 'gampang',\n",
       " 'fakta',\n",
       " 'emak',\n",
       " 'berbeda',\n",
       " 'bali',\n",
       " 'walaupun',\n",
       " 'w',\n",
       " 'undang',\n",
       " 'ui',\n",
       " 'tungu',\n",
       " 'tolak',\n",
       " 'senang',\n",
       " 'sehat',\n",
       " 'sebab',\n",
       " 'rezim',\n",
       " 'orng',\n",
       " 'net',\n",
       " 'muncul',\n",
       " 'minum',\n",
       " 'mendukung',\n",
       " 'isu',\n",
       " 'ditangkap',\n",
       " 'contoh',\n",
       " 'buruk',\n",
       " 'ber',\n",
       " 'bantu',\n",
       " 'banga',\n",
       " 'ubuntu',\n",
       " 'thread',\n",
       " 'selesai',\n",
       " 'nitu',\n",
       " 'lakukan',\n",
       " 'lahir',\n",
       " 'jilmek',\n",
       " 'droid',\n",
       " 'coli',\n",
       " 'budha',\n",
       " 'buatan',\n",
       " 'wish',\n",
       " 'up',\n",
       " 'travel',\n",
       " 'sumber',\n",
       " 'sibuk',\n",
       " 'sesunguhnya',\n",
       " 'segoe',\n",
       " 'sales',\n",
       " 'ribu',\n",
       " 'rata',\n",
       " 'pilih',\n",
       " 'oxygen',\n",
       " 'menang',\n",
       " 'malaysia',\n",
       " 'ktp',\n",
       " 'kini',\n",
       " 'ilmu',\n",
       " 'hapus',\n",
       " 'cantarel',\n",
       " 'bisnis',\n",
       " 'bela',\n",
       " 'batu',\n",
       " 'wakil',\n",
       " 'tim',\n",
       " 'suruh',\n",
       " 'semuanya',\n",
       " 'rusak',\n",
       " 'maju',\n",
       " 'lempar',\n",
       " 'ketemu',\n",
       " 'kantor',\n",
       " 'iri',\n",
       " 'imlek',\n",
       " 'ful',\n",
       " 'dekil',\n",
       " 'blinkmacsystemfont',\n",
       " 'agak',\n",
       " 'wajah',\n",
       " 'tv',\n",
       " 'situs',\n",
       " 'sesat',\n",
       " 'pinter',\n",
       " 'peduli',\n",
       " 'nada',\n",
       " 'na',\n",
       " 'mudah',\n",
       " 'mobil',\n",
       " 'mingu',\n",
       " 'jumat',\n",
       " 'jepang',\n",
       " 'indon',\n",
       " 'h',\n",
       " 'domba',\n",
       " 'buah',\n",
       " 'bernama',\n",
       " 'bekas',\n",
       " 'bangun',\n",
       " 'amin',\n",
       " 'ambil',\n",
       " 'v',\n",
       " 'tujuan',\n",
       " 'tambah',\n",
       " 'somad',\n",
       " 'soalnya',\n",
       " 'sebagian',\n",
       " 'raja',\n",
       " 'poligami',\n",
       " 'pantas',\n",
       " 'nkarena',\n",
       " 'mesum',\n",
       " 'make',\n",
       " 'maha',\n",
       " 'jilbab',\n",
       " 'halu',\n",
       " 'guru',\n",
       " 'dirikan',\n",
       " 'bukanya',\n",
       " 'bla',\n",
       " 'berbuat',\n",
       " 'bahagia',\n",
       " 'alias',\n",
       " 'aisyah',\n",
       " 'wah',\n",
       " 'surabaya',\n",
       " 'sukses',\n",
       " 'sipit',\n",
       " 'sah',\n",
       " 'perusahan',\n",
       " 'nane',\n",
       " 'mandi',\n",
       " 'kecuali',\n",
       " 'hampir',\n",
       " 'golongan',\n",
       " 'bokepsemi',\n",
       " 'bareng',\n",
       " 'ateis',\n",
       " 'agamanya',\n",
       " 'yahya',\n",
       " 'woi',\n",
       " 'wilayah',\n",
       " 'view',\n",
       " 'sapi',\n",
       " 'qs',\n",
       " 'pura',\n",
       " 'profesional',\n",
       " 'panas',\n",
       " 'nafsu',\n",
       " 'menungu',\n",
       " 'menikah',\n",
       " 'isinya',\n",
       " 'im',\n",
       " 'doa',\n",
       " 'dibilang',\n",
       " 'cd',\n",
       " 'bentuk',\n",
       " 'bantuan',\n",
       " 'artinya',\n",
       " 'untung',\n",
       " 'tipu',\n",
       " 'team',\n",
       " 'sifat',\n",
       " 'sementara',\n",
       " 'putri',\n",
       " 'program',\n",
       " 'pertanyan',\n",
       " 'pembenci',\n",
       " 'nyata',\n",
       " 'njangan',\n",
       " 'mulus',\n",
       " 'mantap',\n",
       " 'ketahuan',\n",
       " 'kenal',\n",
       " 'jumlah',\n",
       " 'internet',\n",
       " 'hadis',\n",
       " 'fuck',\n",
       " 'cocok',\n",
       " 'birahi',\n",
       " 'betul',\n",
       " 'bagikan',\n",
       " 'titit',\n",
       " 'so',\n",
       " 'sempurna',\n",
       " 'perasan',\n",
       " 'oplas',\n",
       " 'ngw',\n",
       " 'mohon',\n",
       " 'mesti',\n",
       " 'mendapat',\n",
       " 'malang',\n",
       " 'maki',\n",
       " 'lanjut',\n",
       " 'jerawat',\n",
       " 'ih',\n",
       " 'gaya',\n",
       " 'disebut',\n",
       " 'demikian',\n",
       " 'buly',\n",
       " 'berubah',\n",
       " ...]"
      ]
     },
     "execution_count": 17,
     "metadata": {},
     "output_type": "execute_result"
    }
   ],
   "source": [
    "vectorizer.get_vocabulary()"
   ]
  },
  {
   "cell_type": "code",
   "execution_count": 18,
   "id": "e718750e",
   "metadata": {},
   "outputs": [
    {
     "data": {
      "text/plain": [
       "<tf.Tensor: shape=(10,), dtype=int64, numpy=\n",
       "array([ 131,    9,  202, 6182,    2, 3632,  255,    0,    0,    0],\n",
       "      dtype=int64)>"
      ]
     },
     "execution_count": 18,
     "metadata": {},
     "output_type": "execute_result"
    }
   ],
   "source": [
    "vectorizer('Hari ini sangat cerah dan menyenangkan yah!!!')[:10]"
   ]
  },
  {
   "cell_type": "code",
   "execution_count": 19,
   "id": "43f3746e",
   "metadata": {},
   "outputs": [],
   "source": [
    "# convert from pandas series to numpy\n",
    "vectorized_text = vectorizer(sentences.values)"
   ]
  },
  {
   "cell_type": "code",
   "execution_count": 20,
   "id": "d0e547db",
   "metadata": {},
   "outputs": [
    {
     "data": {
      "text/plain": [
       "<tf.Tensor: shape=(6995, 1800), dtype=int64, numpy=\n",
       "array([[ 2428,    55,  1229, ...,     0,     0,     0],\n",
       "       [   38,    10,  3609, ...,     0,     0,     0],\n",
       "       [ 8027,   344, 10467, ...,     0,     0,     0],\n",
       "       ...,\n",
       "       [  213, 23703,  1076, ...,     0,     0,     0],\n",
       "       [  239,    45,   237, ...,     0,     0,     0],\n",
       "       [  233,  5378,   305, ...,     0,     0,     0]], dtype=int64)>"
      ]
     },
     "execution_count": 20,
     "metadata": {},
     "output_type": "execute_result"
    }
   ],
   "source": [
    "vectorized_text"
   ]
  },
  {
   "cell_type": "code",
   "execution_count": 21,
   "id": "1422c1e9",
   "metadata": {},
   "outputs": [],
   "source": [
    "# make the data pipelines\n",
    "\n",
    "dataset = tf.data.Dataset.from_tensor_slices((vectorized_text, labels))\n",
    "dataset = dataset.cache()\n",
    "dataset = dataset.shuffle(7000)\n",
    "dataset = dataset.batch(16)\n",
    "dataset = dataset.prefetch(8) # help bottlenecks"
   ]
  },
  {
   "cell_type": "code",
   "execution_count": 22,
   "id": "8fb83017",
   "metadata": {},
   "outputs": [],
   "source": [
    "text_batch, labels_batch = dataset.as_numpy_iterator().next()"
   ]
  },
  {
   "cell_type": "code",
   "execution_count": 23,
   "id": "df6b591d",
   "metadata": {},
   "outputs": [
    {
     "data": {
      "text/plain": [
       "array([[  62,  105,    4, ...,    0,    0,    0],\n",
       "       [1516, 3709,   97, ...,    0,    0,    0],\n",
       "       [1171,  218,  371, ...,    0,    0,    0],\n",
       "       ...,\n",
       "       [  12, 2951,  382, ...,    0,    0,    0],\n",
       "       [  55,  338,  367, ...,    0,    0,    0],\n",
       "       [ 471,  131, 4039, ...,    0,    0,    0]], dtype=int64)"
      ]
     },
     "execution_count": 23,
     "metadata": {},
     "output_type": "execute_result"
    }
   ],
   "source": [
    "text_batch"
   ]
  },
  {
   "cell_type": "code",
   "execution_count": 24,
   "id": "f88b113d",
   "metadata": {},
   "outputs": [
    {
     "data": {
      "text/plain": [
       "array([[0, 0, 0, 0],\n",
       "       [0, 0, 0, 1],\n",
       "       [0, 0, 0, 1],\n",
       "       [0, 0, 0, 0],\n",
       "       [0, 0, 0, 1],\n",
       "       [0, 0, 0, 0],\n",
       "       [0, 0, 0, 0],\n",
       "       [1, 0, 0, 1],\n",
       "       [0, 0, 0, 0],\n",
       "       [0, 0, 1, 0],\n",
       "       [0, 0, 0, 0],\n",
       "       [1, 0, 0, 1],\n",
       "       [0, 0, 0, 0],\n",
       "       [0, 0, 1, 0],\n",
       "       [1, 0, 0, 0],\n",
       "       [0, 0, 1, 0]], dtype=int64)"
      ]
     },
     "execution_count": 24,
     "metadata": {},
     "output_type": "execute_result"
    }
   ],
   "source": [
    "labels_batch"
   ]
  },
  {
   "cell_type": "code",
   "execution_count": 25,
   "id": "54578a13",
   "metadata": {},
   "outputs": [
    {
     "data": {
      "text/plain": [
       "438"
      ]
     },
     "execution_count": 25,
     "metadata": {},
     "output_type": "execute_result"
    }
   ],
   "source": [
    "len(dataset)"
   ]
  },
  {
   "cell_type": "code",
   "execution_count": 26,
   "id": "f1e1d220",
   "metadata": {},
   "outputs": [],
   "source": [
    "train = dataset.take(int(len(dataset)*.7))\n",
    "val = dataset.skip(int(len(dataset)*.7)).take(int(len(dataset)*.2))\n",
    "test = dataset.skip(int(len(dataset)*.9)).take(int(len(dataset)*.1))"
   ]
  },
  {
   "cell_type": "code",
   "execution_count": 27,
   "id": "a397ef1d",
   "metadata": {},
   "outputs": [
    {
     "data": {
      "text/plain": [
       "(array([[1987, 8783, 2407, ...,    0,    0,    0],\n",
       "        [  23,    4,  501, ...,    0,    0,    0],\n",
       "        [ 319,  315,    4, ...,    0,    0,    0],\n",
       "        ...,\n",
       "        [ 742,  377,  217, ...,    0,    0,    0],\n",
       "        [1229,  184, 2927, ...,    0,    0,    0],\n",
       "        [  62,   18,    5, ...,    0,    0,    0]], dtype=int64),\n",
       " array([[0, 0, 1, 1],\n",
       "        [0, 0, 0, 0],\n",
       "        [0, 0, 0, 0],\n",
       "        [0, 0, 0, 0],\n",
       "        [0, 0, 0, 0],\n",
       "        [0, 0, 0, 0],\n",
       "        [0, 0, 0, 0],\n",
       "        [0, 0, 0, 0],\n",
       "        [0, 0, 1, 1],\n",
       "        [0, 0, 0, 0],\n",
       "        [0, 0, 0, 1],\n",
       "        [0, 0, 0, 0],\n",
       "        [0, 0, 0, 0],\n",
       "        [0, 0, 0, 0],\n",
       "        [0, 0, 0, 1],\n",
       "        [0, 1, 1, 1]], dtype=int64))"
      ]
     },
     "execution_count": 27,
     "metadata": {},
     "output_type": "execute_result"
    }
   ],
   "source": [
    "train_generator = train.as_numpy_iterator()\n",
    "train_generator.next()"
   ]
  },
  {
   "attachments": {},
   "cell_type": "markdown",
   "id": "3d8d87d4",
   "metadata": {},
   "source": [
    "# Create model"
   ]
  },
  {
   "cell_type": "code",
   "execution_count": 26,
   "id": "97ca11ee",
   "metadata": {},
   "outputs": [],
   "source": [
    "# Create callback to stop when accuracy is equal to 70% or greater\n",
    "class myCallback(tf.keras.callbacks.Callback):\n",
    "    def on_epoch_end(self, epoch, logs={}):\n",
    "        if(logs.get('accuracy') >= 0.8) or (logs.get('val_accuracy') >= 0.8):\n",
    "            print(\"\\nAccuracy is equal or greater than 80% so cancelling training!\")\n",
    "            self.model.stop_training = True\n",
    "\n",
    "callbacks = myCallback()"
   ]
  },
  {
   "attachments": {},
   "cell_type": "markdown",
   "id": "c3bea1da",
   "metadata": {},
   "source": [
    "## Model 01"
   ]
  },
  {
   "cell_type": "code",
   "execution_count": 27,
   "id": "1d0ff3f1",
   "metadata": {},
   "outputs": [],
   "source": [
    "model01 = tf.keras.Sequential([\n",
    "    tf.keras.layers.Embedding(max_features+1, 32),\n",
    "    tf.keras.layers.Bidirectional(tf.keras.layers.LSTM(32, activation='tanh')),\n",
    "    tf.keras.layers.Dense(128, activation='relu'),\n",
    "    tf.keras.layers.Dense(256, activation='relu'),\n",
    "    tf.keras.layers.Dense(4, activation='sigmoid')\n",
    "])"
   ]
  },
  {
   "cell_type": "code",
   "execution_count": 28,
   "id": "d5b8057c",
   "metadata": {},
   "outputs": [],
   "source": [
    "model01.compile(loss='BinaryCrossentropy', optimizer='adam', metrics=['accuracy'])"
   ]
  },
  {
   "cell_type": "code",
   "execution_count": 29,
   "id": "b2abd89b",
   "metadata": {},
   "outputs": [
    {
     "name": "stdout",
     "output_type": "stream",
     "text": [
      "Model: \"sequential\"\n",
      "_________________________________________________________________\n",
      " Layer (type)                Output Shape              Param #   \n",
      "=================================================================\n",
      " embedding (Embedding)       (None, None, 32)          6400032   \n",
      "                                                                 \n",
      " bidirectional (Bidirectiona  (None, 64)               16640     \n",
      " l)                                                              \n",
      "                                                                 \n",
      " dense (Dense)               (None, 128)               8320      \n",
      "                                                                 \n",
      " dense_1 (Dense)             (None, 256)               33024     \n",
      "                                                                 \n",
      " dense_2 (Dense)             (None, 4)                 1028      \n",
      "                                                                 \n",
      "=================================================================\n",
      "Total params: 6,459,044\n",
      "Trainable params: 6,459,044\n",
      "Non-trainable params: 0\n",
      "_________________________________________________________________\n"
     ]
    }
   ],
   "source": [
    "model01.summary()"
   ]
  },
  {
   "cell_type": "code",
   "execution_count": 56,
   "id": "144a94a6",
   "metadata": {},
   "outputs": [
    {
     "name": "stdout",
     "output_type": "stream",
     "text": [
      "Epoch 1/15\n"
     ]
    },
    {
     "name": "stdout",
     "output_type": "stream",
     "text": [
      "306/306 [==============================] - 106s 334ms/step - loss: 0.4358 - accuracy: 0.2281 - val_loss: 0.2855 - val_accuracy: 0.3922\n",
      "Epoch 2/15\n",
      "306/306 [==============================] - 95s 309ms/step - loss: 0.2581 - accuracy: 0.3523 - val_loss: 0.1967 - val_accuracy: 0.3441\n",
      "Epoch 3/15\n",
      "306/306 [==============================] - 94s 307ms/step - loss: 0.1897 - accuracy: 0.3991 - val_loss: 0.1346 - val_accuracy: 0.4806\n",
      "Epoch 4/15\n",
      "306/306 [==============================] - 95s 309ms/step - loss: 0.1432 - accuracy: 0.4708 - val_loss: 0.1205 - val_accuracy: 0.4777\n",
      "Epoch 5/15\n",
      "306/306 [==============================] - 99s 323ms/step - loss: 0.1096 - accuracy: 0.5086 - val_loss: 0.0917 - val_accuracy: 0.4813\n",
      "Epoch 6/15\n",
      "306/306 [==============================] - 101s 331ms/step - loss: 0.0825 - accuracy: 0.5737 - val_loss: 0.0664 - val_accuracy: 0.4964\n",
      "Epoch 7/15\n",
      "306/306 [==============================] - 102s 334ms/step - loss: 0.0711 - accuracy: 0.5486 - val_loss: 0.0529 - val_accuracy: 0.6681\n",
      "Epoch 8/15\n",
      "306/306 [==============================] - 106s 347ms/step - loss: 0.0557 - accuracy: 0.6554 - val_loss: 0.0343 - val_accuracy: 0.5208\n",
      "Epoch 9/15\n",
      "306/306 [==============================] - 107s 351ms/step - loss: 0.0410 - accuracy: 0.6268 - val_loss: 0.0350 - val_accuracy: 0.5086\n",
      "Epoch 10/15\n",
      "306/306 [==============================] - 104s 341ms/step - loss: 0.0353 - accuracy: 0.6971 - val_loss: 0.0264 - val_accuracy: 0.7730\n",
      "Epoch 11/15\n",
      "306/306 [==============================] - 102s 333ms/step - loss: 0.0275 - accuracy: 0.7582 - val_loss: 0.0208 - val_accuracy: 0.8197\n",
      "Epoch 12/15\n",
      "306/306 [==============================] - 110s 360ms/step - loss: 0.0224 - accuracy: 0.7490 - val_loss: 0.0244 - val_accuracy: 0.6868\n",
      "Epoch 13/15\n",
      "306/306 [==============================] - 105s 344ms/step - loss: 0.0210 - accuracy: 0.7375 - val_loss: 0.0206 - val_accuracy: 0.8671\n",
      "Epoch 14/15\n",
      "306/306 [==============================] - 103s 336ms/step - loss: 0.0190 - accuracy: 0.7825 - val_loss: 0.0177 - val_accuracy: 0.8046\n",
      "Epoch 15/15\n",
      "306/306 [==============================] - 102s 333ms/step - loss: 0.0192 - accuracy: 0.7788 - val_loss: 0.0142 - val_accuracy: 0.7320\n"
     ]
    }
   ],
   "source": [
    "history01 = model01.fit(train, epochs=15, validation_data=val, verbose=1, callbacks=[callbacks])"
   ]
  },
  {
   "cell_type": "code",
   "execution_count": 40,
   "id": "36e64292",
   "metadata": {},
   "outputs": [],
   "source": [
    "# Visualization training result\n",
    "import matplotlib.pyplot as plt\n",
    "\n",
    "def plot_graphs(history, string):\n",
    "    plt.plot(history.history[string])\n",
    "    plt.plot(history.history['val_'+string])\n",
    "    plt.xlabel(\"Epochs\")\n",
    "    plt.ylabel(string)\n",
    "    plt.legend([string, 'val_'+string])\n",
    "    plt.show()"
   ]
  },
  {
   "cell_type": "code",
   "execution_count": 84,
   "id": "75113246",
   "metadata": {},
   "outputs": [
    {
     "data": {
      "image/png": "[encoded data removed]",
      "text/plain": [
       "<Figure size 432x288 with 1 Axes>"
      ]
     },
     "metadata": {
      "needs_background": "light"
     },
     "output_type": "display_data"
    },
    {
     "data": {
      "image/png": "[encoded data removed]",
      "text/plain": [
       "<Figure size 432x288 with 1 Axes>"
      ]
     },
     "metadata": {
      "needs_background": "light"
     },
     "output_type": "display_data"
    }
   ],
   "source": [
    "# Model 01\n",
    "plot_graphs(history01, \"accuracy\")\n",
    "plot_graphs(history01, \"loss\")"
   ]
  },
  {
   "cell_type": "code",
   "execution_count": 83,
   "id": "df7134da",
   "metadata": {},
   "outputs": [],
   "source": [
    "# save model 01\n",
    "model01.save(\"model01.h5\")"
   ]
  },
  {
   "attachments": {},
   "cell_type": "markdown",
   "id": "61ed6213",
   "metadata": {},
   "source": [
    "## Model 02"
   ]
  },
  {
   "cell_type": "code",
   "execution_count": 27,
   "metadata": {},
   "outputs": [],
   "source": [
    "from tensorboard.plugins.hparams import api as hp\n",
    "\n",
    "model02 = tf.keras.Sequential([\n",
    "    tf.keras.layers.Embedding(max_features+1, 32),\n",
    "    tf.keras.layers.Bidirectional(tf.keras.layers.LSTM(32, activation='tanh')),\n",
    "    tf.keras.layers.Dense(128, activation='relu'),\n",
    "    tf.keras.layers.Dense(256, activation='relu'),\n",
    "    tf.keras.layers.Dense(4, activation='sigmoid')\n",
    "])"
   ]
  },
  {
   "cell_type": "code",
   "execution_count": 78,
   "id": "c78361d9",
   "metadata": {},
   "outputs": [],
   "source": [
    "log_dir = 'logs/model02'"
   ]
  },
  {
   "cell_type": "code",
   "execution_count": 29,
   "id": "781bc1d5",
   "metadata": {},
   "outputs": [],
   "source": [
    "tensorboard_callback = tf.keras.callbacks.TensorBoard(log_dir=log_dir)"
   ]
  },
  {
   "cell_type": "code",
   "execution_count": 30,
   "id": "6670b5a0",
   "metadata": {},
   "outputs": [],
   "source": [
    "model02.compile(loss='BinaryCrossentropy', optimizer='adam', metrics=['accuracy'])"
   ]
  },
  {
   "cell_type": "code",
   "execution_count": 31,
   "id": "66a50df5",
   "metadata": {},
   "outputs": [
    {
     "name": "stdout",
     "output_type": "stream",
     "text": [
      "Model: \"sequential\"\n",
      "_________________________________________________________________\n",
      " Layer (type)                Output Shape              Param #   \n",
      "=================================================================\n",
      " embedding (Embedding)       (None, None, 32)          6400032   \n",
      "                                                                 \n",
      " bidirectional (Bidirectiona  (None, 64)               16640     \n",
      " l)                                                              \n",
      "                                                                 \n",
      " dense (Dense)               (None, 128)               8320      \n",
      "                                                                 \n",
      " dense_1 (Dense)             (None, 256)               33024     \n",
      "                                                                 \n",
      " dense_2 (Dense)             (None, 4)                 1028      \n",
      "                                                                 \n",
      "=================================================================\n",
      "Total params: 6,459,044\n",
      "Trainable params: 6,459,044\n",
      "Non-trainable params: 0\n",
      "_________________________________________________________________\n"
     ]
    }
   ],
   "source": [
    "model02.summary()"
   ]
  },
  {
   "cell_type": "code",
   "execution_count": 38,
   "id": "50861a86",
   "metadata": {},
   "outputs": [
    {
     "name": "stdout",
     "output_type": "stream",
     "text": [
      "Epoch 1/15\n"
     ]
    },
    {
     "name": "stdout",
     "output_type": "stream",
     "text": [
      "306/306 [==============================] - 87s 270ms/step - loss: 0.4545 - accuracy: 0.2185 - val_loss: 0.3334 - val_accuracy: 0.3068\n",
      "Epoch 2/15\n",
      "306/306 [==============================] - 81s 266ms/step - loss: 0.2876 - accuracy: 0.3205 - val_loss: 0.2261 - val_accuracy: 0.3520\n",
      "Epoch 3/15\n",
      "306/306 [==============================] - 91s 299ms/step - loss: 0.2122 - accuracy: 0.3566 - val_loss: 0.1644 - val_accuracy: 0.3606\n",
      "Epoch 4/15\n",
      "306/306 [==============================] - 88s 287ms/step - loss: 0.1512 - accuracy: 0.4101 - val_loss: 0.1179 - val_accuracy: 0.4274\n",
      "Epoch 5/15\n",
      "306/306 [==============================] - 83s 271ms/step - loss: 0.1245 - accuracy: 0.4116 - val_loss: 0.1035 - val_accuracy: 0.4425\n",
      "Epoch 6/15\n",
      "306/306 [==============================] - 83s 273ms/step - loss: 0.0992 - accuracy: 0.4561 - val_loss: 0.0849 - val_accuracy: 0.4835\n",
      "Epoch 7/15\n",
      "306/306 [==============================] - 83s 273ms/step - loss: 0.0814 - accuracy: 0.4890 - val_loss: 0.0673 - val_accuracy: 0.4353\n",
      "Epoch 8/15\n",
      "306/306 [==============================] - 88s 286ms/step - loss: 0.0625 - accuracy: 0.5441 - val_loss: 0.0692 - val_accuracy: 0.6861\n",
      "Epoch 9/15\n",
      "306/306 [==============================] - 87s 285ms/step - loss: 0.0515 - accuracy: 0.7169 - val_loss: 0.0469 - val_accuracy: 0.6451\n",
      "Epoch 10/15\n",
      "306/306 [==============================] - 90s 294ms/step - loss: 0.0420 - accuracy: 0.7394 - val_loss: 0.0261 - val_accuracy: 0.6250\n",
      "Epoch 11/15\n",
      "306/306 [==============================] - 90s 295ms/step - loss: 0.0347 - accuracy: 0.7459 - val_loss: 0.0282 - val_accuracy: 0.7177\n",
      "Epoch 12/15\n",
      "306/306 [==============================] - ETA: 0s - loss: 0.0305 - accuracy: 0.7770\n",
      "Accuracy is equal or greater than 80% so cancelling training!\n",
      "306/306 [==============================] - 87s 284ms/step - loss: 0.0305 - accuracy: 0.7770 - val_loss: 0.0220 - val_accuracy: 0.8520\n"
     ]
    }
   ],
   "source": [
    "history02 = model02.fit(train, epochs=15, validation_data=val, verbose=1, callbacks=[callbacks, tensorboard_callback])"
   ]
  },
  {
   "cell_type": "code",
   "execution_count": 41,
   "id": "93608b53",
   "metadata": {},
   "outputs": [
    {
     "data": {
      "image/png": "[encoded data removed]",
      "text/plain": [
       "<Figure size 432x288 with 1 Axes>"
      ]
     },
     "metadata": {
      "needs_background": "light"
     },
     "output_type": "display_data"
    },
    {
     "data": {
      "image/png": "[encoded data removed]",
      "text/plain": [
       "<Figure size 432x288 with 1 Axes>"
      ]
     },
     "metadata": {
      "needs_background": "light"
     },
     "output_type": "display_data"
    }
   ],
   "source": [
    "# Model 02\n",
    "plot_graphs(history02, \"accuracy\")\n",
    "plot_graphs(history02, \"loss\")"
   ]
  },
  {
   "cell_type": "code",
   "execution_count": null,
   "id": "3525ff07",
   "metadata": {},
   "outputs": [],
   "source": [
    "%load_ext tensorboard\n",
    "%tensorboard --logdir logs/model02"
   ]
  },
  {
   "cell_type": "code",
   "execution_count": 42,
   "id": "0043c5f9",
   "metadata": {},
   "outputs": [],
   "source": [
    "# save model 02\n",
    "model02.save(\"model02.h5\")"
   ]
  },
  {
   "attachments": {},
   "cell_type": "markdown",
   "id": "5f1db573",
   "metadata": {},
   "source": [
    "# Visualize word embeddings"
   ]
  },
  {
   "cell_type": "code",
   "execution_count": 61,
   "id": "96243378",
   "metadata": {},
   "outputs": [
    {
     "name": "stdout",
     "output_type": "stream",
     "text": [
      "[[ 0.02574113  0.01443165  0.01660312 ...  0.06218081 -0.00425314\n",
      "   0.00226651]\n",
      " [-0.04613372  0.01665169 -0.04066522 ...  0.0299336   0.00883261\n",
      "   0.01826509]\n",
      " [ 0.04778152 -0.02277621  0.02369306 ... -0.00167465 -0.05848055\n",
      "   0.01109151]\n",
      " ...\n",
      " [-0.04856825 -0.00548651 -0.00846354 ... -0.0020378   0.02178346\n",
      "   0.02341704]\n",
      " [ 0.0179019  -0.04235506 -0.03988501 ...  0.01432958 -0.01571355\n",
      "  -0.0092885 ]\n",
      " [ 0.03129959  0.0098909  -0.02641518 ... -0.00535293 -0.0486081\n",
      "   0.0203056 ]]\n",
      "(200001, 32)\n"
     ]
    }
   ],
   "source": [
    "# Get the embedding layer from the model (i.e. first layer)\n",
    "embedding_layer = model02.layers[0]\n",
    "\n",
    "# Get the weights of the embedding layer\n",
    "embedding_weights = embedding_layer.get_weights()[0]\n",
    "print(embedding_weights)\n",
    "\n",
    "# Print the shape\n",
    "print(embedding_weights.shape)\n"
   ]
  },
  {
   "cell_type": "code",
   "execution_count": 62,
   "id": "3adc6077",
   "metadata": {},
   "outputs": [],
   "source": [
    "import io\n",
    "\n",
    "vectorizer.adapt(sentences.values)\n",
    "vocabulary = vectorizer.get_vocabulary()\n",
    "\n",
    "# Open writeable files\n",
    "out_v = io.open('vecs.tsv', 'w', encoding='utf-8')\n",
    "out_m = io.open('meta.tsv', 'w', encoding='utf-8')\n",
    "\n",
    "# Initialize the loop. Start counting at `1` because `0` is just for the padding\n",
    "for word_num in range(1, max_length):\n",
    "    word_name = vocabulary[word_num]\n",
    "    word_embedding = embedding_weights[word_num]\n",
    "\n",
    "    out_m.write(word_name + \"\\n\")\n",
    "    out_v.write('\\t'.join([str(x) for x in word_embedding]) + \"\\n\")\n",
    "\n",
    "out_v.close()\n",
    "out_m.close()"
   ]
  },
  {
   "attachments": {},
   "cell_type": "markdown",
   "id": "9cafa53e",
   "metadata": {},
   "source": [
    "# Make predictions"
   ]
  },
  {
   "attachments": {},
   "cell_type": "markdown",
   "id": "07eb4ebd",
   "metadata": {},
   "source": [
    "## Using subset test"
   ]
  },
  {
   "cell_type": "code",
   "execution_count": 296,
   "id": "44f9557e",
   "metadata": {},
   "outputs": [],
   "source": [
    "input_text = vectorizer(\"Dasar Kafir gak tau malu!\")"
   ]
  },
  {
   "cell_type": "code",
   "execution_count": 297,
   "id": "27c87048",
   "metadata": {},
   "outputs": [
    {
     "data": {
      "text/plain": [
       "(array([[1529,  272,  322, ...,    0,    0,    0],\n",
       "        [ 846,   12,    6, ...,    0,    0,    0],\n",
       "        [ 490,  125,  116, ...,    0,    0,    0],\n",
       "        ...,\n",
       "        [ 463, 1206, 1194, ...,    0,    0,    0],\n",
       "        [  10,   20,   12, ...,    0,    0,    0],\n",
       "        [3209,    9,  439, ...,    0,    0,    0]], dtype=int64),\n",
       " array([[0, 0, 0, 0],\n",
       "        [0, 0, 0, 0],\n",
       "        [1, 0, 0, 0],\n",
       "        [1, 0, 0, 0],\n",
       "        [0, 1, 0, 1],\n",
       "        [0, 0, 0, 0],\n",
       "        [1, 0, 0, 0],\n",
       "        [0, 0, 0, 0],\n",
       "        [0, 0, 0, 0],\n",
       "        [1, 0, 0, 0],\n",
       "        [0, 0, 0, 0],\n",
       "        [0, 0, 0, 0],\n",
       "        [0, 0, 0, 0],\n",
       "        [0, 0, 0, 0],\n",
       "        [0, 0, 0, 0],\n",
       "        [0, 0, 0, 0]], dtype=int64))"
      ]
     },
     "execution_count": 297,
     "metadata": {},
     "output_type": "execute_result"
    }
   ],
   "source": [
    "batch = test.as_numpy_iterator().next()\n",
    "batch"
   ]
  },
  {
   "cell_type": "code",
   "execution_count": 298,
   "id": "c187f788",
   "metadata": {},
   "outputs": [],
   "source": [
    "batch_x, batch_y = test.as_numpy_iterator().next()"
   ]
  },
  {
   "cell_type": "code",
   "execution_count": 299,
   "id": "7c659e0b",
   "metadata": {},
   "outputs": [
    {
     "data": {
      "text/plain": [
       "(16, 1800)"
      ]
     },
     "execution_count": 299,
     "metadata": {},
     "output_type": "execute_result"
    }
   ],
   "source": [
    "batch_x.shape"
   ]
  },
  {
   "cell_type": "code",
   "execution_count": 300,
   "id": "a646de88",
   "metadata": {},
   "outputs": [
    {
     "data": {
      "text/plain": [
       "(16, 4)"
      ]
     },
     "execution_count": 300,
     "metadata": {},
     "output_type": "execute_result"
    }
   ],
   "source": [
    "batch_y.shape"
   ]
  },
  {
   "cell_type": "code",
   "execution_count": 301,
   "id": "207f7a1d",
   "metadata": {},
   "outputs": [
    {
     "name": "stdout",
     "output_type": "stream",
     "text": [
      "1/1 [==============================] - 0s 152ms/step\n"
     ]
    },
    {
     "data": {
      "text/plain": [
       "array([[0, 1, 0, 0],\n",
       "       [0, 0, 0, 0],\n",
       "       [0, 0, 1, 0],\n",
       "       [0, 0, 0, 0],\n",
       "       [0, 0, 0, 0],\n",
       "       [0, 0, 0, 0],\n",
       "       [0, 1, 1, 1],\n",
       "       [0, 0, 0, 0],\n",
       "       [0, 0, 1, 0],\n",
       "       [0, 0, 0, 0],\n",
       "       [0, 0, 0, 0],\n",
       "       [0, 0, 0, 0],\n",
       "       [0, 0, 0, 1],\n",
       "       [0, 0, 0, 0],\n",
       "       [0, 0, 0, 0],\n",
       "       [1, 0, 0, 0]])"
      ]
     },
     "execution_count": 301,
     "metadata": {},
     "output_type": "execute_result"
    }
   ],
   "source": [
    "(model02.predict(batch_x) > 0.8).astype(int)"
   ]
  },
  {
   "cell_type": "code",
   "execution_count": 302,
   "id": "cf24945c",
   "metadata": {},
   "outputs": [
    {
     "data": {
      "text/plain": [
       "Index(['pornografi', 'sara', 'radikalisme', 'pencemaran_nama_baik'], dtype='object')"
      ]
     },
     "execution_count": 302,
     "metadata": {},
     "output_type": "execute_result"
    }
   ],
   "source": [
    "train_data.columns[2:6]"
   ]
  },
  {
   "cell_type": "code",
   "execution_count": 303,
   "id": "c3b90f08",
   "metadata": {},
   "outputs": [
    {
     "name": "stdout",
     "output_type": "stream",
     "text": [
      "1/1 [==============================] - 0s 155ms/step\n"
     ]
    },
    {
     "data": {
      "text/plain": [
       "array([[0.00313552, 0.73855436, 0.00160764, 0.29828256]], dtype=float32)"
      ]
     },
     "execution_count": 303,
     "metadata": {},
     "output_type": "execute_result"
    }
   ],
   "source": [
    "model02.predict(np.expand_dims(input_text, 0))"
   ]
  },
  {
   "attachments": {},
   "cell_type": "markdown",
   "id": "b4820da6",
   "metadata": {},
   "source": [
    "## Evaluate Model"
   ]
  },
  {
   "cell_type": "code",
   "execution_count": 27,
   "id": "10efc52b",
   "metadata": {},
   "outputs": [],
   "source": [
    "from tensorflow.keras.metrics import Precision, Recall, CategoricalAccuracy"
   ]
  },
  {
   "cell_type": "code",
   "execution_count": 28,
   "id": "e847a7cc",
   "metadata": {},
   "outputs": [],
   "source": [
    "pre = Precision()\n",
    "re = Recall()\n",
    "acc = CategoricalAccuracy()"
   ]
  },
  {
   "cell_type": "code",
   "execution_count": 329,
   "id": "722ab333",
   "metadata": {},
   "outputs": [
    {
     "name": "stdout",
     "output_type": "stream",
     "text": [
      "1/1 [==============================] - 0s 232ms/step\n",
      "1/1 [==============================] - 0s 161ms/step\n",
      "1/1 [==============================] - 0s 189ms/step\n",
      "1/1 [==============================] - 0s 144ms/step\n",
      "1/1 [==============================] - 0s 140ms/step\n",
      "1/1 [==============================] - 0s 142ms/step\n",
      "1/1 [==============================] - 0s 149ms/step\n",
      "1/1 [==============================] - 0s 137ms/step\n",
      "1/1 [==============================] - 0s 136ms/step\n",
      "1/1 [==============================] - 0s 148ms/step\n",
      "1/1 [==============================] - 0s 147ms/step\n",
      "1/1 [==============================] - 0s 125ms/step\n",
      "1/1 [==============================] - 0s 128ms/step\n",
      "1/1 [==============================] - 0s 129ms/step\n",
      "1/1 [==============================] - 0s 128ms/step\n",
      "1/1 [==============================] - 0s 121ms/step\n",
      "1/1 [==============================] - 0s 131ms/step\n",
      "1/1 [==============================] - 0s 128ms/step\n",
      "1/1 [==============================] - 0s 143ms/step\n",
      "1/1 [==============================] - 0s 152ms/step\n",
      "1/1 [==============================] - 0s 133ms/step\n",
      "1/1 [==============================] - 0s 127ms/step\n",
      "1/1 [==============================] - 0s 128ms/step\n",
      "1/1 [==============================] - 0s 128ms/step\n",
      "1/1 [==============================] - 0s 120ms/step\n",
      "1/1 [==============================] - 0s 122ms/step\n",
      "1/1 [==============================] - 0s 131ms/step\n",
      "1/1 [==============================] - 0s 150ms/step\n",
      "1/1 [==============================] - 0s 140ms/step\n",
      "1/1 [==============================] - 0s 124ms/step\n",
      "1/1 [==============================] - 0s 155ms/step\n",
      "1/1 [==============================] - 0s 123ms/step\n",
      "1/1 [==============================] - 0s 120ms/step\n",
      "1/1 [==============================] - 0s 129ms/step\n",
      "1/1 [==============================] - 0s 142ms/step\n",
      "1/1 [==============================] - 0s 133ms/step\n",
      "1/1 [==============================] - 0s 122ms/step\n",
      "1/1 [==============================] - 0s 128ms/step\n",
      "1/1 [==============================] - 0s 122ms/step\n",
      "1/1 [==============================] - 0s 129ms/step\n",
      "1/1 [==============================] - 0s 131ms/step\n",
      "1/1 [==============================] - 0s 121ms/step\n",
      "1/1 [==============================] - 0s 125ms/step\n"
     ]
    }
   ],
   "source": [
    "for batch in test.as_numpy_iterator():\n",
    "    x_true, y_true = batch\n",
    "    yhat = model02.predict(x_true) > 0.8\n",
    "\n",
    "    y_true = y_true.flatten()\n",
    "    yhat = yhat.flatten()\n",
    "\n",
    "    pre.update_state(y_true, yhat)\n",
    "    re.update_state(y_true, yhat)\n",
    "    acc.update_state(y_true, yhat)"
   ]
  },
  {
   "cell_type": "code",
   "execution_count": 330,
   "id": "4c49e0db",
   "metadata": {},
   "outputs": [
    {
     "name": "stdout",
     "output_type": "stream",
     "text": [
      "Precision: 0.9872011542320251, Recall: 0.9717137813568115, Accuracy: 0.8538206219673157\n"
     ]
    }
   ],
   "source": [
    "print(f'Precision: {pre.result().numpy()}, Recall: {re.result().numpy()}, Accuracy: {acc.result().numpy()}')"
   ]
  },
  {
   "attachments": {},
   "cell_type": "markdown",
   "id": "5a4237a8",
   "metadata": {},
   "source": [
    "## Using Gradio"
   ]
  },
  {
   "cell_type": "code",
   "execution_count": 28,
   "id": "095fafd9",
   "metadata": {},
   "outputs": [],
   "source": [
    "model = tf.keras.models.load_model('model02.h5')"
   ]
  },
  {
   "cell_type": "code",
   "execution_count": 30,
   "id": "0b4c8f78",
   "metadata": {},
   "outputs": [],
   "source": [
    "import gradio as gr"
   ]
  },
  {
   "cell_type": "code",
   "execution_count": 31,
   "id": "8e793f31",
   "metadata": {},
   "outputs": [],
   "source": [
    "def score_comment(comment):\n",
    "    vectorized_comment = vectorizer([comment])\n",
    "    results = model.predict(vectorized_comment)\n",
    "    \n",
    "    text = ''\n",
    "    for idx, col in enumerate(train_data.columns[2:6]):\n",
    "        text += '{}: {}\\n'.format(col, results[0][idx] > 0.8)\n",
    "    \n",
    "    return text"
   ]
  },
  {
   "cell_type": "code",
   "execution_count": 32,
   "id": "d148c01c",
   "metadata": {},
   "outputs": [],
   "source": [
    "interface = gr.Interface(fn=score_comment, \n",
    "                        inputs=gr.Textbox(lines=2, placeholder=\"comment the score\"),\n",
    "                        outputs='text')"
   ]
  },
  {
   "cell_type": "code",
   "execution_count": 33,
   "id": "31805b9d",
   "metadata": {},
   "outputs": [
    {
     "name": "stdout",
     "output_type": "stream",
     "text": [
      "Running on local URL:  http://127.0.0.1:7860\n",
      "Running on public URL: https://3d9f51e581c8fd2336.gradio.live\n",
      "\n",
      "This share link expires in 72 hours. For free permanent hosting and GPU upgrades, run `gradio deploy` from Terminal to deploy to Spaces (https://huggingface.co/spaces)\n"
     ]
    },
    {
     "data": {
      "text/html": [
       "<div><iframe src=\"https://3d9f51e581c8fd2336.gradio.live\" width=\"100%\" height=\"500\" allow=\"autoplay; camera; microphone; clipboard-read; clipboard-write;\" frameborder=\"0\" allowfullscreen></iframe></div>"
      ],
      "text/plain": [
       "<IPython.core.display.HTML object>"
      ]
     },
     "metadata": {},
     "output_type": "display_data"
    },
    {
     "data": {
      "text/plain": []
     },
     "execution_count": 33,
     "metadata": {},
     "output_type": "execute_result"
    },
    {
     "name": "stdout",
     "output_type": "stream",
     "text": [
      "1/1 [==============================] - 19s 19s/step\n"
     ]
    }
   ],
   "source": [
    "interface.launch(share=True)"
   ]
  },
  {
   "cell_type": "code",
   "execution_count": null,
   "id": "6dd497bd",
   "metadata": {},
   "outputs": [],
   "source": []
  }
 ],
 "metadata": {
  "kernelspec": {
   "display_name": "Python 3 (ipykernel)",
   "language": "python",
   "name": "python3"
  },
  "language_info": {
   "codemirror_mode": {
    "name": "ipython",
    "version": 3
   },
   "file_extension": ".py",
   "mimetype": "text/x-python",
   "name": "python",
   "nbconvert_exporter": "python",
   "pygments_lexer": "ipython3",
   "version": "3.10.5"
  }
 },
 "nbformat": 4,
 "nbformat_minor": 5
}
