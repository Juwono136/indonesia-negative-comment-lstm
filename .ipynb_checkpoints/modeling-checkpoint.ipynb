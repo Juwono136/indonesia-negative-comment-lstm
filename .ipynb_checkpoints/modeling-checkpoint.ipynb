{
 "cells": [
  {
   "cell_type": "markdown",
   "id": "41d85cf0-07e4-4de4-8479-d66a7457afc4",
   "metadata": {},
   "source": [
    "# Setup and import libraries"
   ]
  },
  {
   "cell_type": "code",
   "execution_count": 1,
   "id": "990c010f-c061-4c1d-ad49-3b729a1c1202",
   "metadata": {},
   "outputs": [],
   "source": [
    "import os\n",
    "import numpy as np\n",
    "import pandas as pd\n",
    "import tensorflow as tf\n",
    "\n",
    "from sklearn.model_selection import train_test_split\n",
    "from tensorflow.keras.preprocessing.text import Tokenizer\n",
    "from tensorflow.keras.preprocessing.sequence import pad_sequences"
   ]
  },
  {
   "cell_type": "markdown",
   "id": "cfc58f44-bc19-4ef3-99ef-e05e57e7731a",
   "metadata": {},
   "source": [
    "# Load data"
   ]
  },
  {
   "cell_type": "code",
   "execution_count": 2,
   "id": "0e54ee99-55b8-48c8-a123-f108586bfc84",
   "metadata": {},
   "outputs": [],
   "source": [
    "PROCESSED_DATA_PATH = './data/processed'"
   ]
  },
  {
   "cell_type": "code",
   "execution_count": 3,
   "id": "c0e70e65-ae9d-4284-a681-17f958902cd9",
   "metadata": {},
   "outputs": [],
   "source": [
    "test_data = pd.read_csv(f'{PROCESSED_DATA_PATH}/processed_test.csv')\n",
    "train_data = pd.read_csv(f'{PROCESSED_DATA_PATH}/processed_train.csv')"
   ]
  },
  {
   "cell_type": "code",
   "execution_count": 4,
   "id": "32cb6d6c-dbe0-4a39-82a8-c8597b50aab1",
   "metadata": {},
   "outputs": [
    {
     "data": {
      "text/html": [
       "<div>\n",
       "<style scoped>\n",
       "    .dataframe tbody tr th:only-of-type {\n",
       "        vertical-align: middle;\n",
       "    }\n",
       "\n",
       "    .dataframe tbody tr th {\n",
       "        vertical-align: top;\n",
       "    }\n",
       "\n",
       "    .dataframe thead th {\n",
       "        text-align: right;\n",
       "    }\n",
       "</style>\n",
       "<table border=\"1\" class=\"dataframe\">\n",
       "  <thead>\n",
       "    <tr style=\"text-align: right;\">\n",
       "      <th></th>\n",
       "      <th>original_text</th>\n",
       "      <th>source</th>\n",
       "      <th>pornografi</th>\n",
       "      <th>sara</th>\n",
       "      <th>radikalisme</th>\n",
       "      <th>pencemaran_nama_baik</th>\n",
       "      <th>processed_text</th>\n",
       "    </tr>\n",
       "  </thead>\n",
       "  <tbody>\n",
       "    <tr>\n",
       "      <th>0</th>\n",
       "      <td>[QUOTE=jessepinkman16;5a50ac34d89b093f368b456e...</td>\n",
       "      <td>kaskus</td>\n",
       "      <td>0</td>\n",
       "      <td>0</td>\n",
       "      <td>0</td>\n",
       "      <td>1</td>\n",
       "      <td>jabar memang provinsi barokah boleh juga dan n...</td>\n",
       "    </tr>\n",
       "    <tr>\n",
       "      <th>1</th>\n",
       "      <td>@verosvante kita2 aja nitizen yang pada kepo,t...</td>\n",
       "      <td>instagram</td>\n",
       "      <td>0</td>\n",
       "      <td>0</td>\n",
       "      <td>0</td>\n",
       "      <td>0</td>\n",
       "      <td>kita saja nitizen yang pada penasaran toh kelu...</td>\n",
       "    </tr>\n",
       "    <tr>\n",
       "      <th>2</th>\n",
       "      <td>\"#SidangAhok smg sipenista agama n ateknya mat...</td>\n",
       "      <td>twitter</td>\n",
       "      <td>0</td>\n",
       "      <td>1</td>\n",
       "      <td>1</td>\n",
       "      <td>1</td>\n",
       "      <td>sidangahok semoga sipenista agama dan ateknya ...</td>\n",
       "    </tr>\n",
       "    <tr>\n",
       "      <th>3</th>\n",
       "      <td>@bolususulembang.jkt barusan baca undang2 ini....</td>\n",
       "      <td>instagram</td>\n",
       "      <td>0</td>\n",
       "      <td>0</td>\n",
       "      <td>0</td>\n",
       "      <td>0</td>\n",
       "      <td>jakarta barusan baca undang ini tetap dibedaka...</td>\n",
       "    </tr>\n",
       "    <tr>\n",
       "      <th>4</th>\n",
       "      <td>bikin anak mulu lu nof \\nkaga mikir apa kasian...</td>\n",
       "      <td>kaskus</td>\n",
       "      <td>0</td>\n",
       "      <td>0</td>\n",
       "      <td>0</td>\n",
       "      <td>0</td>\n",
       "      <td>buat anak melulu kamu nof nkaga mikir apa kasi...</td>\n",
       "    </tr>\n",
       "  </tbody>\n",
       "</table>\n",
       "</div>"
      ],
      "text/plain": [
       "                                       original_text     source  pornografi  \\\n",
       "0  [QUOTE=jessepinkman16;5a50ac34d89b093f368b456e...     kaskus           0   \n",
       "1  @verosvante kita2 aja nitizen yang pada kepo,t...  instagram           0   \n",
       "2  \"#SidangAhok smg sipenista agama n ateknya mat...    twitter           0   \n",
       "3  @bolususulembang.jkt barusan baca undang2 ini....  instagram           0   \n",
       "4  bikin anak mulu lu nof \\nkaga mikir apa kasian...     kaskus           0   \n",
       "\n",
       "   sara  radikalisme  pencemaran_nama_baik  \\\n",
       "0     0            0                     1   \n",
       "1     0            0                     0   \n",
       "2     1            1                     1   \n",
       "3     0            0                     0   \n",
       "4     0            0                     0   \n",
       "\n",
       "                                      processed_text  \n",
       "0  jabar memang provinsi barokah boleh juga dan n...  \n",
       "1  kita saja nitizen yang pada penasaran toh kelu...  \n",
       "2  sidangahok semoga sipenista agama dan ateknya ...  \n",
       "3  jakarta barusan baca undang ini tetap dibedaka...  \n",
       "4  buat anak melulu kamu nof nkaga mikir apa kasi...  "
      ]
     },
     "execution_count": 4,
     "metadata": {},
     "output_type": "execute_result"
    }
   ],
   "source": [
    "train_data.head()"
   ]
  },
  {
   "cell_type": "code",
   "execution_count": 5,
   "id": "4346d29d-eefa-4b1c-829f-4cd634795bbd",
   "metadata": {},
   "outputs": [
    {
     "data": {
      "text/html": [
       "<div>\n",
       "<style scoped>\n",
       "    .dataframe tbody tr th:only-of-type {\n",
       "        vertical-align: middle;\n",
       "    }\n",
       "\n",
       "    .dataframe tbody tr th {\n",
       "        vertical-align: top;\n",
       "    }\n",
       "\n",
       "    .dataframe thead th {\n",
       "        text-align: right;\n",
       "    }\n",
       "</style>\n",
       "<table border=\"1\" class=\"dataframe\">\n",
       "  <thead>\n",
       "    <tr style=\"text-align: right;\">\n",
       "      <th></th>\n",
       "      <th>original_text</th>\n",
       "      <th>source</th>\n",
       "      <th>pornografi</th>\n",
       "      <th>sara</th>\n",
       "      <th>radikalisme</th>\n",
       "      <th>pencemaran_nama_baik</th>\n",
       "      <th>processed_text</th>\n",
       "    </tr>\n",
       "  </thead>\n",
       "  <tbody>\n",
       "    <tr>\n",
       "      <th>6990</th>\n",
       "      <td>Mas. Sebenarnya aku gamau bully mas tp kek nya...</td>\n",
       "      <td>instagram</td>\n",
       "      <td>0</td>\n",
       "      <td>0</td>\n",
       "      <td>0</td>\n",
       "      <td>0</td>\n",
       "      <td>mas sebenarnya aku tidak mau buly mas tapi sep...</td>\n",
       "    </tr>\n",
       "    <tr>\n",
       "      <th>6991</th>\n",
       "      <td>Kdang ngaku nicky minaj, kdang beyonce, kdang ...</td>\n",
       "      <td>instagram</td>\n",
       "      <td>0</td>\n",
       "      <td>0</td>\n",
       "      <td>0</td>\n",
       "      <td>0</td>\n",
       "      <td>kdang mengaku nicky minaj kdang beyonce kdang ...</td>\n",
       "    </tr>\n",
       "    <tr>\n",
       "      <th>6992</th>\n",
       "      <td>Time kemas sesuatu tadi, terfikir jugak botol ...</td>\n",
       "      <td>twitter</td>\n",
       "      <td>0</td>\n",
       "      <td>0</td>\n",
       "      <td>1</td>\n",
       "      <td>0</td>\n",
       "      <td>waktu kemas sesuatu tadi terfikir jugak botol ...</td>\n",
       "    </tr>\n",
       "    <tr>\n",
       "      <th>6993</th>\n",
       "      <td>@BasherRL heh kontol, jan sok pemes lu di rp, ...</td>\n",
       "      <td>twitter</td>\n",
       "      <td>1</td>\n",
       "      <td>0</td>\n",
       "      <td>0</td>\n",
       "      <td>1</td>\n",
       "      <td>heh kontol jan sok pemes kamu di rp muka seper...</td>\n",
       "    </tr>\n",
       "    <tr>\n",
       "      <th>6994</th>\n",
       "      <td>Maen bacok\"an yuk\"QueenMutiaa: Kalau kamu suka...</td>\n",
       "      <td>twitter</td>\n",
       "      <td>0</td>\n",
       "      <td>1</td>\n",
       "      <td>1</td>\n",
       "      <td>1</td>\n",
       "      <td>main bacok an ayo quenmutia kalau kamu suka bu...</td>\n",
       "    </tr>\n",
       "  </tbody>\n",
       "</table>\n",
       "</div>"
      ],
      "text/plain": [
       "                                          original_text     source  \\\n",
       "6990  Mas. Sebenarnya aku gamau bully mas tp kek nya...  instagram   \n",
       "6991  Kdang ngaku nicky minaj, kdang beyonce, kdang ...  instagram   \n",
       "6992  Time kemas sesuatu tadi, terfikir jugak botol ...    twitter   \n",
       "6993  @BasherRL heh kontol, jan sok pemes lu di rp, ...    twitter   \n",
       "6994  Maen bacok\"an yuk\"QueenMutiaa: Kalau kamu suka...    twitter   \n",
       "\n",
       "      pornografi  sara  radikalisme  pencemaran_nama_baik  \\\n",
       "6990           0     0            0                     0   \n",
       "6991           0     0            0                     0   \n",
       "6992           0     0            1                     0   \n",
       "6993           1     0            0                     1   \n",
       "6994           0     1            1                     1   \n",
       "\n",
       "                                         processed_text  \n",
       "6990  mas sebenarnya aku tidak mau buly mas tapi sep...  \n",
       "6991  kdang mengaku nicky minaj kdang beyonce kdang ...  \n",
       "6992  waktu kemas sesuatu tadi terfikir jugak botol ...  \n",
       "6993  heh kontol jan sok pemes kamu di rp muka seper...  \n",
       "6994  main bacok an ayo quenmutia kalau kamu suka bu...  "
      ]
     },
     "execution_count": 5,
     "metadata": {},
     "output_type": "execute_result"
    }
   ],
   "source": [
    "train_data.tail()"
   ]
  },
  {
   "cell_type": "markdown",
   "id": "8c868daf-35ef-4a22-b3f8-e504a830deec",
   "metadata": {},
   "source": [
    "# Get the comment text sample"
   ]
  },
  {
   "cell_type": "code",
   "execution_count": 6,
   "id": "6c537243-1912-4680-8ae5-be533e3cbb41",
   "metadata": {},
   "outputs": [
    {
     "data": {
      "text/plain": [
       "'itu membuktikan bahwa rakyat malaysia anti cina indonesia pun juga tapi masih malu kita tungu gerakan anti cina di indonesia'"
      ]
     },
     "execution_count": 6,
     "metadata": {},
     "output_type": "execute_result"
    }
   ],
   "source": [
    "train_data.iloc[5]['processed_text']"
   ]
  },
  {
   "cell_type": "code",
   "execution_count": 7,
   "id": "94a5cd38-2bf4-4ad5-9c90-0f6796a1f2b4",
   "metadata": {},
   "outputs": [
    {
     "data": {
      "text/plain": [
       "pornografi              0\n",
       "sara                    1\n",
       "radikalisme             0\n",
       "pencemaran_nama_baik    1\n",
       "Name: 5, dtype: int64"
      ]
     },
     "execution_count": 7,
     "metadata": {},
     "output_type": "execute_result"
    }
   ],
   "source": [
    "train_data[train_data.columns[2:6]].iloc[5]"
   ]
  },
  {
   "cell_type": "markdown",
   "id": "596afe23-f7de-4874-bffb-d4bdecf3cb84",
   "metadata": {},
   "source": [
    "# Get the comment table sample"
   ]
  },
  {
   "cell_type": "code",
   "execution_count": 8,
   "id": "7ea1def3-2fd5-493c-b68f-0ebcb3628675",
   "metadata": {},
   "outputs": [
    {
     "data": {
      "text/html": [
       "<div>\n",
       "<style scoped>\n",
       "    .dataframe tbody tr th:only-of-type {\n",
       "        vertical-align: middle;\n",
       "    }\n",
       "\n",
       "    .dataframe tbody tr th {\n",
       "        vertical-align: top;\n",
       "    }\n",
       "\n",
       "    .dataframe thead th {\n",
       "        text-align: right;\n",
       "    }\n",
       "</style>\n",
       "<table border=\"1\" class=\"dataframe\">\n",
       "  <thead>\n",
       "    <tr style=\"text-align: right;\">\n",
       "      <th></th>\n",
       "      <th>original_text</th>\n",
       "      <th>source</th>\n",
       "      <th>pornografi</th>\n",
       "      <th>sara</th>\n",
       "      <th>radikalisme</th>\n",
       "      <th>pencemaran_nama_baik</th>\n",
       "      <th>processed_text</th>\n",
       "    </tr>\n",
       "  </thead>\n",
       "  <tbody>\n",
       "    <tr>\n",
       "      <th>2</th>\n",
       "      <td>\"#SidangAhok smg sipenista agama n ateknya mat...</td>\n",
       "      <td>twitter</td>\n",
       "      <td>0</td>\n",
       "      <td>1</td>\n",
       "      <td>1</td>\n",
       "      <td>1</td>\n",
       "      <td>sidangahok semoga sipenista agama dan ateknya ...</td>\n",
       "    </tr>\n",
       "    <tr>\n",
       "      <th>5</th>\n",
       "      <td>Itu membuktikan bahwa rakyat Malaysia Anti-Cin...</td>\n",
       "      <td>kaskus</td>\n",
       "      <td>0</td>\n",
       "      <td>1</td>\n",
       "      <td>0</td>\n",
       "      <td>1</td>\n",
       "      <td>itu membuktikan bahwa rakyat malaysia anti cin...</td>\n",
       "    </tr>\n",
       "    <tr>\n",
       "      <th>11</th>\n",
       "      <td>[color=#111111][size=5][font=Fira Sans]Some Pa...</td>\n",
       "      <td>kaskus</td>\n",
       "      <td>0</td>\n",
       "      <td>1</td>\n",
       "      <td>1</td>\n",
       "      <td>0</td>\n",
       "      <td>font fira sans some pakistanis dan indian musl...</td>\n",
       "    </tr>\n",
       "    <tr>\n",
       "      <th>26</th>\n",
       "      <td>Terus kalo masyarakat papua barat ingin merdek...</td>\n",
       "      <td>twitter</td>\n",
       "      <td>0</td>\n",
       "      <td>1</td>\n",
       "      <td>1</td>\n",
       "      <td>0</td>\n",
       "      <td>terus kalau masyarakat papua barat ingin merde...</td>\n",
       "    </tr>\n",
       "    <tr>\n",
       "      <th>35</th>\n",
       "      <td>orang seminggu sekali brisik udah langsung di ...</td>\n",
       "      <td>kaskus</td>\n",
       "      <td>0</td>\n",
       "      <td>1</td>\n",
       "      <td>0</td>\n",
       "      <td>1</td>\n",
       "      <td>orang semingu sekali brisik sudah langsung di ...</td>\n",
       "    </tr>\n",
       "    <tr>\n",
       "      <th>40</th>\n",
       "      <td>@AGFathur ahaha emang thue gek perang dingin m...</td>\n",
       "      <td>twitter</td>\n",
       "      <td>0</td>\n",
       "      <td>1</td>\n",
       "      <td>1</td>\n",
       "      <td>1</td>\n",
       "      <td>tertawa memang thue gek perang dingin makanya ...</td>\n",
       "    </tr>\n",
       "    <tr>\n",
       "      <th>45</th>\n",
       "      <td>Kemarin2 ada yg minta Khilafah berdiri di Indo...</td>\n",
       "      <td>twitter</td>\n",
       "      <td>0</td>\n",
       "      <td>1</td>\n",
       "      <td>1</td>\n",
       "      <td>0</td>\n",
       "      <td>kemarin ada yang minta khilafah berdiri di ind...</td>\n",
       "    </tr>\n",
       "    <tr>\n",
       "      <th>47</th>\n",
       "      <td>[QUOTE=maxi1991;5719a287947868cb1a8b4570]\\n\\nS...</td>\n",
       "      <td>kaskus</td>\n",
       "      <td>1</td>\n",
       "      <td>1</td>\n",
       "      <td>0</td>\n",
       "      <td>1</td>\n",
       "      <td>dan nsebelum kamu ikutan orang lain dan jadi b...</td>\n",
       "    </tr>\n",
       "    <tr>\n",
       "      <th>49</th>\n",
       "      <td>Tidak ada kata ampun dan maaf kalo rakyat suda...</td>\n",
       "      <td>twitter</td>\n",
       "      <td>0</td>\n",
       "      <td>1</td>\n",
       "      <td>1</td>\n",
       "      <td>1</td>\n",
       "      <td>tidak ada kata ampun dan maf kalau rakyat suda...</td>\n",
       "    </tr>\n",
       "    <tr>\n",
       "      <th>52</th>\n",
       "      <td>Jgn lupa sblm bom bunuh diri bawa viagra inex ...</td>\n",
       "      <td>twitter</td>\n",
       "      <td>0</td>\n",
       "      <td>1</td>\n",
       "      <td>1</td>\n",
       "      <td>1</td>\n",
       "      <td>jangan lupa sebelum bom bunuh diri bawa viagra...</td>\n",
       "    </tr>\n",
       "  </tbody>\n",
       "</table>\n",
       "</div>"
      ],
      "text/plain": [
       "                                        original_text   source  pornografi  \\\n",
       "2   \"#SidangAhok smg sipenista agama n ateknya mat...  twitter           0   \n",
       "5   Itu membuktikan bahwa rakyat Malaysia Anti-Cin...   kaskus           0   \n",
       "11  [color=#111111][size=5][font=Fira Sans]Some Pa...   kaskus           0   \n",
       "26  Terus kalo masyarakat papua barat ingin merdek...  twitter           0   \n",
       "35  orang seminggu sekali brisik udah langsung di ...   kaskus           0   \n",
       "40  @AGFathur ahaha emang thue gek perang dingin m...  twitter           0   \n",
       "45  Kemarin2 ada yg minta Khilafah berdiri di Indo...  twitter           0   \n",
       "47  [QUOTE=maxi1991;5719a287947868cb1a8b4570]\\n\\nS...   kaskus           1   \n",
       "49  Tidak ada kata ampun dan maaf kalo rakyat suda...  twitter           0   \n",
       "52  Jgn lupa sblm bom bunuh diri bawa viagra inex ...  twitter           0   \n",
       "\n",
       "    sara  radikalisme  pencemaran_nama_baik  \\\n",
       "2      1            1                     1   \n",
       "5      1            0                     1   \n",
       "11     1            1                     0   \n",
       "26     1            1                     0   \n",
       "35     1            0                     1   \n",
       "40     1            1                     1   \n",
       "45     1            1                     0   \n",
       "47     1            0                     1   \n",
       "49     1            1                     1   \n",
       "52     1            1                     1   \n",
       "\n",
       "                                       processed_text  \n",
       "2   sidangahok semoga sipenista agama dan ateknya ...  \n",
       "5   itu membuktikan bahwa rakyat malaysia anti cin...  \n",
       "11  font fira sans some pakistanis dan indian musl...  \n",
       "26  terus kalau masyarakat papua barat ingin merde...  \n",
       "35  orang semingu sekali brisik sudah langsung di ...  \n",
       "40  tertawa memang thue gek perang dingin makanya ...  \n",
       "45  kemarin ada yang minta khilafah berdiri di ind...  \n",
       "47  dan nsebelum kamu ikutan orang lain dan jadi b...  \n",
       "49  tidak ada kata ampun dan maf kalau rakyat suda...  \n",
       "52  jangan lupa sebelum bom bunuh diri bawa viagra...  "
      ]
     },
     "execution_count": 8,
     "metadata": {},
     "output_type": "execute_result"
    }
   ],
   "source": [
    "train_data[train_data['sara'] == 1].head(10)"
   ]
  },
  {
   "cell_type": "markdown",
   "id": "c3780666-b7db-4c0d-9846-4b3922150b81",
   "metadata": {},
   "source": [
    "# Preprocessing"
   ]
  },
  {
   "cell_type": "code",
   "execution_count": 9,
   "id": "7623e46d-2df2-4b54-962c-b79200c39728",
   "metadata": {},
   "outputs": [],
   "source": [
    "# split sentences and labels\n",
    "\n",
    "sentences = train_data['processed_text']\n",
    "labels = train_data[train_data.columns[2:6]].values"
   ]
  },
  {
   "cell_type": "code",
   "execution_count": 10,
   "id": "68921e67-c569-4e79-b883-1e9d7e2094db",
   "metadata": {},
   "outputs": [
    {
     "data": {
      "text/plain": [
       "0       jabar memang provinsi barokah boleh juga dan n...\n",
       "1       kita saja nitizen yang pada penasaran toh kelu...\n",
       "2       sidangahok semoga sipenista agama dan ateknya ...\n",
       "3       jakarta barusan baca undang ini tetap dibedaka...\n",
       "4       buat anak melulu kamu nof nkaga mikir apa kasi...\n",
       "                              ...                        \n",
       "6990    mas sebenarnya aku tidak mau buly mas tapi sep...\n",
       "6991    kdang mengaku nicky minaj kdang beyonce kdang ...\n",
       "6992    waktu kemas sesuatu tadi terfikir jugak botol ...\n",
       "6993    heh kontol jan sok pemes kamu di rp muka seper...\n",
       "6994    main bacok an ayo quenmutia kalau kamu suka bu...\n",
       "Name: processed_text, Length: 6995, dtype: object"
      ]
     },
     "execution_count": 10,
     "metadata": {},
     "output_type": "execute_result"
    }
   ],
   "source": [
    "sentences"
   ]
  },
  {
   "cell_type": "code",
   "execution_count": 11,
   "id": "01d202fa-bcc7-4189-8450-bfb5bf5fac98",
   "metadata": {},
   "outputs": [
    {
     "data": {
      "text/plain": [
       "array([[0, 0, 0, 1],\n",
       "       [0, 0, 0, 0],\n",
       "       [0, 1, 1, 1],\n",
       "       ...,\n",
       "       [0, 0, 1, 0],\n",
       "       [1, 0, 0, 1],\n",
       "       [0, 1, 1, 1]], dtype=int64)"
      ]
     },
     "execution_count": 11,
     "metadata": {},
     "output_type": "execute_result"
    }
   ],
   "source": [
    "labels"
   ]
  },
  {
   "cell_type": "code",
   "execution_count": 12,
   "id": "ef08a188-6c6c-467a-ae03-f4893d8ae304",
   "metadata": {},
   "outputs": [],
   "source": [
    "# Hyperparameters\n",
    "vocab_size = 20000\n",
    "embedding_dim = 16\n",
    "max_length = 1800\n",
    "trunc_type = 'post'\n",
    "padding_type = 'post'\n",
    "ovv_tok = '<OOV>'\n",
    "training_portion = .8"
   ]
  },
  {
   "cell_type": "code",
   "execution_count": 13,
   "id": "896b32e7-ba75-4af2-ba9c-d453930de5f9",
   "metadata": {},
   "outputs": [],
   "source": [
    "train_text, test_text, train_cat, test_cat = train_test_split(sentences, labels, shuffle=False)"
   ]
  },
  {
   "cell_type": "code",
   "execution_count": 14,
   "id": "e4fab72d-b766-4b24-b9ea-48f73aec7fdb",
   "metadata": {},
   "outputs": [
    {
     "data": {
      "text/plain": [
       "0       jabar memang provinsi barokah boleh juga dan n...\n",
       "1       kita saja nitizen yang pada penasaran toh kelu...\n",
       "2       sidangahok semoga sipenista agama dan ateknya ...\n",
       "3       jakarta barusan baca undang ini tetap dibedaka...\n",
       "4       buat anak melulu kamu nof nkaga mikir apa kasi...\n",
       "                              ...                        \n",
       "5241    hem dudukin kamu di atas meja remas remas dada...\n",
       "5242    terima kasih ea ea rt ayo radit semangat a rt ...\n",
       "5243    dia bukan fitnah adminya cuma dongok kalau sip...\n",
       "5244    cuci otak sudah diajarkan dari zaman islam kal...\n",
       "5245    sabar kakak memng bnyak yang ngak tahu diri ka...\n",
       "Name: processed_text, Length: 5246, dtype: object"
      ]
     },
     "execution_count": 14,
     "metadata": {},
     "output_type": "execute_result"
    }
   ],
   "source": [
    "train_text"
   ]
  },
  {
   "cell_type": "code",
   "execution_count": 15,
   "id": "86af6993-3781-42b8-8f68-f2c68215490a",
   "metadata": {},
   "outputs": [
    {
     "data": {
      "text/plain": [
       "5246    boleh iya jemput ke dalam rame begitu anak aku...\n",
       "5247    b turun kg dalam hari tidak bakal balik gendut...\n",
       "5248    iya diak lugu kironyo bagak nyo ngecek padiah ...\n",
       "5249    masyalah itu susu kebuka terus memang tidak ma...\n",
       "5250    halu sekali coeg kok agak geli iya liatnya itu...\n",
       "                              ...                        \n",
       "6990    mas sebenarnya aku tidak mau buly mas tapi sep...\n",
       "6991    kdang mengaku nicky minaj kdang beyonce kdang ...\n",
       "6992    waktu kemas sesuatu tadi terfikir jugak botol ...\n",
       "6993    heh kontol jan sok pemes kamu di rp muka seper...\n",
       "6994    main bacok an ayo quenmutia kalau kamu suka bu...\n",
       "Name: processed_text, Length: 1749, dtype: object"
      ]
     },
     "execution_count": 15,
     "metadata": {},
     "output_type": "execute_result"
    }
   ],
   "source": [
    "test_text"
   ]
  },
  {
   "cell_type": "code",
   "execution_count": 16,
   "id": "8d93e19e-5f09-4516-be03-f6089df38b4c",
   "metadata": {},
   "outputs": [
    {
     "data": {
      "text/plain": [
       "array([[0, 0, 0, 1],\n",
       "       [0, 0, 0, 0],\n",
       "       [0, 1, 1, 1],\n",
       "       ...,\n",
       "       [0, 0, 0, 1],\n",
       "       [0, 1, 0, 0],\n",
       "       [0, 0, 0, 0]], dtype=int64)"
      ]
     },
     "execution_count": 16,
     "metadata": {},
     "output_type": "execute_result"
    }
   ],
   "source": [
    "train_cat"
   ]
  },
  {
   "cell_type": "code",
   "execution_count": 17,
   "id": "911bebb3-8ca5-4538-9a69-c17a09a77c62",
   "metadata": {},
   "outputs": [
    {
     "data": {
      "text/plain": [
       "array([[0, 0, 0, 0],\n",
       "       [0, 0, 0, 0],\n",
       "       [0, 0, 0, 0],\n",
       "       ...,\n",
       "       [0, 0, 1, 0],\n",
       "       [1, 0, 0, 1],\n",
       "       [0, 1, 1, 1]], dtype=int64)"
      ]
     },
     "execution_count": 17,
     "metadata": {},
     "output_type": "execute_result"
    }
   ],
   "source": [
    "test_cat"
   ]
  },
  {
   "cell_type": "code",
   "execution_count": 18,
   "id": "d2e104f2-2cfc-4c08-a0e5-db71e2a93cea",
   "metadata": {},
   "outputs": [],
   "source": [
    "# Fit the tokenizer with training data\n",
    "tokenizer = Tokenizer(num_words=vocab_size, oov_token=ovv_tok)\n",
    "tokenizer.fit_on_texts(train_text)"
   ]
  },
  {
   "cell_type": "code",
   "execution_count": 19,
   "id": "1f570e4c-5350-4ef3-8343-27fe5829205b",
   "metadata": {},
   "outputs": [],
   "source": [
    "# word_index = tokenizer.word_index\n",
    "# print(word_index)"
   ]
  },
  {
   "cell_type": "code",
   "execution_count": 20,
   "id": "85711ecb-762f-467e-bc0c-0a7d7a169e19",
   "metadata": {},
   "outputs": [],
   "source": [
    "# Generate and pad the training sequences\n",
    "training_sequences = tokenizer.texts_to_sequences(train_text)\n",
    "training_padded = pad_sequences(training_sequences, maxlen=max_length, padding=padding_type, truncating=trunc_type)"
   ]
  },
  {
   "cell_type": "code",
   "execution_count": 21,
   "id": "59836066-5516-44b5-ac2f-5d971d3e935c",
   "metadata": {},
   "outputs": [
    {
     "data": {
      "text/plain": [
       "array([[1957,   56,  975, ...,    0,    0,    0],\n",
       "       [  38,   11, 3046, ...,    0,    0,    0],\n",
       "       [6259,  332, 8071, ...,    0,    0,    0],\n",
       "       ...,\n",
       "       [  35,   50,  463, ...,    0,    0,    0],\n",
       "       [2687,  249,   16, ...,    0,    0,    0],\n",
       "       [1000,   98,    1, ...,    0,    0,    0]])"
      ]
     },
     "execution_count": 21,
     "metadata": {},
     "output_type": "execute_result"
    }
   ],
   "source": [
    "training_padded"
   ]
  },
  {
   "cell_type": "code",
   "execution_count": 22,
   "id": "dadc574c-d155-4c44-8125-1d09a89b5a91",
   "metadata": {},
   "outputs": [],
   "source": [
    "# Generate and pad the testing sequences\n",
    "testing_sequences = tokenizer.texts_to_sequences(test_text)\n",
    "testing_padded = pad_sequences(testing_sequences, maxlen=max_length, padding=padding_type, truncating=trunc_type)"
   ]
  },
  {
   "cell_type": "code",
   "execution_count": 23,
   "id": "eea3a9f0-f0b9-40b4-8b46-f2be92296b63",
   "metadata": {},
   "outputs": [
    {
     "data": {
      "text/plain": [
       "array([[  74,   14,  542, ...,    0,    0,    0],\n",
       "       [ 816,  689, 2464, ...,    0,    0,    0],\n",
       "       [  14,    1, 3748, ...,    0,    0,    0],\n",
       "       ...,\n",
       "       [ 219,    1,  942, ...,    0,    0,    0],\n",
       "       [ 258,   45,  255, ...,    0,    0,    0],\n",
       "       [ 222, 5134,  275, ...,    0,    0,    0]])"
      ]
     },
     "execution_count": 23,
     "metadata": {},
     "output_type": "execute_result"
    }
   ],
   "source": [
    "testing_padded"
   ]
  },
  {
   "cell_type": "markdown",
   "id": "d03d6517-14e3-40e5-a1a7-38ac38a5824c",
   "metadata": {},
   "source": [
    "# Create model"
   ]
  },
  {
   "cell_type": "code",
   "execution_count": null,
   "id": "2f8fcb31-2449-427f-b651-10ce5f578162",
   "metadata": {},
   "outputs": [],
   "source": []
  }
 ],
 "metadata": {
  "kernelspec": {
   "display_name": "Python 3 (ipykernel)",
   "language": "python",
   "name": "python3"
  },
  "language_info": {
   "codemirror_mode": {
    "name": "ipython",
    "version": 3
   },
   "file_extension": ".py",
   "mimetype": "text/x-python",
   "name": "python",
   "nbconvert_exporter": "python",
   "pygments_lexer": "ipython3",
   "version": "3.10.5"
  }
 },
 "nbformat": 4,
 "nbformat_minor": 5
}
