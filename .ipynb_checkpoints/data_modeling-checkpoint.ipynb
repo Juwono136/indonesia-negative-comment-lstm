{
 "cells": [
  {
   "cell_type": "markdown",
   "id": "f0d187d9-590e-4a11-82b0-5d362b0ce567",
   "metadata": {},
   "source": [
    "## Import and setup environment"
   ]
  },
  {
   "cell_type": "code",
   "execution_count": 15,
   "id": "92e61a51-93a2-4770-ae87-6738f153e763",
   "metadata": {},
   "outputs": [],
   "source": [
    "import os\n",
    "import pandas as pd\n",
    "import tensorflow as tf\n",
    "import numpy as np"
   ]
  },
  {
   "cell_type": "markdown",
   "id": "8b51ad1e-bc24-4f2d-865c-65565d7a2b91",
   "metadata": {
    "tags": []
   },
   "source": [
    "## Load data"
   ]
  },
  {
   "cell_type": "code",
   "execution_count": 4,
   "id": "894cd059-65c2-4b0d-853e-d67f7e014083",
   "metadata": {},
   "outputs": [],
   "source": [
    "PROCESSED_DATA_PATH = './data/processed'"
   ]
  },
  {
   "cell_type": "code",
   "execution_count": 5,
   "id": "8c50f5a9-deba-4e45-adca-7b5a48b6e187",
   "metadata": {},
   "outputs": [],
   "source": [
    "test_data = pd.read_csv(f'{PROCESSED_DATA_PATH}/processed_test.csv')\n",
    "train_data = pd.read_csv(f'{PROCESSED_DATA_PATH}/processed_train.csv')"
   ]
  },
  {
   "cell_type": "code",
   "execution_count": 6,
   "id": "ead7b48b-5f89-4894-a3d0-133427bc9d35",
   "metadata": {},
   "outputs": [
    {
     "data": {
      "text/html": [
       "<div>\n",
       "<style scoped>\n",
       "    .dataframe tbody tr th:only-of-type {\n",
       "        vertical-align: middle;\n",
       "    }\n",
       "\n",
       "    .dataframe tbody tr th {\n",
       "        vertical-align: top;\n",
       "    }\n",
       "\n",
       "    .dataframe thead th {\n",
       "        text-align: right;\n",
       "    }\n",
       "</style>\n",
       "<table border=\"1\" class=\"dataframe\">\n",
       "  <thead>\n",
       "    <tr style=\"text-align: right;\">\n",
       "      <th></th>\n",
       "      <th>original_text</th>\n",
       "      <th>source</th>\n",
       "      <th>pornografi</th>\n",
       "      <th>sara</th>\n",
       "      <th>radikalisme</th>\n",
       "      <th>pencemaran_nama_baik</th>\n",
       "      <th>processed_text</th>\n",
       "    </tr>\n",
       "  </thead>\n",
       "  <tbody>\n",
       "    <tr>\n",
       "      <th>0</th>\n",
       "      <td>[QUOTE=jessepinkman16;5a50ac34d89b093f368b456e...</td>\n",
       "      <td>kaskus</td>\n",
       "      <td>0</td>\n",
       "      <td>0</td>\n",
       "      <td>0</td>\n",
       "      <td>1</td>\n",
       "      <td>jabar memang provinsi barokah boleh juga dan n...</td>\n",
       "    </tr>\n",
       "    <tr>\n",
       "      <th>1</th>\n",
       "      <td>@verosvante kita2 aja nitizen yang pada kepo,t...</td>\n",
       "      <td>instagram</td>\n",
       "      <td>0</td>\n",
       "      <td>0</td>\n",
       "      <td>0</td>\n",
       "      <td>0</td>\n",
       "      <td>kita saja nitizen yang pada penasaran toh kelu...</td>\n",
       "    </tr>\n",
       "    <tr>\n",
       "      <th>2</th>\n",
       "      <td>\"#SidangAhok smg sipenista agama n ateknya mat...</td>\n",
       "      <td>twitter</td>\n",
       "      <td>0</td>\n",
       "      <td>1</td>\n",
       "      <td>1</td>\n",
       "      <td>1</td>\n",
       "      <td>sidangahok semoga sipenista agama dan ateknya ...</td>\n",
       "    </tr>\n",
       "    <tr>\n",
       "      <th>3</th>\n",
       "      <td>@bolususulembang.jkt barusan baca undang2 ini....</td>\n",
       "      <td>instagram</td>\n",
       "      <td>0</td>\n",
       "      <td>0</td>\n",
       "      <td>0</td>\n",
       "      <td>0</td>\n",
       "      <td>jakarta barusan baca undang ini tetap dibedaka...</td>\n",
       "    </tr>\n",
       "    <tr>\n",
       "      <th>4</th>\n",
       "      <td>bikin anak mulu lu nof \\nkaga mikir apa kasian...</td>\n",
       "      <td>kaskus</td>\n",
       "      <td>0</td>\n",
       "      <td>0</td>\n",
       "      <td>0</td>\n",
       "      <td>0</td>\n",
       "      <td>buat anak melulu kamu nof nkaga mikir apa kasi...</td>\n",
       "    </tr>\n",
       "  </tbody>\n",
       "</table>\n",
       "</div>"
      ],
      "text/plain": [
       "                                       original_text     source  pornografi  \\\n",
       "0  [QUOTE=jessepinkman16;5a50ac34d89b093f368b456e...     kaskus           0   \n",
       "1  @verosvante kita2 aja nitizen yang pada kepo,t...  instagram           0   \n",
       "2  \"#SidangAhok smg sipenista agama n ateknya mat...    twitter           0   \n",
       "3  @bolususulembang.jkt barusan baca undang2 ini....  instagram           0   \n",
       "4  bikin anak mulu lu nof \\nkaga mikir apa kasian...     kaskus           0   \n",
       "\n",
       "   sara  radikalisme  pencemaran_nama_baik  \\\n",
       "0     0            0                     1   \n",
       "1     0            0                     0   \n",
       "2     1            1                     1   \n",
       "3     0            0                     0   \n",
       "4     0            0                     0   \n",
       "\n",
       "                                      processed_text  \n",
       "0  jabar memang provinsi barokah boleh juga dan n...  \n",
       "1  kita saja nitizen yang pada penasaran toh kelu...  \n",
       "2  sidangahok semoga sipenista agama dan ateknya ...  \n",
       "3  jakarta barusan baca undang ini tetap dibedaka...  \n",
       "4  buat anak melulu kamu nof nkaga mikir apa kasi...  "
      ]
     },
     "execution_count": 6,
     "metadata": {},
     "output_type": "execute_result"
    }
   ],
   "source": [
    "train_data.head()"
   ]
  },
  {
   "cell_type": "code",
   "execution_count": 7,
   "id": "9616dbe3-9bd7-4327-a4ed-13acc6d6c641",
   "metadata": {},
   "outputs": [
    {
     "data": {
      "text/html": [
       "<div>\n",
       "<style scoped>\n",
       "    .dataframe tbody tr th:only-of-type {\n",
       "        vertical-align: middle;\n",
       "    }\n",
       "\n",
       "    .dataframe tbody tr th {\n",
       "        vertical-align: top;\n",
       "    }\n",
       "\n",
       "    .dataframe thead th {\n",
       "        text-align: right;\n",
       "    }\n",
       "</style>\n",
       "<table border=\"1\" class=\"dataframe\">\n",
       "  <thead>\n",
       "    <tr style=\"text-align: right;\">\n",
       "      <th></th>\n",
       "      <th>original_text</th>\n",
       "      <th>source</th>\n",
       "      <th>pornografi</th>\n",
       "      <th>sara</th>\n",
       "      <th>radikalisme</th>\n",
       "      <th>pencemaran_nama_baik</th>\n",
       "      <th>processed_text</th>\n",
       "    </tr>\n",
       "  </thead>\n",
       "  <tbody>\n",
       "    <tr>\n",
       "      <th>6990</th>\n",
       "      <td>Mas. Sebenarnya aku gamau bully mas tp kek nya...</td>\n",
       "      <td>instagram</td>\n",
       "      <td>0</td>\n",
       "      <td>0</td>\n",
       "      <td>0</td>\n",
       "      <td>0</td>\n",
       "      <td>mas sebenarnya aku tidak mau buly mas tapi sep...</td>\n",
       "    </tr>\n",
       "    <tr>\n",
       "      <th>6991</th>\n",
       "      <td>Kdang ngaku nicky minaj, kdang beyonce, kdang ...</td>\n",
       "      <td>instagram</td>\n",
       "      <td>0</td>\n",
       "      <td>0</td>\n",
       "      <td>0</td>\n",
       "      <td>0</td>\n",
       "      <td>kdang mengaku nicky minaj kdang beyonce kdang ...</td>\n",
       "    </tr>\n",
       "    <tr>\n",
       "      <th>6992</th>\n",
       "      <td>Time kemas sesuatu tadi, terfikir jugak botol ...</td>\n",
       "      <td>twitter</td>\n",
       "      <td>0</td>\n",
       "      <td>0</td>\n",
       "      <td>1</td>\n",
       "      <td>0</td>\n",
       "      <td>waktu kemas sesuatu tadi terfikir jugak botol ...</td>\n",
       "    </tr>\n",
       "    <tr>\n",
       "      <th>6993</th>\n",
       "      <td>@BasherRL heh kontol, jan sok pemes lu di rp, ...</td>\n",
       "      <td>twitter</td>\n",
       "      <td>1</td>\n",
       "      <td>0</td>\n",
       "      <td>0</td>\n",
       "      <td>1</td>\n",
       "      <td>heh kontol jan sok pemes kamu di rp muka seper...</td>\n",
       "    </tr>\n",
       "    <tr>\n",
       "      <th>6994</th>\n",
       "      <td>Maen bacok\"an yuk\"QueenMutiaa: Kalau kamu suka...</td>\n",
       "      <td>twitter</td>\n",
       "      <td>0</td>\n",
       "      <td>1</td>\n",
       "      <td>1</td>\n",
       "      <td>1</td>\n",
       "      <td>main bacok an ayo quenmutia kalau kamu suka bu...</td>\n",
       "    </tr>\n",
       "  </tbody>\n",
       "</table>\n",
       "</div>"
      ],
      "text/plain": [
       "                                          original_text     source  \\\n",
       "6990  Mas. Sebenarnya aku gamau bully mas tp kek nya...  instagram   \n",
       "6991  Kdang ngaku nicky minaj, kdang beyonce, kdang ...  instagram   \n",
       "6992  Time kemas sesuatu tadi, terfikir jugak botol ...    twitter   \n",
       "6993  @BasherRL heh kontol, jan sok pemes lu di rp, ...    twitter   \n",
       "6994  Maen bacok\"an yuk\"QueenMutiaa: Kalau kamu suka...    twitter   \n",
       "\n",
       "      pornografi  sara  radikalisme  pencemaran_nama_baik  \\\n",
       "6990           0     0            0                     0   \n",
       "6991           0     0            0                     0   \n",
       "6992           0     0            1                     0   \n",
       "6993           1     0            0                     1   \n",
       "6994           0     1            1                     1   \n",
       "\n",
       "                                         processed_text  \n",
       "6990  mas sebenarnya aku tidak mau buly mas tapi sep...  \n",
       "6991  kdang mengaku nicky minaj kdang beyonce kdang ...  \n",
       "6992  waktu kemas sesuatu tadi terfikir jugak botol ...  \n",
       "6993  heh kontol jan sok pemes kamu di rp muka seper...  \n",
       "6994  main bacok an ayo quenmutia kalau kamu suka bu...  "
      ]
     },
     "execution_count": 7,
     "metadata": {},
     "output_type": "execute_result"
    }
   ],
   "source": [
    "train_data.tail()"
   ]
  },
  {
   "cell_type": "markdown",
   "id": "35bb41f0-da8d-4cc0-8013-7a8b5f37abf2",
   "metadata": {
    "tags": []
   },
   "source": [
    "### Get the comment text sample"
   ]
  },
  {
   "cell_type": "code",
   "execution_count": 8,
   "id": "1b7c5d01-71c5-43ec-901a-af79c1e9d849",
   "metadata": {},
   "outputs": [
    {
     "data": {
      "text/plain": [
       "'itu membuktikan bahwa rakyat malaysia anti cina indonesia pun juga tapi masih malu kita tungu gerakan anti cina di indonesia'"
      ]
     },
     "execution_count": 8,
     "metadata": {},
     "output_type": "execute_result"
    }
   ],
   "source": [
    "train_data.iloc[5]['processed_text']"
   ]
  },
  {
   "cell_type": "code",
   "execution_count": 9,
   "id": "bb56b43a-78d6-4e30-a42b-0fa8645c9421",
   "metadata": {},
   "outputs": [
    {
     "data": {
      "text/plain": [
       "pornografi              0\n",
       "sara                    1\n",
       "radikalisme             0\n",
       "pencemaran_nama_baik    1\n",
       "Name: 5, dtype: int64"
      ]
     },
     "execution_count": 9,
     "metadata": {},
     "output_type": "execute_result"
    }
   ],
   "source": [
    "train_data[train_data.columns[2:6]].iloc[5]"
   ]
  },
  {
   "cell_type": "markdown",
   "id": "a69ffb54-de1b-4514-9a2b-6b58aa4bec41",
   "metadata": {},
   "source": [
    "### Get the comment table sample"
   ]
  },
  {
   "cell_type": "code",
   "execution_count": 10,
   "id": "8c123082-a939-4118-82e1-04fc2aab26aa",
   "metadata": {},
   "outputs": [
    {
     "data": {
      "text/html": [
       "<div>\n",
       "<style scoped>\n",
       "    .dataframe tbody tr th:only-of-type {\n",
       "        vertical-align: middle;\n",
       "    }\n",
       "\n",
       "    .dataframe tbody tr th {\n",
       "        vertical-align: top;\n",
       "    }\n",
       "\n",
       "    .dataframe thead th {\n",
       "        text-align: right;\n",
       "    }\n",
       "</style>\n",
       "<table border=\"1\" class=\"dataframe\">\n",
       "  <thead>\n",
       "    <tr style=\"text-align: right;\">\n",
       "      <th></th>\n",
       "      <th>original_text</th>\n",
       "      <th>source</th>\n",
       "      <th>pornografi</th>\n",
       "      <th>sara</th>\n",
       "      <th>radikalisme</th>\n",
       "      <th>pencemaran_nama_baik</th>\n",
       "      <th>processed_text</th>\n",
       "    </tr>\n",
       "  </thead>\n",
       "  <tbody>\n",
       "    <tr>\n",
       "      <th>2</th>\n",
       "      <td>\"#SidangAhok smg sipenista agama n ateknya mat...</td>\n",
       "      <td>twitter</td>\n",
       "      <td>0</td>\n",
       "      <td>1</td>\n",
       "      <td>1</td>\n",
       "      <td>1</td>\n",
       "      <td>sidangahok semoga sipenista agama dan ateknya ...</td>\n",
       "    </tr>\n",
       "    <tr>\n",
       "      <th>5</th>\n",
       "      <td>Itu membuktikan bahwa rakyat Malaysia Anti-Cin...</td>\n",
       "      <td>kaskus</td>\n",
       "      <td>0</td>\n",
       "      <td>1</td>\n",
       "      <td>0</td>\n",
       "      <td>1</td>\n",
       "      <td>itu membuktikan bahwa rakyat malaysia anti cin...</td>\n",
       "    </tr>\n",
       "    <tr>\n",
       "      <th>11</th>\n",
       "      <td>[color=#111111][size=5][font=Fira Sans]Some Pa...</td>\n",
       "      <td>kaskus</td>\n",
       "      <td>0</td>\n",
       "      <td>1</td>\n",
       "      <td>1</td>\n",
       "      <td>0</td>\n",
       "      <td>font fira sans some pakistanis dan indian musl...</td>\n",
       "    </tr>\n",
       "    <tr>\n",
       "      <th>26</th>\n",
       "      <td>Terus kalo masyarakat papua barat ingin merdek...</td>\n",
       "      <td>twitter</td>\n",
       "      <td>0</td>\n",
       "      <td>1</td>\n",
       "      <td>1</td>\n",
       "      <td>0</td>\n",
       "      <td>terus kalau masyarakat papua barat ingin merde...</td>\n",
       "    </tr>\n",
       "    <tr>\n",
       "      <th>35</th>\n",
       "      <td>orang seminggu sekali brisik udah langsung di ...</td>\n",
       "      <td>kaskus</td>\n",
       "      <td>0</td>\n",
       "      <td>1</td>\n",
       "      <td>0</td>\n",
       "      <td>1</td>\n",
       "      <td>orang semingu sekali brisik sudah langsung di ...</td>\n",
       "    </tr>\n",
       "    <tr>\n",
       "      <th>40</th>\n",
       "      <td>@AGFathur ahaha emang thue gek perang dingin m...</td>\n",
       "      <td>twitter</td>\n",
       "      <td>0</td>\n",
       "      <td>1</td>\n",
       "      <td>1</td>\n",
       "      <td>1</td>\n",
       "      <td>tertawa memang thue gek perang dingin makanya ...</td>\n",
       "    </tr>\n",
       "    <tr>\n",
       "      <th>45</th>\n",
       "      <td>Kemarin2 ada yg minta Khilafah berdiri di Indo...</td>\n",
       "      <td>twitter</td>\n",
       "      <td>0</td>\n",
       "      <td>1</td>\n",
       "      <td>1</td>\n",
       "      <td>0</td>\n",
       "      <td>kemarin ada yang minta khilafah berdiri di ind...</td>\n",
       "    </tr>\n",
       "    <tr>\n",
       "      <th>47</th>\n",
       "      <td>[QUOTE=maxi1991;5719a287947868cb1a8b4570]\\n\\nS...</td>\n",
       "      <td>kaskus</td>\n",
       "      <td>1</td>\n",
       "      <td>1</td>\n",
       "      <td>0</td>\n",
       "      <td>1</td>\n",
       "      <td>dan nsebelum kamu ikutan orang lain dan jadi b...</td>\n",
       "    </tr>\n",
       "    <tr>\n",
       "      <th>49</th>\n",
       "      <td>Tidak ada kata ampun dan maaf kalo rakyat suda...</td>\n",
       "      <td>twitter</td>\n",
       "      <td>0</td>\n",
       "      <td>1</td>\n",
       "      <td>1</td>\n",
       "      <td>1</td>\n",
       "      <td>tidak ada kata ampun dan maf kalau rakyat suda...</td>\n",
       "    </tr>\n",
       "    <tr>\n",
       "      <th>52</th>\n",
       "      <td>Jgn lupa sblm bom bunuh diri bawa viagra inex ...</td>\n",
       "      <td>twitter</td>\n",
       "      <td>0</td>\n",
       "      <td>1</td>\n",
       "      <td>1</td>\n",
       "      <td>1</td>\n",
       "      <td>jangan lupa sebelum bom bunuh diri bawa viagra...</td>\n",
       "    </tr>\n",
       "  </tbody>\n",
       "</table>\n",
       "</div>"
      ],
      "text/plain": [
       "                                        original_text   source  pornografi  \\\n",
       "2   \"#SidangAhok smg sipenista agama n ateknya mat...  twitter           0   \n",
       "5   Itu membuktikan bahwa rakyat Malaysia Anti-Cin...   kaskus           0   \n",
       "11  [color=#111111][size=5][font=Fira Sans]Some Pa...   kaskus           0   \n",
       "26  Terus kalo masyarakat papua barat ingin merdek...  twitter           0   \n",
       "35  orang seminggu sekali brisik udah langsung di ...   kaskus           0   \n",
       "40  @AGFathur ahaha emang thue gek perang dingin m...  twitter           0   \n",
       "45  Kemarin2 ada yg minta Khilafah berdiri di Indo...  twitter           0   \n",
       "47  [QUOTE=maxi1991;5719a287947868cb1a8b4570]\\n\\nS...   kaskus           1   \n",
       "49  Tidak ada kata ampun dan maaf kalo rakyat suda...  twitter           0   \n",
       "52  Jgn lupa sblm bom bunuh diri bawa viagra inex ...  twitter           0   \n",
       "\n",
       "    sara  radikalisme  pencemaran_nama_baik  \\\n",
       "2      1            1                     1   \n",
       "5      1            0                     1   \n",
       "11     1            1                     0   \n",
       "26     1            1                     0   \n",
       "35     1            0                     1   \n",
       "40     1            1                     1   \n",
       "45     1            1                     0   \n",
       "47     1            0                     1   \n",
       "49     1            1                     1   \n",
       "52     1            1                     1   \n",
       "\n",
       "                                       processed_text  \n",
       "2   sidangahok semoga sipenista agama dan ateknya ...  \n",
       "5   itu membuktikan bahwa rakyat malaysia anti cin...  \n",
       "11  font fira sans some pakistanis dan indian musl...  \n",
       "26  terus kalau masyarakat papua barat ingin merde...  \n",
       "35  orang semingu sekali brisik sudah langsung di ...  \n",
       "40  tertawa memang thue gek perang dingin makanya ...  \n",
       "45  kemarin ada yang minta khilafah berdiri di ind...  \n",
       "47  dan nsebelum kamu ikutan orang lain dan jadi b...  \n",
       "49  tidak ada kata ampun dan maf kalau rakyat suda...  \n",
       "52  jangan lupa sebelum bom bunuh diri bawa viagra...  "
      ]
     },
     "execution_count": 10,
     "metadata": {},
     "output_type": "execute_result"
    }
   ],
   "source": [
    "train_data[train_data['sara'] == 1].head(10)"
   ]
  },
  {
   "cell_type": "markdown",
   "id": "4deb0768-c3c9-4029-a712-efa39ff3196c",
   "metadata": {},
   "source": [
    "## Preprocessing"
   ]
  },
  {
   "cell_type": "code",
   "execution_count": 11,
   "id": "af17f9c0-3cad-465b-b0dd-b50adfce8bab",
   "metadata": {},
   "outputs": [],
   "source": [
    "# split sentences and labels\n",
    "\n",
    "sentences = train_data['processed_text']\n",
    "labels = train_data[train_data.columns[2:6]].values"
   ]
  },
  {
   "cell_type": "code",
   "execution_count": 12,
   "id": "23c89160-8eb3-4fbd-b972-2e2a3805a2dc",
   "metadata": {},
   "outputs": [
    {
     "data": {
      "text/plain": [
       "0       jabar memang provinsi barokah boleh juga dan n...\n",
       "1       kita saja nitizen yang pada penasaran toh kelu...\n",
       "2       sidangahok semoga sipenista agama dan ateknya ...\n",
       "3       jakarta barusan baca undang ini tetap dibedaka...\n",
       "4       buat anak melulu kamu nof nkaga mikir apa kasi...\n",
       "                              ...                        \n",
       "6990    mas sebenarnya aku tidak mau buly mas tapi sep...\n",
       "6991    kdang mengaku nicky minaj kdang beyonce kdang ...\n",
       "6992    waktu kemas sesuatu tadi terfikir jugak botol ...\n",
       "6993    heh kontol jan sok pemes kamu di rp muka seper...\n",
       "6994    main bacok an ayo quenmutia kalau kamu suka bu...\n",
       "Name: processed_text, Length: 6995, dtype: object"
      ]
     },
     "execution_count": 12,
     "metadata": {},
     "output_type": "execute_result"
    }
   ],
   "source": [
    "sentences"
   ]
  },
  {
   "cell_type": "code",
   "execution_count": 13,
   "id": "9445baa0-533b-4855-a2ba-057d1ee57d8c",
   "metadata": {},
   "outputs": [
    {
     "data": {
      "text/plain": [
       "array([[0, 0, 0, 1],\n",
       "       [0, 0, 0, 0],\n",
       "       [0, 1, 1, 1],\n",
       "       ...,\n",
       "       [0, 0, 1, 0],\n",
       "       [1, 0, 0, 1],\n",
       "       [0, 1, 1, 1]], dtype=int64)"
      ]
     },
     "execution_count": 13,
     "metadata": {},
     "output_type": "execute_result"
    }
   ],
   "source": [
    "labels"
   ]
  },
  {
   "cell_type": "code",
   "execution_count": 14,
   "id": "ca3fd564-186d-4794-a2f3-73ca0420ab0a",
   "metadata": {},
   "outputs": [],
   "source": [
    "# Hyperparameters\n",
    "MAX_FEATURES = 200000\n",
    "MAX_LENGTH = 1800"
   ]
  },
  {
   "cell_type": "code",
   "execution_count": 23,
   "id": "2176b13d-87e6-4ece-9469-fbbda40a4e55",
   "metadata": {},
   "outputs": [],
   "source": [
    "from tensorflow.keras.layers import TextVectorization\n",
    "\n",
    "vectorizer = TextVectorization(max_tokens=MAX_FEATURES,\n",
    "                              output_sequence_length=MAX_LENGTH,\n",
    "                              output_mode='int')"
   ]
  },
  {
   "cell_type": "code",
   "execution_count": 24,
   "id": "8c3b2e89-7bdf-4c78-b073-61c03a2c5611",
   "metadata": {},
   "outputs": [],
   "source": [
    "# convert from pandas series to numpy\n",
    "vectorizer.adapt(sentences.values)"
   ]
  },
  {
   "cell_type": "code",
   "execution_count": 25,
   "id": "cef974f8-0211-413e-bf73-d93d21366808",
   "metadata": {},
   "outputs": [
    {
     "data": {
      "text/plain": [
       "<tf.Tensor: shape=(10,), dtype=int64, numpy=\n",
       "array([ 131,    9,  202, 6182,    2, 3632,  255,    0,    0,    0],\n",
       "      dtype=int64)>"
      ]
     },
     "execution_count": 25,
     "metadata": {},
     "output_type": "execute_result"
    }
   ],
   "source": [
    "vectorizer('Hari ini sangat cerah dan menyenangkan yah!!!')[:10]"
   ]
  },
  {
   "cell_type": "code",
   "execution_count": 26,
   "id": "be289a69-d3c3-44fa-8a05-a90ad8178532",
   "metadata": {},
   "outputs": [],
   "source": [
    "vectorized_text = vectorizer(sentences.values)"
   ]
  },
  {
   "cell_type": "code",
   "execution_count": 27,
   "id": "8ac09fc1-cf32-4c2b-a869-1eef0687c1ec",
   "metadata": {},
   "outputs": [
    {
     "data": {
      "text/plain": [
       "<tf.Tensor: shape=(6995, 1800), dtype=int64, numpy=\n",
       "array([[ 2428,    55,  1229, ...,     0,     0,     0],\n",
       "       [   38,    10,  3609, ...,     0,     0,     0],\n",
       "       [ 8027,   344, 10467, ...,     0,     0,     0],\n",
       "       ...,\n",
       "       [  213, 23703,  1076, ...,     0,     0,     0],\n",
       "       [  239,    45,   237, ...,     0,     0,     0],\n",
       "       [  233,  5378,   305, ...,     0,     0,     0]], dtype=int64)>"
      ]
     },
     "execution_count": 27,
     "metadata": {},
     "output_type": "execute_result"
    }
   ],
   "source": [
    "vectorized_text"
   ]
  },
  {
   "cell_type": "code",
   "execution_count": 28,
   "id": "9ddd04cc-c856-444f-854f-ae947bcec9dd",
   "metadata": {},
   "outputs": [],
   "source": [
    "# make the data pipelines\n",
    "\n",
    "dataset = tf.data.Dataset.from_tensor_slices((vectorized_text, labels))\n",
    "dataset = dataset.cache()\n",
    "dataset = dataset.shuffle(160000)\n",
    "dataset = dataset.batch(16)\n",
    "dataset = dataset.prefetch(8) # help bottlenecks"
   ]
  },
  {
   "cell_type": "code",
   "execution_count": 29,
   "id": "c7adb9a2-c7ea-4009-b36c-bcb43342f743",
   "metadata": {},
   "outputs": [],
   "source": [
    "text_batch, labels_batch = dataset.as_numpy_iterator().next()"
   ]
  },
  {
   "cell_type": "code",
   "execution_count": 30,
   "id": "5a76feab-a26e-4d3e-b5fe-bc7df2a85a20",
   "metadata": {},
   "outputs": [
    {
     "data": {
      "text/plain": [
       "array([[   2,    2,  554, ...,    0,    0,    0],\n",
       "       [ 125,    2, 1957, ...,    0,    0,    0],\n",
       "       [   2, 1374,  907, ...,    0,    0,    0],\n",
       "       ...,\n",
       "       [  23,  444, 4133, ...,    0,    0,    0],\n",
       "       [4229, 1402, 7287, ...,    0,    0,    0],\n",
       "       [  64, 5876,    4, ...,    0,    0,    0]], dtype=int64)"
      ]
     },
     "execution_count": 30,
     "metadata": {},
     "output_type": "execute_result"
    }
   ],
   "source": [
    "text_batch"
   ]
  },
  {
   "cell_type": "code",
   "execution_count": 31,
   "id": "602cb5aa-f037-48de-bb53-1b76f1efcd09",
   "metadata": {},
   "outputs": [
    {
     "data": {
      "text/plain": [
       "array([[0, 0, 0, 0],\n",
       "       [1, 0, 0, 0],\n",
       "       [0, 1, 0, 0],\n",
       "       [0, 0, 0, 0],\n",
       "       [0, 1, 0, 1],\n",
       "       [0, 0, 0, 1],\n",
       "       [1, 0, 0, 0],\n",
       "       [0, 0, 0, 0],\n",
       "       [0, 0, 1, 0],\n",
       "       [0, 0, 0, 0],\n",
       "       [0, 1, 1, 1],\n",
       "       [0, 0, 0, 0],\n",
       "       [0, 1, 0, 1],\n",
       "       [0, 0, 0, 0],\n",
       "       [0, 0, 0, 0],\n",
       "       [0, 0, 0, 0]], dtype=int64)"
      ]
     },
     "execution_count": 31,
     "metadata": {},
     "output_type": "execute_result"
    }
   ],
   "source": [
    "labels_batch"
   ]
  },
  {
   "cell_type": "code",
   "execution_count": 32,
   "id": "d162386f-d824-4457-b994-790d7dc9f063",
   "metadata": {},
   "outputs": [],
   "source": [
    "# create train, validation dan test partitions\n",
    "train = dataset.take(int(len(dataset)*.7))\n",
    "val = dataset.skip(int(len(dataset)*.7)).take(int(len(dataset)*.2))\n",
    "test = dataset.skip(int(len(dataset)*.9)).take(int(len(dataset)*.1))"
   ]
  },
  {
   "cell_type": "code",
   "execution_count": 33,
   "id": "3d39ddf9-66a7-46c3-b875-9e1b48a4877e",
   "metadata": {},
   "outputs": [
    {
     "data": {
      "text/plain": [
       "(array([[  239,    45,   237, ...,     0,     0,     0],\n",
       "        [  607,  2325,  2610, ...,     0,     0,     0],\n",
       "        [  113,    77,     4, ...,     0,     0,     0],\n",
       "        ...,\n",
       "        [ 1129,   273,    55, ...,     0,     0,     0],\n",
       "        [ 2222,   156,    55, ...,     0,     0,     0],\n",
       "        [15354,   356,   528, ...,     0,     0,     0]], dtype=int64),\n",
       " array([[1, 0, 0, 0],\n",
       "        [1, 0, 0, 0],\n",
       "        [0, 0, 1, 0],\n",
       "        [0, 1, 1, 1],\n",
       "        [0, 0, 0, 0],\n",
       "        [0, 0, 0, 0],\n",
       "        [0, 0, 0, 0],\n",
       "        [1, 0, 0, 0],\n",
       "        [1, 0, 0, 0],\n",
       "        [1, 0, 0, 0],\n",
       "        [0, 0, 0, 0],\n",
       "        [1, 0, 0, 0],\n",
       "        [0, 0, 0, 0],\n",
       "        [0, 1, 1, 1],\n",
       "        [1, 1, 0, 1],\n",
       "        [0, 0, 0, 0]], dtype=int64))"
      ]
     },
     "execution_count": 33,
     "metadata": {},
     "output_type": "execute_result"
    }
   ],
   "source": [
    "train_generator = train.as_numpy_iterator()\n",
    "train_generator.next()"
   ]
  },
  {
   "cell_type": "markdown",
   "id": "82a53c2f-47ba-4868-ab7b-2500c262c3b7",
   "metadata": {},
   "source": [
    "## Create model"
   ]
  },
  {
   "cell_type": "code",
   "execution_count": 30,
   "id": "51bdb961-846b-4986-8e66-f0e62b125fce",
   "metadata": {},
   "outputs": [],
   "source": [
    "model = tf.keras.Sequential([\n",
    "    tf.keras.layers.Embedding(MAX_FEATURES+1, 32),\n",
    "    tf.keras.layers.Bidirectional(tf.keras.layers.LSTM(32, activation='tanh')),\n",
    "    tf.keras.layers.Dense(128, activation='relu'),\n",
    "    tf.keras.layers.Dense(256, activation='relu'),\n",
    "    tf.keras.layers.Dense(128, activation='relu'),\n",
    "    tf.keras.layers.Dense(4, activation='sigmoid')\n",
    "])"
   ]
  },
  {
   "cell_type": "code",
   "execution_count": 31,
   "id": "d4d2b52e-9d21-48e7-945b-af85f7650650",
   "metadata": {},
   "outputs": [],
   "source": [
    "model.compile(loss='BinaryCrossentropy', optimizer='adam', metrics=['accuracy'])"
   ]
  },
  {
   "cell_type": "code",
   "execution_count": 32,
   "id": "5bee8ea4-c085-4822-9d3d-bfe932ed757a",
   "metadata": {},
   "outputs": [
    {
     "name": "stdout",
     "output_type": "stream",
     "text": [
      "Model: \"sequential_2\"\n",
      "_________________________________________________________________\n",
      " Layer (type)                Output Shape              Param #   \n",
      "=================================================================\n",
      " embedding_6 (Embedding)     (None, None, 32)          6400032   \n",
      "                                                                 \n",
      " bidirectional_2 (Bidirectio  (None, 64)               16640     \n",
      " nal)                                                            \n",
      "                                                                 \n",
      " dense_8 (Dense)             (None, 128)               8320      \n",
      "                                                                 \n",
      " dense_9 (Dense)             (None, 256)               33024     \n",
      "                                                                 \n",
      " dense_10 (Dense)            (None, 128)               32896     \n",
      "                                                                 \n",
      " dense_11 (Dense)            (None, 4)                 516       \n",
      "                                                                 \n",
      "=================================================================\n",
      "Total params: 6,491,428\n",
      "Trainable params: 6,491,428\n",
      "Non-trainable params: 0\n",
      "_________________________________________________________________\n"
     ]
    }
   ],
   "source": [
    "model.summary()"
   ]
  },
  {
   "cell_type": "code",
   "execution_count": 33,
   "id": "67c65720-fe85-4644-b1a2-c80fd5aabeec",
   "metadata": {},
   "outputs": [
    {
     "name": "stdout",
     "output_type": "stream",
     "text": [
      "Epoch 1/10\n",
      "306/306 [==============================] - 86s 264ms/step - loss: 0.4664 - accuracy: 0.2576 - val_loss: 0.3833 - val_accuracy: 0.4167\n",
      "Epoch 2/10\n",
      "306/306 [==============================] - 79s 257ms/step - loss: 0.2949 - accuracy: 0.3868 - val_loss: 0.2311 - val_accuracy: 0.3764\n",
      "Epoch 3/10\n",
      "306/306 [==============================] - 77s 252ms/step - loss: 0.2133 - accuracy: 0.3685 - val_loss: 0.1720 - val_accuracy: 0.4095\n",
      "Epoch 4/10\n",
      "306/306 [==============================] - 77s 252ms/step - loss: 0.1532 - accuracy: 0.4604 - val_loss: 0.1106 - val_accuracy: 0.4425\n",
      "Epoch 5/10\n",
      "306/306 [==============================] - 79s 257ms/step - loss: 0.1115 - accuracy: 0.4949 - val_loss: 0.0784 - val_accuracy: 0.5460\n",
      "Epoch 6/10\n",
      "306/306 [==============================] - 79s 258ms/step - loss: 0.0864 - accuracy: 0.5441 - val_loss: 0.0687 - val_accuracy: 0.4971\n",
      "Epoch 7/10\n",
      "306/306 [==============================] - 79s 257ms/step - loss: 0.0668 - accuracy: 0.5545 - val_loss: 0.0514 - val_accuracy: 0.7716\n",
      "Epoch 8/10\n",
      "306/306 [==============================] - 78s 255ms/step - loss: 0.0547 - accuracy: 0.6168 - val_loss: 0.0376 - val_accuracy: 0.5553\n",
      "Epoch 9/10\n",
      "306/306 [==============================] - 77s 252ms/step - loss: 0.0424 - accuracy: 0.5421 - val_loss: 0.0457 - val_accuracy: 0.6056\n",
      "Epoch 10/10\n",
      "306/306 [==============================] - 78s 256ms/step - loss: 0.0331 - accuracy: 0.6144 - val_loss: 0.0353 - val_accuracy: 0.7493\n"
     ]
    }
   ],
   "source": [
    "history = model.fit(train, epochs=10, validation_data=val, verbose=1)"
   ]
  },
  {
   "cell_type": "code",
   "execution_count": 34,
   "id": "0fc5c2d6-9eb0-4fc9-b5b1-033c1de3a336",
   "metadata": {},
   "outputs": [
    {
     "data": {
      "image/png": "[encoded data removed]",
      "text/plain": [
       "<Figure size 432x288 with 1 Axes>"
      ]
     },
     "metadata": {
      "needs_background": "light"
     },
     "output_type": "display_data"
    },
    {
     "data": {
      "image/png": "[encoded data removed]",
      "text/plain": [
       "<Figure size 432x288 with 1 Axes>"
      ]
     },
     "metadata": {
      "needs_background": "light"
     },
     "output_type": "display_data"
    }
   ],
   "source": [
    "import matplotlib.pyplot as plt\n",
    "\n",
    "# Plot utility\n",
    "def plot_graphs(history, string):\n",
    "  plt.plot(history.history[string])\n",
    "  plt.plot(history.history['val_'+string])\n",
    "  plt.xlabel(\"Epochs\")\n",
    "  plt.ylabel(string)\n",
    "  plt.legend([string, 'val_'+string])\n",
    "  plt.show()\n",
    "\n",
    "# Plot the accuracy and results \n",
    "plot_graphs(history, \"accuracy\")\n",
    "plot_graphs(history, \"loss\")"
   ]
  },
  {
   "cell_type": "code",
   "execution_count": 41,
   "id": "c8f5a2e4-e8a7-45b2-a48c-9a3a67bcc6b5",
   "metadata": {},
   "outputs": [],
   "source": [
    "# save model\n",
    "model.save('negative_comment01.h5')"
   ]
  },
  {
   "cell_type": "code",
   "execution_count": 34,
   "id": "2d0ecdd4-595a-4673-978f-5e674738ea9f",
   "metadata": {},
   "outputs": [],
   "source": [
    "model = tf.keras.models.load_model('negative_comment01.h5')"
   ]
  },
  {
   "cell_type": "code",
   "execution_count": 35,
   "id": "24f9d992-7480-4a00-aa37-ce5c1b91da78",
   "metadata": {},
   "outputs": [],
   "source": [
    "import gradio as gr"
   ]
  },
  {
   "cell_type": "code",
   "execution_count": 36,
   "id": "bb325339-b1f1-49ab-a0b2-6239bd6d641b",
   "metadata": {},
   "outputs": [],
   "source": [
    "def score_comment(comment):\n",
    "    vectorized_comment = vectorizer([comment])\n",
    "    results = model.predict(vectorized_comment)\n",
    "    \n",
    "    text = ''\n",
    "    for idx, col in enumerate(train_data.columns[2:6]):\n",
    "        text += '{}: {}\\n'.format(col, results[0][idx]>0.5)\n",
    "    \n",
    "    return text"
   ]
  },
  {
   "cell_type": "code",
   "execution_count": 37,
   "id": "55d140e2-81bb-4841-a57e-d5c5ccd8e0fd",
   "metadata": {},
   "outputs": [],
   "source": [
    "interface = gr.Interface(fn=score_comment, \n",
    "                         inputs=gr.Textbox(lines=2, placeholder=\"comment the score\"),\n",
    "                        outputs='text')"
   ]
  },
  {
   "cell_type": "code",
   "execution_count": 38,
   "id": "5b17a759-61b3-4735-a667-f1f6e09c3076",
   "metadata": {},
   "outputs": [
    {
     "name": "stdout",
     "output_type": "stream",
     "text": [
      "Running on local URL:  http://127.0.0.1:7861\n",
      "Running on public URL: https://0e80a96f8e91fe70.gradio.app\n",
      "\n",
      "This share link expires in 72 hours. For free permanent hosting, check out Spaces: https://www.huggingface.co/spaces\n"
     ]
    },
    {
     "data": {
      "text/html": [
       "<div><iframe src=\"https://0e80a96f8e91fe70.gradio.app\" width=\"900\" height=\"500\" allow=\"autoplay; camera; microphone;\" frameborder=\"0\" allowfullscreen></iframe></div>"
      ],
      "text/plain": [
       "<IPython.core.display.HTML object>"
      ]
     },
     "metadata": {},
     "output_type": "display_data"
    },
    {
     "data": {
      "text/plain": [
       "(<gradio.routes.App at 0x1fe5084a1a0>,\n",
       " 'http://127.0.0.1:7861/',\n",
       " 'https://0e80a96f8e91fe70.gradio.app')"
      ]
     },
     "execution_count": 38,
     "metadata": {},
     "output_type": "execute_result"
    },
    {
     "name": "stdout",
     "output_type": "stream",
     "text": [
      "1/1 [==============================] - 9s 9s/step\n",
      "1/1 [==============================] - 0s 280ms/step\n",
      "1/1 [==============================] - 0s 231ms/step\n"
     ]
    }
   ],
   "source": [
    "interface.launch(share=True)"
   ]
  },
  {
   "cell_type": "code",
   "execution_count": null,
   "id": "05735fd6-86e9-46ba-a722-ce9f9fab6f32",
   "metadata": {},
   "outputs": [],
   "source": []
  }
 ],
 "metadata": {
  "kernelspec": {
   "display_name": "Python 3 (ipykernel)",
   "language": "python",
   "name": "python3"
  },
  "language_info": {
   "codemirror_mode": {
    "name": "ipython",
    "version": 3
   },
   "file_extension": ".py",
   "mimetype": "text/x-python",
   "name": "python",
   "nbconvert_exporter": "python",
   "pygments_lexer": "ipython3",
   "version": "3.10.5"
  }
 },
 "nbformat": 4,
 "nbformat_minor": 5
}
