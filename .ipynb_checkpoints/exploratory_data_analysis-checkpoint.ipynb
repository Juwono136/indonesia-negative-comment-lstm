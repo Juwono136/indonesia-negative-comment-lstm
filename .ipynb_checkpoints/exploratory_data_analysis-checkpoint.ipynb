{
 "cells": [
  {
   "cell_type": "markdown",
   "id": "12a4e628-fc66-44bd-aed0-69931a4702fd",
   "metadata": {},
   "source": [
    "## Setup and import libraries"
   ]
  },
  {
   "cell_type": "code",
   "execution_count": 6,
   "id": "bebd24eb-0525-4afe-b9dd-a80597773722",
   "metadata": {},
   "outputs": [],
   "source": [
    "import numpy as np\n",
    "import pandas as pd\n",
    "import matplotlib.pyplot as plt\n",
    "import seaborn as sns\n",
    "\n",
    "%matplotlib inline"
   ]
  },
  {
   "cell_type": "markdown",
   "id": "4eae6a9c-bbe5-48c2-81a3-44f386cfead3",
   "metadata": {},
   "source": [
    "## Load data"
   ]
  },
  {
   "cell_type": "code",
   "execution_count": 7,
   "id": "ce53d164-a8a5-4a4e-b337-d713abee9ebf",
   "metadata": {},
   "outputs": [],
   "source": [
    "RAW_DATA_PATH = './data/raw'"
   ]
  },
  {
   "cell_type": "code",
   "execution_count": 8,
   "id": "739eb0e6-7d15-4e6c-b233-d641b0f23fea",
   "metadata": {},
   "outputs": [],
   "source": [
    "train_data = pd.read_csv(f'{RAW_DATA_PATH}/train.csv')\n",
    "test_data = pd.read_csv(f'{RAW_DATA_PATH}/test.csv')"
   ]
  },
  {
   "cell_type": "code",
   "execution_count": 9,
   "id": "1c7bdfea-1700-455c-88cc-705f8d5545b3",
   "metadata": {},
   "outputs": [
    {
     "name": "stdout",
     "output_type": "stream",
     "text": [
      "Train data shape:  (6995, 6)\n",
      "Test data shape:  (778, 6)\n"
     ]
    }
   ],
   "source": [
    "print('Train data shape: ', train_data.shape)\n",
    "print('Test data shape: ', test_data.shape)"
   ]
  },
  {
   "cell_type": "markdown",
   "id": "5c27214b-a5f4-4f31-a678-ad8c6d6f3587",
   "metadata": {},
   "source": [
    "## Data analysis"
   ]
  },
  {
   "cell_type": "code",
   "execution_count": 10,
   "id": "3795e094-98b2-41af-b15f-12b53e22376a",
   "metadata": {},
   "outputs": [
    {
     "data": {
      "text/html": [
       "<div>\n",
       "<style scoped>\n",
       "    .dataframe tbody tr th:only-of-type {\n",
       "        vertical-align: middle;\n",
       "    }\n",
       "\n",
       "    .dataframe tbody tr th {\n",
       "        vertical-align: top;\n",
       "    }\n",
       "\n",
       "    .dataframe thead th {\n",
       "        text-align: right;\n",
       "    }\n",
       "</style>\n",
       "<table border=\"1\" class=\"dataframe\">\n",
       "  <thead>\n",
       "    <tr style=\"text-align: right;\">\n",
       "      <th></th>\n",
       "      <th>original_text</th>\n",
       "      <th>source</th>\n",
       "      <th>pornografi</th>\n",
       "      <th>sara</th>\n",
       "      <th>radikalisme</th>\n",
       "      <th>pencemaran_nama_baik</th>\n",
       "    </tr>\n",
       "  </thead>\n",
       "  <tbody>\n",
       "    <tr>\n",
       "      <th>0</th>\n",
       "      <td>[QUOTE=jessepinkman16;5a50ac34d89b093f368b456e...</td>\n",
       "      <td>kaskus</td>\n",
       "      <td>0</td>\n",
       "      <td>0</td>\n",
       "      <td>0</td>\n",
       "      <td>1</td>\n",
       "    </tr>\n",
       "    <tr>\n",
       "      <th>1</th>\n",
       "      <td>@verosvante kita2 aja nitizen yang pada kepo,t...</td>\n",
       "      <td>instagram</td>\n",
       "      <td>0</td>\n",
       "      <td>0</td>\n",
       "      <td>0</td>\n",
       "      <td>0</td>\n",
       "    </tr>\n",
       "    <tr>\n",
       "      <th>2</th>\n",
       "      <td>\"#SidangAhok smg sipenista agama n ateknya mat...</td>\n",
       "      <td>twitter</td>\n",
       "      <td>0</td>\n",
       "      <td>1</td>\n",
       "      <td>1</td>\n",
       "      <td>1</td>\n",
       "    </tr>\n",
       "    <tr>\n",
       "      <th>3</th>\n",
       "      <td>@bolususulembang.jkt barusan baca undang2 ini....</td>\n",
       "      <td>instagram</td>\n",
       "      <td>0</td>\n",
       "      <td>0</td>\n",
       "      <td>0</td>\n",
       "      <td>0</td>\n",
       "    </tr>\n",
       "    <tr>\n",
       "      <th>4</th>\n",
       "      <td>bikin anak mulu lu nof \\nkaga mikir apa kasian...</td>\n",
       "      <td>kaskus</td>\n",
       "      <td>0</td>\n",
       "      <td>0</td>\n",
       "      <td>0</td>\n",
       "      <td>0</td>\n",
       "    </tr>\n",
       "  </tbody>\n",
       "</table>\n",
       "</div>"
      ],
      "text/plain": [
       "                                       original_text     source  pornografi  \\\n",
       "0  [QUOTE=jessepinkman16;5a50ac34d89b093f368b456e...     kaskus           0   \n",
       "1  @verosvante kita2 aja nitizen yang pada kepo,t...  instagram           0   \n",
       "2  \"#SidangAhok smg sipenista agama n ateknya mat...    twitter           0   \n",
       "3  @bolususulembang.jkt barusan baca undang2 ini....  instagram           0   \n",
       "4  bikin anak mulu lu nof \\nkaga mikir apa kasian...     kaskus           0   \n",
       "\n",
       "   sara  radikalisme  pencemaran_nama_baik  \n",
       "0     0            0                     1  \n",
       "1     0            0                     0  \n",
       "2     1            1                     1  \n",
       "3     0            0                     0  \n",
       "4     0            0                     0  "
      ]
     },
     "execution_count": 10,
     "metadata": {},
     "output_type": "execute_result"
    }
   ],
   "source": [
    "train_data.head()"
   ]
  },
  {
   "cell_type": "code",
   "execution_count": 11,
   "id": "3d9c4992-80d5-4e4e-bec7-33313f17f923",
   "metadata": {},
   "outputs": [
    {
     "data": {
      "text/html": [
       "<div>\n",
       "<style scoped>\n",
       "    .dataframe tbody tr th:only-of-type {\n",
       "        vertical-align: middle;\n",
       "    }\n",
       "\n",
       "    .dataframe tbody tr th {\n",
       "        vertical-align: top;\n",
       "    }\n",
       "\n",
       "    .dataframe thead th {\n",
       "        text-align: right;\n",
       "    }\n",
       "</style>\n",
       "<table border=\"1\" class=\"dataframe\">\n",
       "  <thead>\n",
       "    <tr style=\"text-align: right;\">\n",
       "      <th></th>\n",
       "      <th>original_text</th>\n",
       "      <th>source</th>\n",
       "      <th>pornografi</th>\n",
       "      <th>sara</th>\n",
       "      <th>radikalisme</th>\n",
       "      <th>pencemaran_nama_baik</th>\n",
       "    </tr>\n",
       "  </thead>\n",
       "  <tbody>\n",
       "    <tr>\n",
       "      <th>0</th>\n",
       "      <td>1.BUKAN CM SPANDUK PROF,VIDEO2 ORASI MEREKA, B...</td>\n",
       "      <td>twitter</td>\n",
       "      <td>0</td>\n",
       "      <td>0</td>\n",
       "      <td>1</td>\n",
       "      <td>0</td>\n",
       "    </tr>\n",
       "    <tr>\n",
       "      <th>1</th>\n",
       "      <td>@memeqbeceq gy sange'gatel yh tetek'memekY drn...</td>\n",
       "      <td>twitter</td>\n",
       "      <td>1</td>\n",
       "      <td>0</td>\n",
       "      <td>0</td>\n",
       "      <td>0</td>\n",
       "    </tr>\n",
       "    <tr>\n",
       "      <th>2</th>\n",
       "      <td>Pertama kali denger lagunya enk bgt in dan png...</td>\n",
       "      <td>instagram</td>\n",
       "      <td>0</td>\n",
       "      <td>0</td>\n",
       "      <td>0</td>\n",
       "      <td>0</td>\n",
       "    </tr>\n",
       "    <tr>\n",
       "      <th>3</th>\n",
       "      <td>astajim, ini pasti yg kasih penghargaan ke ibu...</td>\n",
       "      <td>kaskus</td>\n",
       "      <td>0</td>\n",
       "      <td>0</td>\n",
       "      <td>0</td>\n",
       "      <td>0</td>\n",
       "    </tr>\n",
       "    <tr>\n",
       "      <th>4</th>\n",
       "      <td>beda kalo disini kalo komplain lgs di bully am...</td>\n",
       "      <td>kaskus</td>\n",
       "      <td>0</td>\n",
       "      <td>0</td>\n",
       "      <td>0</td>\n",
       "      <td>0</td>\n",
       "    </tr>\n",
       "  </tbody>\n",
       "</table>\n",
       "</div>"
      ],
      "text/plain": [
       "                                       original_text     source  pornografi  \\\n",
       "0  1.BUKAN CM SPANDUK PROF,VIDEO2 ORASI MEREKA, B...    twitter           0   \n",
       "1  @memeqbeceq gy sange'gatel yh tetek'memekY drn...    twitter           1   \n",
       "2  Pertama kali denger lagunya enk bgt in dan png...  instagram           0   \n",
       "3  astajim, ini pasti yg kasih penghargaan ke ibu...     kaskus           0   \n",
       "4  beda kalo disini kalo komplain lgs di bully am...     kaskus           0   \n",
       "\n",
       "   sara  radikalisme  pencemaran_nama_baik  \n",
       "0     0            1                     0  \n",
       "1     0            0                     0  \n",
       "2     0            0                     0  \n",
       "3     0            0                     0  \n",
       "4     0            0                     0  "
      ]
     },
     "execution_count": 11,
     "metadata": {},
     "output_type": "execute_result"
    }
   ],
   "source": [
    "test_data.head()"
   ]
  },
  {
   "cell_type": "markdown",
   "id": "6ef4a821-df42-4436-91c0-7c57640ea43a",
   "metadata": {},
   "source": [
    "## Label distribution"
   ]
  },
  {
   "cell_type": "code",
   "execution_count": 12,
   "id": "36764fd8-1dc0-47c3-b2be-42dc08ce221d",
   "metadata": {},
   "outputs": [],
   "source": [
    "labels = ['pornografi', 'sara', 'radikalisme', 'pencemaran_nama_baik']"
   ]
  },
  {
   "cell_type": "code",
   "execution_count": 13,
   "id": "96cdd43e-7590-4995-a1c3-057b933e5a09",
   "metadata": {},
   "outputs": [],
   "source": [
    "def get_label_distribution(data, label):\n",
    "    return np.sum(data[label] / data.shape[0])"
   ]
  },
  {
   "cell_type": "code",
   "execution_count": 14,
   "id": "566e0cc8-574a-4089-9c44-8d16fc887953",
   "metadata": {},
   "outputs": [
    {
     "name": "stdout",
     "output_type": "stream",
     "text": [
      "% of train data containing pornografi label: 22.50%\n",
      "% of train data containing sara label: 16.07%\n",
      "% of train data containing radikalisme label: 16.50%\n",
      "% of train data containing pencemaran_nama_baik label: 31.17%\n"
     ]
    }
   ],
   "source": [
    "for label in labels:\n",
    "    print('% of train data containing', label, 'label:', '{0:.2%}'.format(get_label_distribution(train_data, label)))"
   ]
  },
  {
   "cell_type": "code",
   "execution_count": 15,
   "id": "113e075e-2fdf-4791-b216-d78800ea72c7",
   "metadata": {},
   "outputs": [
    {
     "name": "stdout",
     "output_type": "stream",
     "text": [
      "% of test data containing pornografi label: 22.24%\n",
      "% of test data containing sara label: 14.65%\n",
      "% of test data containing radikalisme label: 15.68%\n",
      "% of test data containing pencemaran_nama_baik label: 31.49%\n"
     ]
    }
   ],
   "source": [
    "for label in labels:\n",
    "    print('% of test data containing', label, 'label:', '{0:.2%}'.format(get_label_distribution(test_data, label)))"
   ]
  },
  {
   "cell_type": "markdown",
   "id": "52cb93c7-2c93-402b-bbe8-2f24747ea5f2",
   "metadata": {},
   "source": [
    "## Word count"
   ]
  },
  {
   "cell_type": "code",
   "execution_count": 66,
   "id": "244d0a46-3356-4024-9ee3-9a16f84d0a4f",
   "metadata": {},
   "outputs": [],
   "source": [
    "train_data['word_count'] = train_data['original_text'].apply(lambda x: len(x.split()))"
   ]
  },
  {
   "cell_type": "code",
   "execution_count": 67,
   "id": "27775e3b-55c8-4b9c-9c7b-4f860400dcef",
   "metadata": {},
   "outputs": [
    {
     "data": {
      "text/plain": [
       "count    6995.000000\n",
       "mean       44.541387\n",
       "std        92.940414\n",
       "min         7.000000\n",
       "25%        20.000000\n",
       "50%        23.000000\n",
       "75%        35.000000\n",
       "max      2500.000000\n",
       "Name: word_count, dtype: float64"
      ]
     },
     "execution_count": 67,
     "metadata": {},
     "output_type": "execute_result"
    }
   ],
   "source": [
    "train_data['word_count'].describe()"
   ]
  },
  {
   "cell_type": "code",
   "execution_count": 68,
   "id": "8151a2a0-0d79-42d8-91b0-ee94ab3c8040",
   "metadata": {},
   "outputs": [
    {
     "data": {
      "image/png": "[encoded data removed]",
      "text/plain": [
       "<Figure size 360x360 with 1 Axes>"
      ]
     },
     "metadata": {
      "needs_background": "light"
     },
     "output_type": "display_data"
    }
   ],
   "source": [
    "sns.displot(train_data['word_count'], kind='kde')\n",
    "plt.title('Train Data Word Count')\n",
    "plt.show()"
   ]
  },
  {
   "cell_type": "code",
   "execution_count": 69,
   "id": "2c16baae-e972-4295-90a4-ce064162800c",
   "metadata": {},
   "outputs": [],
   "source": [
    "test_data['word_count'] = test_data['original_text'].apply(lambda x: len(x.split()))"
   ]
  },
  {
   "cell_type": "code",
   "execution_count": 70,
   "id": "c3fdb594-ea4b-4ece-b949-1afaa9ebeeb7",
   "metadata": {},
   "outputs": [
    {
     "data": {
      "text/plain": [
       "count    778.000000\n",
       "mean      37.255784\n",
       "std       56.557781\n",
       "min       11.000000\n",
       "25%       20.000000\n",
       "50%       23.000000\n",
       "75%       34.000000\n",
       "max      748.000000\n",
       "Name: word_count, dtype: float64"
      ]
     },
     "execution_count": 70,
     "metadata": {},
     "output_type": "execute_result"
    }
   ],
   "source": [
    "test_data['word_count'].describe()"
   ]
  },
  {
   "cell_type": "code",
   "execution_count": 71,
   "id": "446e634f-2a28-4be6-a62f-e6b80ed0892d",
   "metadata": {},
   "outputs": [
    {
     "data": {
      "image/png": "[encoded data removed]",
      "text/plain": [
       "<Figure size 360x360 with 1 Axes>"
      ]
     },
     "metadata": {
      "needs_background": "light"
     },
     "output_type": "display_data"
    }
   ],
   "source": [
    "sns.displot(test_data['word_count'], kind='kde')\n",
    "plt.title('Test Data Word Count')\n",
    "plt.show()"
   ]
  },
  {
   "cell_type": "markdown",
   "id": "b4dec019-3d09-4422-8fe9-7ae970a16049",
   "metadata": {
    "tags": []
   },
   "source": [
    "## Text analysis"
   ]
  },
  {
   "cell_type": "code",
   "execution_count": 79,
   "id": "e16ac2b3-d395-4618-a950-d3a14d7b7462",
   "metadata": {},
   "outputs": [
    {
     "name": "stdout",
     "output_type": "stream",
     "text": [
      "TEXT 1\n",
      "[QUOTE=jessepinkman16;5a50ac34d89b093f368b456e]jabar emng propinsi barokah :lehuga[/QUOTE]\\n\\nWOI, ANJING GOBLOK\\nPROPINSI YANG PALING BANYAK NGERUSAK DAN NGEBAKAR GEREJA ITU JATIM, GAK LU SEBUT PROPINSI LUMBUNG NASBUNG TUH JATIM?\\nPROPINSI PENGHASIL GEMBONG TERORIS TERBANYAK ITU JATENG, GAK LU SEBUT LUMBUNG NASBUNG TUH JATENG?\\nNGARANG STEREOTIP KOK PILIAH PILIH?\\nBANGGSAT LU PECUN\n",
      "\n",
      "TEXT 2\n",
      "@verosvante kita2 aja nitizen yang pada kepo,toh keluarga besar pasti udh pada tau,situ jg kalo urusan nya diurusin orang pasti ngamuk2,ngedumel \"ngasih makan engga sibuk ngurusin urusan gw\"yakan?setiap orang pnya cara masng2 buat mensyukuri kebahagiaannya ,ada yg di publis ada yg disimpen yg pntng tujuannya apa!trus kalo soal hijrahnya karna habib ya berarti Allah ngasih jalannya lewat situ,kan jalan hijrah manusia itu msng2 pintunya ,jgn so tau makanya\n",
      "TEXT 3\n",
      "\"#SidangAhok smg sipenista agama n ateknya matinya tdk wjar n jasadnya tdk dtrma tnh n dia tdk prnh mrs kn sorga,aamiin semoga tuhan setuju\"\n",
      "TEXT 4\n",
      "@bolususulembang.jkt barusan baca undang2 ini. Tetep dibedakan kok antara presiden dan mantan presiden. Di bagian mantan presiden tidak termasuk pengamanan utk anak dan menantu, melainkan hanya mantan presiden beserta istri/suami saja. Itu boleh masuk sampe situ mungkin krn VIP dimana saya yg rakyat biasa pun bisa. Kroscek lg mas sebelum ngegas 😋\n",
      "TEXT 5\n",
      "bikin anak mulu lu nof \\nkaga mikir apa kasian anak lu nanti bakalan malu punya bapak kelakuan kaya elu\n",
      "\n",
      "TEXT 6\n",
      "Itu membuktikan bahwa rakyat Malaysia Anti-Cinak. Indonesia pun juga tp masih malu2. Kita tunggu gerakan anti cina di Indonesia\n",
      "\n",
      "TEXT 7\n",
      "@BasherRL heh kontol, jan sok pemes lu di rp, muka kek memek, org tua lu kek monyet, agama lu aje agama kontol 38\n",
      "TEXT 8\n",
      "@ongbaotek eh memek diem lo pala lo kaya kontol! Muka lo kaya memek! Dasar gigolo! Punya penyakit kelamin ya lo? Wakkakaka\n",
      "TEXT 9\n",
      "Mungkin akibat memakai gorden di pala menghambat aliran oksigen ke otak menyebabkan intelejensia menurun drastis ..\\n\\nSampe2 liat miskiner kriditan bawa motor aja terpesona, buka hati n buka paha ..\n",
      "\n",
      "TEXT 10\n",
      "E kaka nona yg paling bodoh dan goblok Manokwari sekarang so jadi ibu kota Propinsi Papua barat Kaka,bodoh jangan dipiara Kaka e\n"
     ]
    }
   ],
   "source": [
    "# Train data examples original text\n",
    "\n",
    "for i in range(10):\n",
    "    print(f'TEXT {i + 1}')\n",
    "    print(train_data['original_text'].values[i])"
   ]
  },
  {
   "cell_type": "code",
   "execution_count": null,
   "id": "7c21762f-1374-47e7-80c0-496bf61bf828",
   "metadata": {},
   "outputs": [],
   "source": []
  }
 ],
 "metadata": {
  "kernelspec": {
   "display_name": "Python 3 (ipykernel)",
   "language": "python",
   "name": "python3"
  },
  "language_info": {
   "codemirror_mode": {
    "name": "ipython",
    "version": 3
   },
   "file_extension": ".py",
   "mimetype": "text/x-python",
   "name": "python",
   "nbconvert_exporter": "python",
   "pygments_lexer": "ipython3",
   "version": "3.10.5"
  }
 },
 "nbformat": 4,
 "nbformat_minor": 5
}
