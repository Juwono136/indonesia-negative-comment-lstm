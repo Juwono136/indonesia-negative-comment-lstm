{
 "cells": [
  {
   "cell_type": "markdown",
   "id": "c1c5a885-7177-40cb-aef0-70c11fe2cbf7",
   "metadata": {
    "tags": []
   },
   "source": [
    "# Import and setup environment"
   ]
  },
  {
   "cell_type": "code",
   "execution_count": 1,
   "id": "cefe49bc-d0f7-4fc8-a68d-62bdcf018f46",
   "metadata": {},
   "outputs": [],
   "source": [
    "import numpy as np\n",
    "import pandas as pd"
   ]
  },
  {
   "cell_type": "markdown",
   "id": "6d4152c1-067f-4705-96f7-30e7f8db2c7e",
   "metadata": {
    "tags": []
   },
   "source": [
    "# Load data"
   ]
  },
  {
   "cell_type": "code",
   "execution_count": 2,
   "id": "32fabfbd-e3ba-41d4-ad9b-28a2d9e94cb0",
   "metadata": {},
   "outputs": [],
   "source": [
    "EXTERNAL_DATA_PATH = './data/external'\n",
    "RAW_DATA_PATH = './data/raw'\n",
    "PROCESSED_DATA_PATH = './data/processed'"
   ]
  },
  {
   "cell_type": "code",
   "execution_count": 3,
   "id": "a79bef73-6a02-4293-9ea6-4c92e645e4c6",
   "metadata": {},
   "outputs": [],
   "source": [
    "train_data = pd.read_csv(f'{RAW_DATA_PATH}/train.csv')\n",
    "test_data = pd.read_csv(f'{RAW_DATA_PATH}/test.csv')"
   ]
  },
  {
   "cell_type": "code",
   "execution_count": 4,
   "id": "b35da7d9-46a3-4a46-9cc1-ffb0e0f0f0af",
   "metadata": {},
   "outputs": [
    {
     "data": {
      "text/html": [
       "<div>\n",
       "<style scoped>\n",
       "    .dataframe tbody tr th:only-of-type {\n",
       "        vertical-align: middle;\n",
       "    }\n",
       "\n",
       "    .dataframe tbody tr th {\n",
       "        vertical-align: top;\n",
       "    }\n",
       "\n",
       "    .dataframe thead th {\n",
       "        text-align: right;\n",
       "    }\n",
       "</style>\n",
       "<table border=\"1\" class=\"dataframe\">\n",
       "  <thead>\n",
       "    <tr style=\"text-align: right;\">\n",
       "      <th></th>\n",
       "      <th>original_text</th>\n",
       "      <th>source</th>\n",
       "      <th>pornografi</th>\n",
       "      <th>sara</th>\n",
       "      <th>radikalisme</th>\n",
       "      <th>pencemaran_nama_baik</th>\n",
       "    </tr>\n",
       "  </thead>\n",
       "  <tbody>\n",
       "    <tr>\n",
       "      <th>0</th>\n",
       "      <td>[QUOTE=jessepinkman16;5a50ac34d89b093f368b456e...</td>\n",
       "      <td>kaskus</td>\n",
       "      <td>0</td>\n",
       "      <td>0</td>\n",
       "      <td>0</td>\n",
       "      <td>1</td>\n",
       "    </tr>\n",
       "    <tr>\n",
       "      <th>1</th>\n",
       "      <td>@verosvante kita2 aja nitizen yang pada kepo,t...</td>\n",
       "      <td>instagram</td>\n",
       "      <td>0</td>\n",
       "      <td>0</td>\n",
       "      <td>0</td>\n",
       "      <td>0</td>\n",
       "    </tr>\n",
       "    <tr>\n",
       "      <th>2</th>\n",
       "      <td>\"#SidangAhok smg sipenista agama n ateknya mat...</td>\n",
       "      <td>twitter</td>\n",
       "      <td>0</td>\n",
       "      <td>1</td>\n",
       "      <td>1</td>\n",
       "      <td>1</td>\n",
       "    </tr>\n",
       "    <tr>\n",
       "      <th>3</th>\n",
       "      <td>@bolususulembang.jkt barusan baca undang2 ini....</td>\n",
       "      <td>instagram</td>\n",
       "      <td>0</td>\n",
       "      <td>0</td>\n",
       "      <td>0</td>\n",
       "      <td>0</td>\n",
       "    </tr>\n",
       "    <tr>\n",
       "      <th>4</th>\n",
       "      <td>bikin anak mulu lu nof \\nkaga mikir apa kasian...</td>\n",
       "      <td>kaskus</td>\n",
       "      <td>0</td>\n",
       "      <td>0</td>\n",
       "      <td>0</td>\n",
       "      <td>0</td>\n",
       "    </tr>\n",
       "  </tbody>\n",
       "</table>\n",
       "</div>"
      ],
      "text/plain": [
       "                                       original_text     source  pornografi  \\\n",
       "0  [QUOTE=jessepinkman16;5a50ac34d89b093f368b456e...     kaskus           0   \n",
       "1  @verosvante kita2 aja nitizen yang pada kepo,t...  instagram           0   \n",
       "2  \"#SidangAhok smg sipenista agama n ateknya mat...    twitter           0   \n",
       "3  @bolususulembang.jkt barusan baca undang2 ini....  instagram           0   \n",
       "4  bikin anak mulu lu nof \\nkaga mikir apa kasian...     kaskus           0   \n",
       "\n",
       "   sara  radikalisme  pencemaran_nama_baik  \n",
       "0     0            0                     1  \n",
       "1     0            0                     0  \n",
       "2     1            1                     1  \n",
       "3     0            0                     0  \n",
       "4     0            0                     0  "
      ]
     },
     "execution_count": 4,
     "metadata": {},
     "output_type": "execute_result"
    }
   ],
   "source": [
    "train_data.head()"
   ]
  },
  {
   "cell_type": "code",
   "execution_count": 5,
   "id": "509e5ed8-e6b1-43e7-97dc-2f85bc8dd355",
   "metadata": {},
   "outputs": [
    {
     "data": {
      "text/html": [
       "<div>\n",
       "<style scoped>\n",
       "    .dataframe tbody tr th:only-of-type {\n",
       "        vertical-align: middle;\n",
       "    }\n",
       "\n",
       "    .dataframe tbody tr th {\n",
       "        vertical-align: top;\n",
       "    }\n",
       "\n",
       "    .dataframe thead th {\n",
       "        text-align: right;\n",
       "    }\n",
       "</style>\n",
       "<table border=\"1\" class=\"dataframe\">\n",
       "  <thead>\n",
       "    <tr style=\"text-align: right;\">\n",
       "      <th></th>\n",
       "      <th>original_text</th>\n",
       "      <th>source</th>\n",
       "      <th>pornografi</th>\n",
       "      <th>sara</th>\n",
       "      <th>radikalisme</th>\n",
       "      <th>pencemaran_nama_baik</th>\n",
       "    </tr>\n",
       "  </thead>\n",
       "  <tbody>\n",
       "    <tr>\n",
       "      <th>0</th>\n",
       "      <td>1.BUKAN CM SPANDUK PROF,VIDEO2 ORASI MEREKA, B...</td>\n",
       "      <td>twitter</td>\n",
       "      <td>0</td>\n",
       "      <td>0</td>\n",
       "      <td>1</td>\n",
       "      <td>0</td>\n",
       "    </tr>\n",
       "    <tr>\n",
       "      <th>1</th>\n",
       "      <td>@memeqbeceq gy sange'gatel yh tetek'memekY drn...</td>\n",
       "      <td>twitter</td>\n",
       "      <td>1</td>\n",
       "      <td>0</td>\n",
       "      <td>0</td>\n",
       "      <td>0</td>\n",
       "    </tr>\n",
       "    <tr>\n",
       "      <th>2</th>\n",
       "      <td>Pertama kali denger lagunya enk bgt in dan png...</td>\n",
       "      <td>instagram</td>\n",
       "      <td>0</td>\n",
       "      <td>0</td>\n",
       "      <td>0</td>\n",
       "      <td>0</td>\n",
       "    </tr>\n",
       "    <tr>\n",
       "      <th>3</th>\n",
       "      <td>astajim, ini pasti yg kasih penghargaan ke ibu...</td>\n",
       "      <td>kaskus</td>\n",
       "      <td>0</td>\n",
       "      <td>0</td>\n",
       "      <td>0</td>\n",
       "      <td>0</td>\n",
       "    </tr>\n",
       "    <tr>\n",
       "      <th>4</th>\n",
       "      <td>beda kalo disini kalo komplain lgs di bully am...</td>\n",
       "      <td>kaskus</td>\n",
       "      <td>0</td>\n",
       "      <td>0</td>\n",
       "      <td>0</td>\n",
       "      <td>0</td>\n",
       "    </tr>\n",
       "  </tbody>\n",
       "</table>\n",
       "</div>"
      ],
      "text/plain": [
       "                                       original_text     source  pornografi  \\\n",
       "0  1.BUKAN CM SPANDUK PROF,VIDEO2 ORASI MEREKA, B...    twitter           0   \n",
       "1  @memeqbeceq gy sange'gatel yh tetek'memekY drn...    twitter           1   \n",
       "2  Pertama kali denger lagunya enk bgt in dan png...  instagram           0   \n",
       "3  astajim, ini pasti yg kasih penghargaan ke ibu...     kaskus           0   \n",
       "4  beda kalo disini kalo komplain lgs di bully am...     kaskus           0   \n",
       "\n",
       "   sara  radikalisme  pencemaran_nama_baik  \n",
       "0     0            1                     0  \n",
       "1     0            0                     0  \n",
       "2     0            0                     0  \n",
       "3     0            0                     0  \n",
       "4     0            0                     0  "
      ]
     },
     "execution_count": 5,
     "metadata": {},
     "output_type": "execute_result"
    }
   ],
   "source": [
    "test_data.head()"
   ]
  },
  {
   "cell_type": "markdown",
   "id": "38416f7e-0258-4d2a-bfdc-29bdad05481d",
   "metadata": {
    "tags": []
   },
   "source": [
    "# Preprocess data"
   ]
  },
  {
   "cell_type": "markdown",
   "id": "b4e1ce86-7175-4fe9-9671-a4bedd15f671",
   "metadata": {
    "tags": []
   },
   "source": [
    "### Translate text based on emojis"
   ]
  },
  {
   "cell_type": "code",
   "execution_count": 9,
   "id": "051726c6-5d0d-4ef8-9ab0-af965b74502a",
   "metadata": {},
   "outputs": [],
   "source": [
    "import re\n",
    "\n",
    "# translate emoticon\n",
    "EMOTICON_DATA_PATH = f'{EXTERNAL_DATA_PATH}/emoticon.txt'\n",
    "emoticon_df = pd.read_csv(EMOTICON_DATA_PATH, sep='\\t', header=None)\n",
    "emoticon_dict = dict(zip(emoticon_df[0], emoticon_df[1]))\n",
    "\n",
    "def translate_emoticon(t):\n",
    "    for w, v in emoticon_dict.items():\n",
    "        pattern = re.compile(re.escape(w))\n",
    "        match = re.search(pattern, t)\n",
    "        if match:\n",
    "            t = re.sub(pattern, v, t)\n",
    "    return t"
   ]
  },
  {
   "cell_type": "code",
   "execution_count": 10,
   "id": "41d0192b-8f7d-4ceb-b7e2-fa53f8802a0a",
   "metadata": {},
   "outputs": [
    {
     "name": "stdout",
     "output_type": "stream",
     "text": [
      "Before : senang sekali berada disini :)\n",
      "After : senang sekali berada disini Senyum\n"
     ]
    }
   ],
   "source": [
    "sample_text = 'senang sekali berada disini :)'\n",
    "\n",
    "print(f'Before : {sample_text}')\n",
    "print(f'After : {translate_emoticon(sample_text)}')"
   ]
  },
  {
   "cell_type": "markdown",
   "id": "4a6960bf-f3b4-4c7f-bb6e-73e85425ec65",
   "metadata": {},
   "source": [
    "### Remove excessive newline"
   ]
  },
  {
   "cell_type": "code",
   "execution_count": 11,
   "id": "8a494e55-df37-4908-957e-53963fa0666f",
   "metadata": {},
   "outputs": [],
   "source": [
    "def remove_newline(text):\n",
    "    return re.sub('\\n', ' ', text)"
   ]
  },
  {
   "cell_type": "code",
   "execution_count": 12,
   "id": "164f9549-8339-4352-8dd0-080d8295f939",
   "metadata": {},
   "outputs": [
    {
     "name": "stdout",
     "output_type": "stream",
     "text": [
      "Before : halo saya\n",
      "adalah\n",
      "mahasiswa\n",
      "After : halo saya adalah mahasiswa\n"
     ]
    }
   ],
   "source": [
    "sample_text = 'halo saya\\nadalah\\nmahasiswa'\n",
    "\n",
    "print(f'Before : {sample_text}')\n",
    "print(f'After : {remove_newline(sample_text)}')"
   ]
  },
  {
   "cell_type": "markdown",
   "id": "a0e249e8-421a-4364-af46-eb4ceaac3061",
   "metadata": {
    "tags": []
   },
   "source": [
    "### Remove kaskus formatting"
   ]
  },
  {
   "cell_type": "code",
   "execution_count": 13,
   "id": "12965565-37df-4a9e-b2a4-1888e35d2d84",
   "metadata": {},
   "outputs": [],
   "source": [
    "def remove_kaskus_formatting(text):\n",
    "    text = re.sub('\\[', ' [', text)\n",
    "    text = re.sub('\\]', '] ', text)\n",
    "    text = re.sub('\\[quote[^ ]*\\].*?\\[\\/quote\\]', ' ', text)\n",
    "    text = re.sub('\\[[^ ]*\\]', ' ', text)\n",
    "    text = re.sub('\"', ' ', text)\n",
    "    return text"
   ]
  },
  {
   "cell_type": "code",
   "execution_count": 15,
   "id": "0e85e82e-fad7-40a6-95ba-711fda053008",
   "metadata": {},
   "outputs": [
    {
     "name": "stdout",
     "output_type": "stream",
     "text": [
      "Before : [QUOTE=jessepinkman16;5a50ac34d89b093f368b456e]yoiii cuy halo semuanya[/QUOTE]\n",
      "After  :    yoiii cuy halo semuanya   \n"
     ]
    }
   ],
   "source": [
    "sample_text = '[QUOTE=jessepinkman16;5a50ac34d89b093f368b456e]yoiii cuy halo semuanya[/QUOTE]'\n",
    "\n",
    "print(f'Before : {sample_text}')\n",
    "print(f'After  : {remove_kaskus_formatting(sample_text)}')"
   ]
  },
  {
   "cell_type": "markdown",
   "id": "9c56efb4-6e89-49e2-8d42-4bf79c448e81",
   "metadata": {},
   "source": [
    "### Remove url"
   ]
  },
  {
   "cell_type": "code",
   "execution_count": 16,
   "id": "29d52371-7d7b-47c5-9964-5f297f141b73",
   "metadata": {},
   "outputs": [],
   "source": [
    "def remove_url(text):\n",
    "    return re.sub('((www\\.[^\\s]+)|(https?://[^\\s]+)|(http?://[^\\s]+))', '', text)"
   ]
  },
  {
   "cell_type": "code",
   "execution_count": 34,
   "id": "d94d375e-4431-4592-9a45-bae8b60351e4",
   "metadata": {},
   "outputs": [
    {
     "name": "stdout",
     "output_type": "stream",
     "text": [
      "Before : kemaren gua liat infonya di sini https://www.instagram.com/uno_136/\n",
      "After  : kemaren gua liat infonya di sini \n"
     ]
    }
   ],
   "source": [
    "sample_text = 'kemaren gua liat infonya di sini https://www.instagram.com/uno_136/'\n",
    "\n",
    "print(f'Before : {sample_text}')\n",
    "print(f'After  : {remove_url(sample_text)}')"
   ]
  },
  {
   "cell_type": "markdown",
   "id": "7349e814-5d7c-4c62-869e-c15533be5b86",
   "metadata": {},
   "source": [
    "### Remove excessive whitespace"
   ]
  },
  {
   "cell_type": "code",
   "execution_count": 18,
   "id": "311505ff-dd38-431c-b9e5-3fcd143e5f88",
   "metadata": {},
   "outputs": [],
   "source": [
    "def remove_excessive_whitespace(text):\n",
    "    return re.sub('  +', ' ', text)"
   ]
  },
  {
   "cell_type": "code",
   "execution_count": 35,
   "id": "de6a79a5-cdd1-4878-9778-2fe14d3e8a2a",
   "metadata": {},
   "outputs": [
    {
     "name": "stdout",
     "output_type": "stream",
     "text": [
      "Before : budi      pergi ke           pasar\n",
      "After  : budi pergi ke pasar\n"
     ]
    }
   ],
   "source": [
    "sample_text = 'budi      pergi ke           pasar'\n",
    "\n",
    "print(f'Before : {sample_text}')\n",
    "print(f'After  : {remove_excessive_whitespace(sample_text)}')"
   ]
  },
  {
   "cell_type": "markdown",
   "id": "60724652-f6d0-45bd-af3b-f3399880f3cc",
   "metadata": {},
   "source": [
    "### Tokenize text for word punctuation"
   ]
  },
  {
   "cell_type": "code",
   "execution_count": 21,
   "id": "b5fe917c-4b9e-4b80-8ac0-e4e9573d33e0",
   "metadata": {},
   "outputs": [],
   "source": [
    "from nltk.tokenize import WordPunctTokenizer\n",
    "\n",
    "def tokenize_text(text, punct=False):\n",
    "    text = WordPunctTokenizer().tokenize(text)\n",
    "    text = [word for word in text if punct or word.isalnum()]\n",
    "    text = ' '.join(text)\n",
    "    text = text.strip()\n",
    "    return text"
   ]
  },
  {
   "cell_type": "code",
   "execution_count": 36,
   "id": "90e45267-1cf1-4303-b279-296c4744f9a3",
   "metadata": {},
   "outputs": [
    {
     "name": "stdout",
     "output_type": "stream",
     "text": [
      "Before : kemarin, aku pergi ke jakarta. Lalu ketemu si Dimas.\n",
      "After  : kemarin aku pergi ke jakarta Lalu ketemu si Dimas\n"
     ]
    }
   ],
   "source": [
    "sample_text = 'kemarin, aku pergi ke jakarta. Lalu ketemu si Dimas.'\n",
    "\n",
    "print(f'Before : {sample_text}')\n",
    "print(f'After  : {tokenize_text(sample_text)}')"
   ]
  },
  {
   "cell_type": "markdown",
   "id": "5882ba07-e303-4d66-8290-135acbc7dd9e",
   "metadata": {},
   "source": [
    "### Transform slang words"
   ]
  },
  {
   "cell_type": "code",
   "execution_count": 23,
   "id": "8d1b265d-b8ef-45dc-b6ed-4d381e0f9be0",
   "metadata": {},
   "outputs": [],
   "source": [
    "slang_words = pd.read_csv(f'{EXTERNAL_DATA_PATH}/slangword.csv')\n",
    "slang_dict = dict(zip(slang_words['original'], slang_words['translated']))\n",
    "\n",
    "def transform_slang_words(text):\n",
    "    word_list = text.split()\n",
    "    word_list_len = len(word_list)\n",
    "    transformed_word_list = []\n",
    "    i = 0\n",
    "    while i < word_list_len:\n",
    "        if (i + 1) < word_list_len:\n",
    "            two_words = ' '.join(word_list[i:i+2])\n",
    "            if two_words in slang_dict:\n",
    "                transformed_word_list.append(slang_dict[two_words])\n",
    "                i += 2\n",
    "                continue\n",
    "        transformed_word_list.append(slang_dict.get(word_list[i], word_list[i]))\n",
    "        i += 1\n",
    "    return ' '.join(transformed_word_list)"
   ]
  },
  {
   "cell_type": "code",
   "execution_count": 37,
   "id": "93696f86-ead3-4598-9a4b-b8d474094c6f",
   "metadata": {},
   "outputs": [
    {
     "name": "stdout",
     "output_type": "stream",
     "text": [
      "Before : siap mas sebentar lagi saya sampai 7an\n",
      "After  : siap mas sebentar lagi saya sampai tujuan\n"
     ]
    }
   ],
   "source": [
    "sample_text = 'siap mas sebentar lagi saya sampai 7an'\n",
    "\n",
    "print(f'Before : {sample_text}')\n",
    "print(f'After  : {transform_slang_words(sample_text)}')"
   ]
  },
  {
   "cell_type": "markdown",
   "id": "e2223a98-53a3-4776-b5b4-bcc81950dc85",
   "metadata": {},
   "source": [
    "### Remove non alphabet"
   ]
  },
  {
   "cell_type": "code",
   "execution_count": 31,
   "id": "0e3930ae-6ac2-4fb8-8d90-75ea928c209f",
   "metadata": {},
   "outputs": [],
   "source": [
    "def remove_non_alphabet(text):\n",
    "    output = re.sub('[^a-zA-Z ]+', '', text)\n",
    "    return output"
   ]
  },
  {
   "cell_type": "code",
   "execution_count": 38,
   "id": "93ec8cf9-e2c0-48ee-9aed-ecebccf67b7e",
   "metadata": {},
   "outputs": [
    {
     "name": "stdout",
     "output_type": "stream",
     "text": [
      "Before : kemaren tu123 ada kelinci di kebun\n",
      "After  : kemaren tu ada kelinci di kebun\n"
     ]
    }
   ],
   "source": [
    "sample_text = 'kemaren tu123 ada kelinci di kebun'\n",
    "\n",
    "print(f'Before : {sample_text}')\n",
    "print(f'After  : {remove_non_alphabet(sample_text)}')"
   ]
  },
  {
   "cell_type": "markdown",
   "id": "2210ceb9-3ed8-4bcd-89f1-88f446594d50",
   "metadata": {},
   "source": [
    "### Remove twitter & instagram formatting"
   ]
  },
  {
   "cell_type": "code",
   "execution_count": 39,
   "id": "06ffc4f3-7980-4bc1-9bbc-6be544542a2b",
   "metadata": {},
   "outputs": [],
   "source": [
    "def remove_twitter_ig_formatting(text):\n",
    "    text = re.sub(r'@[A-Za-z0-9]+', '', text)\n",
    "    text = re.sub(r'\\brt\\b', '', text)\n",
    "    return text"
   ]
  },
  {
   "cell_type": "code",
   "execution_count": 40,
   "id": "0e8b3487-f7ab-408e-a955-8e90a3186e81",
   "metadata": {},
   "outputs": [
    {
     "name": "stdout",
     "output_type": "stream",
     "text": [
      "Before : @uno136 menurut saya hal tersebut masih kurang baik dilakukan sih kak\n",
      "After  :  menurut saya hal tersebut masih kurang baik dilakukan sih kak\n"
     ]
    }
   ],
   "source": [
    "sample_text = '@uno136 menurut saya hal tersebut masih kurang baik dilakukan sih kak'\n",
    "\n",
    "print(f'Before : {sample_text}')\n",
    "print(f'After  : {remove_twitter_ig_formatting(sample_text)}')"
   ]
  },
  {
   "cell_type": "markdown",
   "id": "53c21a18-7913-4f03-b98c-583f4f4f4b77",
   "metadata": {},
   "source": [
    "### Remove repeating characters"
   ]
  },
  {
   "cell_type": "code",
   "execution_count": 41,
   "id": "dd67bf94-2253-454e-b928-35288675329a",
   "metadata": {},
   "outputs": [],
   "source": [
    "import itertools\n",
    "\n",
    "def remove_repeating_characters(text):\n",
    "    return ''.join(''.join(s)[:1] for _, s in itertools.groupby(text))"
   ]
  },
  {
   "cell_type": "code",
   "execution_count": 42,
   "id": "070ceed2-43a5-4ca3-a66c-53177889145e",
   "metadata": {},
   "outputs": [
    {
     "name": "stdout",
     "output_type": "stream",
     "text": [
      "Before : heyyyyyyyyyyyyyyyyyyyy tadi ada apaan?\n",
      "After  : hey tadi ada apan?\n"
     ]
    }
   ],
   "source": [
    "sample_text = 'heyyyyyyyyyyyyyyyyyyyy tadi ada apaan?'\n",
    "\n",
    "print(f'Before : {sample_text}')\n",
    "print(f'After  : {remove_repeating_characters(sample_text)}')"
   ]
  },
  {
   "cell_type": "markdown",
   "id": "7b6c01a7-2705-4762-8b85-3280897a78b6",
   "metadata": {},
   "source": [
    "### Final preprocessing"
   ]
  },
  {
   "cell_type": "code",
   "execution_count": 43,
   "id": "8acef9d8-1220-48d0-af53-0a12e81218e1",
   "metadata": {},
   "outputs": [],
   "source": [
    "def preprocess_text(text):\n",
    "    transformed_text = text.lower()\n",
    "    transformed_text = remove_newline(text)\n",
    "    transformed_text = remove_url(transformed_text)\n",
    "    transformed_text = remove_twitter_ig_formatting(transformed_text)\n",
    "    transformed_text = remove_kaskus_formatting(transformed_text)\n",
    "    transformed_text = translate_emoticon(transformed_text)\n",
    "    transformed_text = transformed_text.lower()\n",
    "    transformed_text = tokenize_text(transformed_text)\n",
    "    transformed_text = transform_slang_words(transformed_text)\n",
    "    transformed_text = remove_repeating_characters(transformed_text)\n",
    "    transformed_text = transform_slang_words(transformed_text)\n",
    "    transformed_text = remove_non_alphabet(transformed_text)\n",
    "    transformed_text = remove_excessive_whitespace(transformed_text)\n",
    "    transformed_text = transformed_text.lower().strip()\n",
    "    return transformed_text"
   ]
  },
  {
   "cell_type": "markdown",
   "id": "537cd6d3-fc0e-4740-9990-1f3b90dd3015",
   "metadata": {
    "tags": []
   },
   "source": [
    "# Save preprocessed data"
   ]
  },
  {
   "cell_type": "code",
   "execution_count": 44,
   "id": "cb23e42c-81f0-46cd-b522-5c71264ad743",
   "metadata": {},
   "outputs": [],
   "source": [
    "train_data['processed_text'] = train_data['original_text'].apply(preprocess_text)\n",
    "test_data['processed_text'] = test_data['original_text'].apply(preprocess_text)"
   ]
  },
  {
   "cell_type": "code",
   "execution_count": 45,
   "id": "fe8530f2-0587-4a1d-ab99-ad4599688dc4",
   "metadata": {},
   "outputs": [],
   "source": [
    "train_data.to_csv(f'{PROCESSED_DATA_PATH}/processed_train.csv', index=False)\n",
    "test_data.to_csv(f'{PROCESSED_DATA_PATH}/processed_test.csv', index=False)"
   ]
  },
  {
   "cell_type": "code",
   "execution_count": null,
   "id": "9c1a3bcb-0e6e-41d4-bc05-a68ffbda33a5",
   "metadata": {},
   "outputs": [],
   "source": []
  }
 ],
 "metadata": {
  "kernelspec": {
   "display_name": "Python 3 (ipykernel)",
   "language": "python",
   "name": "python3"
  },
  "language_info": {
   "codemirror_mode": {
    "name": "ipython",
    "version": 3
   },
   "file_extension": ".py",
   "mimetype": "text/x-python",
   "name": "python",
   "nbconvert_exporter": "python",
   "pygments_lexer": "ipython3",
   "version": "3.10.5"
  }
 },
 "nbformat": 4,
 "nbformat_minor": 5
}
